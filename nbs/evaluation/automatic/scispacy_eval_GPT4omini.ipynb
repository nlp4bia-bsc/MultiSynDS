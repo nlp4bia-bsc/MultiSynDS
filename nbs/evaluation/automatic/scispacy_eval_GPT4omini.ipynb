{
 "cells": [
  {
   "cell_type": "markdown",
   "metadata": {},
   "source": [
    "# Use extracted entities to evaluate the quality"
   ]
  },
  {
   "cell_type": "markdown",
   "metadata": {},
   "source": [
    "- Not all the discipline are equal in terms of difficulty. A posteriori, choosing those that are more interesting for us.\n",
    "- BLEU and ROUGE are not good metrics because of paraphrasing.\n",
    "- Semantic similarity works well but cannot be enough. It is very easy for an LLM to generate similar content.\n",
    "- **Creation of ontology-based methods**:\n",
    "  - Run NER to input and output\n",
    "  - For each mention, compute similarity [lexical or semantic] to the ones in target and rank\n",
    "  - Get the most similar and calculate distance in ontology (see graph distances) and if it’s a parent or a child\n",
    "- Error Typology\n",
    "    - The closest one is a child of a non-matched input term \n",
    "    - Distance to input terms is higher than a given threshold\n",
    "    - Doesn’t match with any. Repeated or irrelevant information.\n",
    "\n",
    "- Few shot prompting (demasiado largo) con LLama\n",
    "- Chain of thought: pedir las entidades, ..."
   ]
  },
  {
   "cell_type": "code",
   "execution_count": 1,
   "metadata": {},
   "outputs": [],
   "source": [
    "import pandas as pd\n",
    "\n",
    "path_orig = \"output/data/ents_orig_scispacy.csv\"\n",
    "path_gen = \"output/data/2step_transformation_dt4h_GPT4omini/en/ents_gen_scispacy.csv\"\n",
    "path_cm = \"data/umls/cm_umls_sct_24.tsv\""
   ]
  },
  {
   "cell_type": "markdown",
   "metadata": {},
   "source": [
    "# Load Datasets"
   ]
  },
  {
   "cell_type": "code",
   "execution_count": 2,
   "metadata": {},
   "outputs": [
    {
     "name": "stdout",
     "output_type": "stream",
     "text": [
      "UMLS to SCT mapping:\n",
      " |    | code     |   sct_code |\n",
      "|---:|:---------|-----------:|\n",
      "|  0 | C0000039 |  102735002 |\n",
      "|  1 | C0000052 |   58488005 |\n",
      "|  2 | C0000097 |  285407008 |\n",
      "|  3 | C0000102 |   13579002 |\n",
      "|  4 | C0000163 |  112116001 | \n",
      "\n"
     ]
    }
   ],
   "source": [
    "df_umls_sct = pd.read_csv(path_cm, sep=\"\\t\", dtype=str)\n",
    "print(\"UMLS to SCT mapping:\\n\", df_umls_sct.head().to_markdown(), \"\\n\")\n"
   ]
  },
  {
   "cell_type": "code",
   "execution_count": 3,
   "metadata": {},
   "outputs": [
    {
     "name": "stdout",
     "output_type": "stream",
     "text": [
      "Original:\n",
      " |    |   filenameid | span                            | mention_class   | code     | term                       | normalized   |\n",
      "|---:|-------------:|:--------------------------------|:----------------|:---------|:---------------------------|:-------------|\n",
      "|  0 |   33175723_1 | Amyloid light-chain amyloidosis | DISEASE         | C0268381 | Primary amyloidosis        | True         |\n",
      "|  1 |   33175723_1 | cardiac amyloidosis             | DISEASE         | C0268407 | Senile cardiac amyloidosis | True         |\n",
      "|  2 |   33175723_1 | cardiomyopathy                  | DISEASE         | C0878544 | Cardiomyopathies           | True         |\n",
      "|  3 |   33175723_1 | heart failure                   | DISEASE         | C0018801 | Heart failure              | True         |\n",
      "|  4 |   33175723_1 | AL amyloidosis                  | DISEASE         | C0268381 | Primary amyloidosis        | True         | \n",
      "\n"
     ]
    }
   ],
   "source": [
    "df_orig = pd.read_csv(path_orig, dtype=str)\n",
    "df_orig[\"normalized\"] = True\n",
    "df_orig.loc[df_orig[\"code\"].isnull(), \"normalized\"] = False\n",
    "# df_orig = df_orig.merge(df_umls_sct, on=\"code\", how=\"left\")\n",
    "print(\"Original:\\n\", df_orig.head().to_markdown(), \"\\n\")"
   ]
  },
  {
   "cell_type": "code",
   "execution_count": 4,
   "metadata": {},
   "outputs": [
    {
     "name": "stdout",
     "output_type": "stream",
     "text": [
      "Generated:\n",
      " |    | filenameid                 | span                                           | mention_class   | code     | term                   | normalized   |\n",
      "|---:|:---------------------------|:-----------------------------------------------|:----------------|:---------|:-----------------------|:-------------|\n",
      "|  0 | 36951253_transformed_step1 | End-stage dilated non-ischaemic cardiomyopathy | DISEASE         | nan      | nan                    | False        |\n",
      "|  1 | 36951253_transformed_step1 | myocarditis                                    | DISEASE         | C0027059 | Myocarditis            | True         |\n",
      "|  2 | 36951253_transformed_step1 | sarcopenia                                     | DISEASE         | C0872084 | Sarcopenia             | True         |\n",
      "|  3 | 36951253_transformed_step1 | cardiac cachexia                               | DISEASE         | C0562491 | Cardiac cachexia       | True         |\n",
      "|  4 | 36951253_transformed_step1 | cardiorespiratory arrest                       | DISEASE         | C0600228 | Cardiopulmonary Arrest | True         | \n",
      "\n"
     ]
    }
   ],
   "source": [
    "\n",
    "df_gen = pd.read_csv(path_gen, dtype=str)\n",
    "df_gen[\"normalized\"] = True\n",
    "df_gen.loc[df_gen[\"code\"].isnull(), \"normalized\"] = False\n",
    "# df_gen = df_gen.merge(df_umls_sct, on=\"code\", how=\"left\")\n",
    "# df_gen[\"sct_code\"] = df_gen[\"sct_code\"].fillna(0).astype(int).astype(str).apply(lambda x: None if x == \"0\" else x)\n",
    "print(\"Generated:\\n\", df_gen.head().to_markdown(), \"\\n\")\n"
   ]
  },
  {
   "cell_type": "code",
   "execution_count": 11,
   "metadata": {},
   "outputs": [],
   "source": [
    "df_orig[\"filled_term\"] = df_orig[\"term\"]\n",
    "df_gen[\"filled_term\"] = df_gen[\"term\"]\n",
    "\n",
    "df_orig.loc[df_orig[\"normalized\"] == False, \"filled_term\"] = df_orig.loc[df_orig[\"normalized\"] == False, \"span\"]\n",
    "df_gen.loc[df_gen[\"normalized\"] == False, \"filled_term\"] =  df_gen.loc[df_gen[\"normalized\"] == False, \"span\"]\n",
    "\n",
    "df_orig[\"filled_term\"] = df_orig[\"filled_term\"] + \" (\" + df_orig[\"mention_class\"] + \")\"\n",
    "df_gen[\"filled_term\"] = df_gen[\"filled_term\"] + \" (\" + df_gen[\"mention_class\"] + \")\""
   ]
  },
  {
   "cell_type": "code",
   "execution_count": 12,
   "metadata": {},
   "outputs": [
    {
     "data": {
      "text/html": [
       "<div>\n",
       "<style scoped>\n",
       "    .dataframe tbody tr th:only-of-type {\n",
       "        vertical-align: middle;\n",
       "    }\n",
       "\n",
       "    .dataframe tbody tr th {\n",
       "        vertical-align: top;\n",
       "    }\n",
       "\n",
       "    .dataframe thead th {\n",
       "        text-align: right;\n",
       "    }\n",
       "</style>\n",
       "<table border=\"1\" class=\"dataframe\">\n",
       "  <thead>\n",
       "    <tr style=\"text-align: right;\">\n",
       "      <th></th>\n",
       "      <th>filenameid</th>\n",
       "      <th>span</th>\n",
       "      <th>mention_class</th>\n",
       "      <th>code</th>\n",
       "      <th>term</th>\n",
       "      <th>normalized</th>\n",
       "      <th>filled_term</th>\n",
       "    </tr>\n",
       "  </thead>\n",
       "  <tbody>\n",
       "    <tr>\n",
       "      <th>0</th>\n",
       "      <td>36951253_transformed_step1</td>\n",
       "      <td>End-stage dilated non-ischaemic cardiomyopathy</td>\n",
       "      <td>DISEASE</td>\n",
       "      <td>NaN</td>\n",
       "      <td>NaN</td>\n",
       "      <td>False</td>\n",
       "      <td>End-stage dilated non-ischaemic cardiomyopathy...</td>\n",
       "    </tr>\n",
       "    <tr>\n",
       "      <th>1</th>\n",
       "      <td>36951253_transformed_step1</td>\n",
       "      <td>myocarditis</td>\n",
       "      <td>DISEASE</td>\n",
       "      <td>C0027059</td>\n",
       "      <td>Myocarditis</td>\n",
       "      <td>True</td>\n",
       "      <td>Myocarditis (DISEASE)</td>\n",
       "    </tr>\n",
       "    <tr>\n",
       "      <th>2</th>\n",
       "      <td>36951253_transformed_step1</td>\n",
       "      <td>sarcopenia</td>\n",
       "      <td>DISEASE</td>\n",
       "      <td>C0872084</td>\n",
       "      <td>Sarcopenia</td>\n",
       "      <td>True</td>\n",
       "      <td>Sarcopenia (DISEASE)</td>\n",
       "    </tr>\n",
       "    <tr>\n",
       "      <th>3</th>\n",
       "      <td>36951253_transformed_step1</td>\n",
       "      <td>cardiac cachexia</td>\n",
       "      <td>DISEASE</td>\n",
       "      <td>C0562491</td>\n",
       "      <td>Cardiac cachexia</td>\n",
       "      <td>True</td>\n",
       "      <td>Cardiac cachexia (DISEASE)</td>\n",
       "    </tr>\n",
       "    <tr>\n",
       "      <th>4</th>\n",
       "      <td>36951253_transformed_step1</td>\n",
       "      <td>cardiorespiratory arrest</td>\n",
       "      <td>DISEASE</td>\n",
       "      <td>C0600228</td>\n",
       "      <td>Cardiopulmonary Arrest</td>\n",
       "      <td>True</td>\n",
       "      <td>Cardiopulmonary Arrest (DISEASE)</td>\n",
       "    </tr>\n",
       "    <tr>\n",
       "      <th>...</th>\n",
       "      <td>...</td>\n",
       "      <td>...</td>\n",
       "      <td>...</td>\n",
       "      <td>...</td>\n",
       "      <td>...</td>\n",
       "      <td>...</td>\n",
       "      <td>...</td>\n",
       "    </tr>\n",
       "    <tr>\n",
       "      <th>25279</th>\n",
       "      <td>33045427_transformed_step1</td>\n",
       "      <td>cardiotropic infectious</td>\n",
       "      <td>DISEASE</td>\n",
       "      <td>NaN</td>\n",
       "      <td>NaN</td>\n",
       "      <td>False</td>\n",
       "      <td>cardiotropic infectious (DISEASE)</td>\n",
       "    </tr>\n",
       "    <tr>\n",
       "      <th>25280</th>\n",
       "      <td>33045427_transformed_step1</td>\n",
       "      <td>post-EMB</td>\n",
       "      <td>CHEMICAL</td>\n",
       "      <td>NaN</td>\n",
       "      <td>NaN</td>\n",
       "      <td>False</td>\n",
       "      <td>post-EMB (CHEMICAL)</td>\n",
       "    </tr>\n",
       "    <tr>\n",
       "      <th>25281</th>\n",
       "      <td>33045427_transformed_step1</td>\n",
       "      <td>CD45R0</td>\n",
       "      <td>CHEMICAL</td>\n",
       "      <td>C3891563</td>\n",
       "      <td>CD45RO, human</td>\n",
       "      <td>True</td>\n",
       "      <td>CD45RO, human (CHEMICAL)</td>\n",
       "    </tr>\n",
       "    <tr>\n",
       "      <th>25282</th>\n",
       "      <td>33045427_transformed_step1</td>\n",
       "      <td>CD11a+</td>\n",
       "      <td>CHEMICAL</td>\n",
       "      <td>C0079091</td>\n",
       "      <td>CD11a Antigen</td>\n",
       "      <td>True</td>\n",
       "      <td>CD11a Antigen (CHEMICAL)</td>\n",
       "    </tr>\n",
       "    <tr>\n",
       "      <th>25283</th>\n",
       "      <td>33045427_transformed_step1</td>\n",
       "      <td>CD11b+</td>\n",
       "      <td>CHEMICAL</td>\n",
       "      <td>C1136310</td>\n",
       "      <td>CD11b Antigens</td>\n",
       "      <td>True</td>\n",
       "      <td>CD11b Antigens (CHEMICAL)</td>\n",
       "    </tr>\n",
       "  </tbody>\n",
       "</table>\n",
       "<p>25284 rows × 7 columns</p>\n",
       "</div>"
      ],
      "text/plain": [
       "                       filenameid  \\\n",
       "0      36951253_transformed_step1   \n",
       "1      36951253_transformed_step1   \n",
       "2      36951253_transformed_step1   \n",
       "3      36951253_transformed_step1   \n",
       "4      36951253_transformed_step1   \n",
       "...                           ...   \n",
       "25279  33045427_transformed_step1   \n",
       "25280  33045427_transformed_step1   \n",
       "25281  33045427_transformed_step1   \n",
       "25282  33045427_transformed_step1   \n",
       "25283  33045427_transformed_step1   \n",
       "\n",
       "                                                 span mention_class      code  \\\n",
       "0      End-stage dilated non-ischaemic cardiomyopathy       DISEASE       NaN   \n",
       "1                                         myocarditis       DISEASE  C0027059   \n",
       "2                                          sarcopenia       DISEASE  C0872084   \n",
       "3                                    cardiac cachexia       DISEASE  C0562491   \n",
       "4                            cardiorespiratory arrest       DISEASE  C0600228   \n",
       "...                                               ...           ...       ...   \n",
       "25279                         cardiotropic infectious       DISEASE       NaN   \n",
       "25280                                        post-EMB      CHEMICAL       NaN   \n",
       "25281                                          CD45R0      CHEMICAL  C3891563   \n",
       "25282                                          CD11a+      CHEMICAL  C0079091   \n",
       "25283                                          CD11b+      CHEMICAL  C1136310   \n",
       "\n",
       "                         term  normalized  \\\n",
       "0                         NaN       False   \n",
       "1                 Myocarditis        True   \n",
       "2                  Sarcopenia        True   \n",
       "3            Cardiac cachexia        True   \n",
       "4      Cardiopulmonary Arrest        True   \n",
       "...                       ...         ...   \n",
       "25279                     NaN       False   \n",
       "25280                     NaN       False   \n",
       "25281           CD45RO, human        True   \n",
       "25282           CD11a Antigen        True   \n",
       "25283          CD11b Antigens        True   \n",
       "\n",
       "                                             filled_term  \n",
       "0      End-stage dilated non-ischaemic cardiomyopathy...  \n",
       "1                                  Myocarditis (DISEASE)  \n",
       "2                                   Sarcopenia (DISEASE)  \n",
       "3                             Cardiac cachexia (DISEASE)  \n",
       "4                       Cardiopulmonary Arrest (DISEASE)  \n",
       "...                                                  ...  \n",
       "25279                  cardiotropic infectious (DISEASE)  \n",
       "25280                                post-EMB (CHEMICAL)  \n",
       "25281                           CD45RO, human (CHEMICAL)  \n",
       "25282                           CD11a Antigen (CHEMICAL)  \n",
       "25283                          CD11b Antigens (CHEMICAL)  \n",
       "\n",
       "[25284 rows x 7 columns]"
      ]
     },
     "execution_count": 12,
     "metadata": {},
     "output_type": "execute_result"
    }
   ],
   "source": [
    "df_gen"
   ]
  },
  {
   "cell_type": "code",
   "execution_count": 13,
   "metadata": {},
   "outputs": [
    {
     "name": "stdout",
     "output_type": "stream",
     "text": [
      "Original File: {filename}\n",
      "\n",
      "Original & Generated:\n",
      " ['Cardiac cachexia (DISEASE)' 'Cardiopulmonary Arrest (DISEASE)'\n",
      " 'Cessation of life (DISEASE)' 'Embolism (DISEASE)' 'Hemorrhage (DISEASE)'\n",
      " 'Myocarditis (DISEASE)' 'Sarcopenia (DISEASE)' 'Thrombus (DISEASE)'\n",
      " 'Ventricular arrhythmia (DISEASE)' 'aortic occlusion (DISEASE)'\n",
      " 'coagulation derangements (DISEASE)' 'norepinephrine (CHEMICAL)']\n",
      "\n",
      "Original - Generated:\n",
      " ['Foramen Ovale, Patent (DISEASE)' 'Heart Atrium (CHEMICAL)'\n",
      " 'Inferior vena cava structure (DISEASE)'\n",
      " 'Latex Fixation Tests (CHEMICAL)'\n",
      " 'Musculoskeletal torsion, function (DISEASE)' 'Neoplasms (DISEASE)'\n",
      " 'Pulmonary Edema (DISEASE)' 'Right ventricular failure (DISEASE)'\n",
      " 'Stenosis Morphology (DISEASE)' 'Steroids (CHEMICAL)'\n",
      " 'Syndrome (DISEASE)' 'Ventricular Dysfunction (DISEASE)'\n",
      " 'acute dysfunction of the device (DISEASE)'\n",
      " 'auricular wall bleeding (DISEASE)' 'cardioembolic (DISEASE)'\n",
      " 'end-stage dilated non-ischaemic cardiomyopathy (DISEASE)'\n",
      " 'heparin (CHEMICAL)' 'methylprednisolone (CHEMICAL)' 'oxygen (CHEMICAL)']\n",
      "\n",
      "Generated - Original:\n",
      " ['Communicable Diseases (DISEASE)'\n",
      " 'End-stage dilated non-ischaemic cardiomyopathy (DISEASE)']\n",
      "Precision: 0.86\n",
      "Recall: 0.39\n",
      "F1: 0.53\n"
     ]
    }
   ],
   "source": [
    "import numpy as np\n",
    "filename = \"36951253\"\n",
    "print(\"Original File: {filename}\\n\")\n",
    "\n",
    "arr_ex_gen = df_gen[df_gen[\"filenameid\"].str.startswith(filename)].filled_term.unique()\n",
    "arr_ex_orig = df_orig[df_orig[\"filenameid\"] == filename].filled_term.unique()\n",
    "\n",
    "inter = np.intersect1d(arr_ex_orig, arr_ex_gen)\n",
    "o_minus_g = np.setdiff1d(arr_ex_orig, arr_ex_gen)\n",
    "g_minus_o = np.setdiff1d(arr_ex_gen, arr_ex_orig)\n",
    "\n",
    "print(\"Original & Generated:\\n\", inter)\n",
    "print()\n",
    "print(\"Original - Generated:\\n\", o_minus_g)\n",
    "print()\n",
    "print(\"Generated - Original:\\n\", g_minus_o)\n",
    "\n",
    "tp = len(inter)\n",
    "fp = len(g_minus_o)\n",
    "fn = len(o_minus_g)\n",
    "precision = tp / (tp + fp)\n",
    "recall = tp / (tp + fn)\n",
    "f1 = 2 * (precision * recall) / (precision + recall)\n",
    "\n",
    "print(f\"Precision: {precision:.2f}\")\n",
    "print(f\"Recall: {recall:.2f}\")\n",
    "print(f\"F1: {f1:.2f}\")\n"
   ]
  },
  {
   "cell_type": "code",
   "execution_count": 14,
   "metadata": {},
   "outputs": [
    {
     "name": "stderr",
     "output_type": "stream",
     "text": [
      "/scratch/tmp/ipykernel_1992409/3895690415.py:33: FutureWarning: The behavior of DataFrame concatenation with empty or all-NA entries is deprecated. In a future version, this will no longer exclude empty or all-NA columns when determining the result dtypes. To retain the old behavior, exclude the relevant entries before the concat operation.\n",
      "  df_metrics = pd.concat([df_metrics, df_i])\n"
     ]
    },
    {
     "name": "stdout",
     "output_type": "stream",
     "text": [
      "      filename  precision    recall        f1  tp fp  fn\n",
      "0   33175723_1   1.000000  1.000000  0.999999  15  0   0\n",
      "0     36305455   0.863636  0.760000  0.808510  19  3   6\n",
      "0     31668014   1.000000  0.607143  0.755555  17  0  11\n",
      "0     32153696   0.818182  0.750000  0.782608   9  2   3\n",
      "0     32470561   0.500000  0.666667  0.571428   4  4   2\n",
      "..         ...        ...       ...       ...  .. ..  ..\n",
      "0     29479047   0.806452  0.781250  0.793650  25  6   7\n",
      "0     37710981   0.714286  0.833333  0.769230   5  2   1\n",
      "0     28614216   0.896552  0.490566  0.634146  26  3  27\n",
      "0     28232375   0.923077  0.631579  0.749999  12  1   7\n",
      "0     37861254   0.833333  0.806452  0.819672  25  5   6\n",
      "\n",
      "[1000 rows x 7 columns]\n"
     ]
    }
   ],
   "source": [
    "def get_class_metrics(tp, fp, fn):\n",
    "    precision = tp / (tp + fp + 1e-6)\n",
    "    recall = tp / (tp + fn + 1e-6)\n",
    "    f1 = 2 * (precision * recall) / (precision + recall + 1e-6)\n",
    "    return precision, recall, f1\n",
    "\n",
    "def evaluate_files(file):\n",
    "    arr_ex_orig = df_orig[df_orig[\"filenameid\"] == file].filled_term.unique()\n",
    "    arr_ex_gen = df_gen[df_gen[\"filenameid\"].str.startswith(file)].filled_term.unique()\n",
    "\n",
    "    try:\n",
    "        inter = np.intersect1d(arr_ex_orig, arr_ex_gen)\n",
    "        o_minus_g = np.setdiff1d(arr_ex_orig, arr_ex_gen)\n",
    "        g_minus_o = np.setdiff1d(arr_ex_gen, arr_ex_orig)\n",
    "    except Exception as e:\n",
    "        print(e)\n",
    "        print(arr_ex_orig)\n",
    "        print(arr_ex_gen)\n",
    "\n",
    "    tp = len(inter)\n",
    "    fp = len(g_minus_o)\n",
    "    fn = len(o_minus_g)\n",
    "    tn = 0\n",
    "    \n",
    "    precision, recall, f1 = get_class_metrics(tp, fp, fn)\n",
    "\n",
    "    return precision, recall, f1, tp, fp, fn\n",
    "\n",
    "df_metrics = pd.DataFrame(columns=[\"filename\", \"precision\", \"recall\", \"f1\", \"tp\", \"fp\", \"fn\"])\n",
    "for filename in df_orig.filenameid.unique():\n",
    "    precision, recall, f1, tp, fp, fn = evaluate_files(filename)\n",
    "    df_i = pd.DataFrame([[filename, precision, recall, f1, tp, fp, fn]], columns=[\"filename\", \"precision\", \"recall\", \"f1\", \"tp\", \"fp\", \"fn\"])\n",
    "    df_metrics = pd.concat([df_metrics, df_i])\n",
    "    \n",
    "print(df_metrics)"
   ]
  },
  {
   "cell_type": "code",
   "execution_count": 15,
   "metadata": {},
   "outputs": [
    {
     "data": {
      "text/html": [
       "<div>\n",
       "<style scoped>\n",
       "    .dataframe tbody tr th:only-of-type {\n",
       "        vertical-align: middle;\n",
       "    }\n",
       "\n",
       "    .dataframe tbody tr th {\n",
       "        vertical-align: top;\n",
       "    }\n",
       "\n",
       "    .dataframe thead th {\n",
       "        text-align: right;\n",
       "    }\n",
       "</style>\n",
       "<table border=\"1\" class=\"dataframe\">\n",
       "  <thead>\n",
       "    <tr style=\"text-align: right;\">\n",
       "      <th></th>\n",
       "      <th>filename</th>\n",
       "      <th>precision</th>\n",
       "      <th>recall</th>\n",
       "      <th>f1</th>\n",
       "      <th>tp</th>\n",
       "      <th>fp</th>\n",
       "      <th>fn</th>\n",
       "    </tr>\n",
       "  </thead>\n",
       "  <tbody>\n",
       "    <tr>\n",
       "      <th>0</th>\n",
       "      <td>33857916</td>\n",
       "      <td>0.636364</td>\n",
       "      <td>0.375000</td>\n",
       "      <td>0.471910</td>\n",
       "      <td>21</td>\n",
       "      <td>12</td>\n",
       "      <td>35</td>\n",
       "    </tr>\n",
       "    <tr>\n",
       "      <th>0</th>\n",
       "      <td>32997782</td>\n",
       "      <td>0.666667</td>\n",
       "      <td>0.392857</td>\n",
       "      <td>0.494382</td>\n",
       "      <td>22</td>\n",
       "      <td>11</td>\n",
       "      <td>34</td>\n",
       "    </tr>\n",
       "    <tr>\n",
       "      <th>0</th>\n",
       "      <td>31974261</td>\n",
       "      <td>0.725000</td>\n",
       "      <td>0.391892</td>\n",
       "      <td>0.508771</td>\n",
       "      <td>29</td>\n",
       "      <td>11</td>\n",
       "      <td>45</td>\n",
       "    </tr>\n",
       "  </tbody>\n",
       "</table>\n",
       "</div>"
      ],
      "text/plain": [
       "   filename  precision    recall        f1  tp  fp  fn\n",
       "0  33857916   0.636364  0.375000  0.471910  21  12  35\n",
       "0  32997782   0.666667  0.392857  0.494382  22  11  34\n",
       "0  31974261   0.725000  0.391892  0.508771  29  11  45"
      ]
     },
     "execution_count": 15,
     "metadata": {},
     "output_type": "execute_result"
    }
   ],
   "source": [
    "df_metrics.sort_values([\"fp\", \"f1\"], ascending=[False, True]).head(3)"
   ]
  },
  {
   "cell_type": "code",
   "execution_count": 16,
   "metadata": {},
   "outputs": [
    {
     "data": {
      "text/html": [
       "<div>\n",
       "<style scoped>\n",
       "    .dataframe tbody tr th:only-of-type {\n",
       "        vertical-align: middle;\n",
       "    }\n",
       "\n",
       "    .dataframe tbody tr th {\n",
       "        vertical-align: top;\n",
       "    }\n",
       "\n",
       "    .dataframe thead th {\n",
       "        text-align: right;\n",
       "    }\n",
       "</style>\n",
       "<table border=\"1\" class=\"dataframe\">\n",
       "  <thead>\n",
       "    <tr style=\"text-align: right;\">\n",
       "      <th></th>\n",
       "      <th>filename</th>\n",
       "      <th>precision</th>\n",
       "      <th>recall</th>\n",
       "      <th>f1</th>\n",
       "      <th>tp</th>\n",
       "      <th>fp</th>\n",
       "      <th>fn</th>\n",
       "    </tr>\n",
       "  </thead>\n",
       "  <tbody>\n",
       "    <tr>\n",
       "      <th>0</th>\n",
       "      <td>30785587</td>\n",
       "      <td>0.800000</td>\n",
       "      <td>0.222222</td>\n",
       "      <td>0.347826</td>\n",
       "      <td>20</td>\n",
       "      <td>5</td>\n",
       "      <td>70</td>\n",
       "    </tr>\n",
       "    <tr>\n",
       "      <th>0</th>\n",
       "      <td>31378248</td>\n",
       "      <td>1.000000</td>\n",
       "      <td>0.323232</td>\n",
       "      <td>0.488549</td>\n",
       "      <td>32</td>\n",
       "      <td>0</td>\n",
       "      <td>67</td>\n",
       "    </tr>\n",
       "    <tr>\n",
       "      <th>0</th>\n",
       "      <td>33544806</td>\n",
       "      <td>0.891892</td>\n",
       "      <td>0.366667</td>\n",
       "      <td>0.519685</td>\n",
       "      <td>33</td>\n",
       "      <td>4</td>\n",
       "      <td>57</td>\n",
       "    </tr>\n",
       "  </tbody>\n",
       "</table>\n",
       "</div>"
      ],
      "text/plain": [
       "   filename  precision    recall        f1  tp fp  fn\n",
       "0  30785587   0.800000  0.222222  0.347826  20  5  70\n",
       "0  31378248   1.000000  0.323232  0.488549  32  0  67\n",
       "0  33544806   0.891892  0.366667  0.519685  33  4  57"
      ]
     },
     "execution_count": 16,
     "metadata": {},
     "output_type": "execute_result"
    }
   ],
   "source": [
    "df_metrics.sort_values([\"fn\", \"f1\"], ascending=[False, True]).head(3)"
   ]
  },
  {
   "cell_type": "code",
   "execution_count": 17,
   "metadata": {},
   "outputs": [
    {
     "data": {
      "text/html": [
       "<div>\n",
       "<style scoped>\n",
       "    .dataframe tbody tr th:only-of-type {\n",
       "        vertical-align: middle;\n",
       "    }\n",
       "\n",
       "    .dataframe tbody tr th {\n",
       "        vertical-align: top;\n",
       "    }\n",
       "\n",
       "    .dataframe thead th {\n",
       "        text-align: right;\n",
       "    }\n",
       "</style>\n",
       "<table border=\"1\" class=\"dataframe\">\n",
       "  <thead>\n",
       "    <tr style=\"text-align: right;\">\n",
       "      <th></th>\n",
       "      <th>filename</th>\n",
       "      <th>precision</th>\n",
       "      <th>recall</th>\n",
       "      <th>f1</th>\n",
       "      <th>tp</th>\n",
       "      <th>fp</th>\n",
       "      <th>fn</th>\n",
       "    </tr>\n",
       "  </thead>\n",
       "  <tbody>\n",
       "    <tr>\n",
       "      <th>0</th>\n",
       "      <td>35249914</td>\n",
       "      <td>0.733333</td>\n",
       "      <td>0.343750</td>\n",
       "      <td>0.468085</td>\n",
       "      <td>11</td>\n",
       "      <td>4</td>\n",
       "      <td>21</td>\n",
       "    </tr>\n",
       "    <tr>\n",
       "      <th>0</th>\n",
       "      <td>34530632</td>\n",
       "      <td>0.736842</td>\n",
       "      <td>0.736842</td>\n",
       "      <td>0.736842</td>\n",
       "      <td>14</td>\n",
       "      <td>5</td>\n",
       "      <td>5</td>\n",
       "    </tr>\n",
       "    <tr>\n",
       "      <th>0</th>\n",
       "      <td>31802469</td>\n",
       "      <td>0.724138</td>\n",
       "      <td>0.913043</td>\n",
       "      <td>0.807692</td>\n",
       "      <td>21</td>\n",
       "      <td>8</td>\n",
       "      <td>2</td>\n",
       "    </tr>\n",
       "  </tbody>\n",
       "</table>\n",
       "</div>"
      ],
      "text/plain": [
       "   filename  precision    recall        f1  tp fp  fn\n",
       "0  35249914   0.733333  0.343750  0.468085  11  4  21\n",
       "0  34530632   0.736842  0.736842  0.736842  14  5   5\n",
       "0  31802469   0.724138  0.913043  0.807692  21  8   2"
      ]
     },
     "execution_count": 17,
     "metadata": {},
     "output_type": "execute_result"
    }
   ],
   "source": [
    "seed = 42\n",
    "df_metrics.sample(3, random_state=seed)"
   ]
  },
  {
   "cell_type": "code",
   "execution_count": 18,
   "metadata": {},
   "outputs": [
    {
     "data": {
      "text/plain": [
       "{'precision': 0.8232126228426311,\n",
       " 'recall': 0.7156443701418516,\n",
       " 'f1': 0.7535634795146179,\n",
       " 'tp': 16.569,\n",
       " 'fp': 3.245,\n",
       " 'fn': 8.345}"
      ]
     },
     "execution_count": 18,
     "metadata": {},
     "output_type": "execute_result"
    }
   ],
   "source": [
    "d_macro = df_metrics[[\"precision\", \"recall\", \"f1\", \"tp\", \"fp\", \"fn\"]].mean().to_dict()\n",
    "d_macro"
   ]
  },
  {
   "cell_type": "code",
   "execution_count": 19,
   "metadata": {},
   "outputs": [
    {
     "name": "stdout",
     "output_type": "stream",
     "text": [
      "Micro Precision: 0.84\n",
      "Micro Recall: 0.67\n",
      "Micro F1: 0.74\n",
      "\n",
      "Macro Precision: 0.82\n",
      "Macro Recall: 0.72\n",
      "Macro F1: 0.75\n"
     ]
    }
   ],
   "source": [
    "micro_precision, micro_recall, micro_f1 = get_class_metrics(*df_metrics[[\"tp\", \"fp\", \"fn\"]].sum().values)\n",
    "\n",
    "\n",
    "print(f\"Micro Precision: {micro_precision:.2f}\")\n",
    "print(f\"Micro Recall: {micro_recall:.2f}\")\n",
    "print(f\"Micro F1: {micro_f1:.2f}\")\n",
    "print()\n",
    "print(f\"Macro Precision: {d_macro['precision']:.2f}\")\n",
    "print(f\"Macro Recall: {d_macro['recall']:.2f}\")\n",
    "print(f\"Macro F1: {d_macro['f1']:.2f}\")\n"
   ]
  },
  {
   "cell_type": "code",
   "execution_count": 20,
   "metadata": {},
   "outputs": [
    {
     "data": {
      "image/png": "[encoded data removed]",
      "text/plain": [
       "<Figure size 1000x500 with 1 Axes>"
      ]
     },
     "metadata": {},
     "output_type": "display_data"
    }
   ],
   "source": [
    "df_metrics[\"f1\"].hist(bins=30, figsize=(10, 5), alpha=0.5);\n",
    "df_metrics[\"precision\"].hist(bins=30, figsize=(10, 5), alpha=0.5);\n",
    "df_metrics[\"recall\"].hist(bins=30, figsize=(10, 5), alpha=0.5);"
   ]
  },
  {
   "cell_type": "code",
   "execution_count": 21,
   "metadata": {},
   "outputs": [
    {
     "data": {
      "image/png": "[encoded data removed]",
      "text/plain": [
       "<Figure size 1000x500 with 1 Axes>"
      ]
     },
     "metadata": {},
     "output_type": "display_data"
    }
   ],
   "source": [
    "df_metrics.boxplot(column=[\"f1\", \"precision\", \"recall\"], figsize=(10, 5));"
   ]
  },
  {
   "cell_type": "markdown",
   "metadata": {},
   "source": [
    "# Check the amount of normalized entities"
   ]
  },
  {
   "cell_type": "code",
   "execution_count": 11,
   "metadata": {},
   "outputs": [
    {
     "data": {
      "text/plain": [
       "Text(0.5, 1.0, 'Generated')"
      ]
     },
     "execution_count": 11,
     "metadata": {},
     "output_type": "execute_result"
    },
    {
     "data": {
      "image/png": "[encoded data removed]",
      "text/plain": [
       "<Figure size 1200x600 with 2 Axes>"
      ]
     },
     "metadata": {},
     "output_type": "display_data"
    }
   ],
   "source": [
    "import matplotlib.pyplot as plt\n",
    "import seaborn as sns\n",
    "\n",
    "fig, ax = plt.subplots(1, 2, figsize=(12, 6), sharey=True)\n",
    "\n",
    "sns.histplot(df_orig[\"normalized\"], bins=2, kde=False, color=\"blue\", label=\"Original\", ax=ax[0])\n",
    "ax[0].set_title(\"Original (Total entities: {})\".format(len(df_orig)))\n",
    "\n",
    "sns.histplot(df_gen[\"normalized\"], bins=2, kde=False, color=\"blue\", label=\"Original\", ax=ax[1])\n",
    "ax[1].set_title(\"Generated\")\n"
   ]
  },
  {
   "cell_type": "code",
   "execution_count": 11,
   "metadata": {},
   "outputs": [
    {
     "name": "stdout",
     "output_type": "stream",
     "text": [
      "Original:\n",
      "\n",
      " normalized\n",
      "True     132369\n",
      "False      1779\n",
      "Name: count, dtype: int64 \n",
      "\n",
      "\n",
      "Generated:\n",
      "\n",
      " normalized\n",
      "True     108002\n",
      "False      1053\n",
      "Name: count, dtype: int64\n"
     ]
    }
   ],
   "source": [
    "print(\"Original:\\n\\n\", df_orig[\"normalized\"].value_counts(), \"\\n\\n\")\n",
    "print(\"Generated:\\n\\n\", df_gen[\"normalized\"].value_counts())"
   ]
  },
  {
   "cell_type": "code",
   "execution_count": 6,
   "metadata": {},
   "outputs": [
    {
     "data": {
      "text/html": [
       "<div>\n",
       "<style scoped>\n",
       "    .dataframe tbody tr th:only-of-type {\n",
       "        vertical-align: middle;\n",
       "    }\n",
       "\n",
       "    .dataframe tbody tr th {\n",
       "        vertical-align: top;\n",
       "    }\n",
       "\n",
       "    .dataframe thead th {\n",
       "        text-align: right;\n",
       "    }\n",
       "</style>\n",
       "<table border=\"1\" class=\"dataframe\">\n",
       "  <thead>\n",
       "    <tr style=\"text-align: right;\">\n",
       "      <th></th>\n",
       "      <th>code</th>\n",
       "      <th>sct_code</th>\n",
       "    </tr>\n",
       "  </thead>\n",
       "  <tbody>\n",
       "    <tr>\n",
       "      <th>0</th>\n",
       "      <td>C0000039</td>\n",
       "      <td>102735002</td>\n",
       "    </tr>\n",
       "    <tr>\n",
       "      <th>1</th>\n",
       "      <td>C0000052</td>\n",
       "      <td>58488005</td>\n",
       "    </tr>\n",
       "    <tr>\n",
       "      <th>2</th>\n",
       "      <td>C0000097</td>\n",
       "      <td>285407008</td>\n",
       "    </tr>\n",
       "    <tr>\n",
       "      <th>3</th>\n",
       "      <td>C0000102</td>\n",
       "      <td>13579002</td>\n",
       "    </tr>\n",
       "    <tr>\n",
       "      <th>4</th>\n",
       "      <td>C0000163</td>\n",
       "      <td>112116001</td>\n",
       "    </tr>\n",
       "    <tr>\n",
       "      <th>...</th>\n",
       "      <td>...</td>\n",
       "      <td>...</td>\n",
       "    </tr>\n",
       "    <tr>\n",
       "      <th>547562</th>\n",
       "      <td>C5942196</td>\n",
       "      <td>851321000124104</td>\n",
       "    </tr>\n",
       "    <tr>\n",
       "      <th>547563</th>\n",
       "      <td>C5942197</td>\n",
       "      <td>851331000124101</td>\n",
       "    </tr>\n",
       "    <tr>\n",
       "      <th>547564</th>\n",
       "      <td>C5942198</td>\n",
       "      <td>861171000124107</td>\n",
       "    </tr>\n",
       "    <tr>\n",
       "      <th>547565</th>\n",
       "      <td>C5942199</td>\n",
       "      <td>6011000124106</td>\n",
       "    </tr>\n",
       "    <tr>\n",
       "      <th>547566</th>\n",
       "      <td>C5942200</td>\n",
       "      <td>447562003</td>\n",
       "    </tr>\n",
       "  </tbody>\n",
       "</table>\n",
       "<p>547567 rows × 2 columns</p>\n",
       "</div>"
      ],
      "text/plain": [
       "            code         sct_code\n",
       "0       C0000039        102735002\n",
       "1       C0000052         58488005\n",
       "2       C0000097        285407008\n",
       "3       C0000102         13579002\n",
       "4       C0000163        112116001\n",
       "...          ...              ...\n",
       "547562  C5942196  851321000124104\n",
       "547563  C5942197  851331000124101\n",
       "547564  C5942198  861171000124107\n",
       "547565  C5942199    6011000124106\n",
       "547566  C5942200        447562003\n",
       "\n",
       "[547567 rows x 2 columns]"
      ]
     },
     "execution_count": 6,
     "metadata": {},
     "output_type": "execute_result"
    }
   ],
   "source": [
    "df_umls_sct = pd.read_csv(path_cm, sep=\"\\t\")\n",
    "df_umls_sct "
   ]
  },
  {
   "cell_type": "code",
   "execution_count": 7,
   "metadata": {},
   "outputs": [],
   "source": [
    "df_orig_sct = df_orig.merge(df_umls_sct, on=\"code\", how=\"left\")"
   ]
  },
  {
   "cell_type": "code",
   "execution_count": 8,
   "metadata": {},
   "outputs": [
    {
     "ename": "KeyError",
     "evalue": "'sct_code'",
     "output_type": "error",
     "traceback": [
      "\u001b[0;31m---------------------------------------------------------------------------\u001b[0m",
      "\u001b[0;31mKeyError\u001b[0m                                  Traceback (most recent call last)",
      "File \u001b[0;32m/gpfs/projects/bsc14/code/MultiSynDS/.venv/lib64/python3.9/site-packages/pandas/core/indexes/base.py:3805\u001b[0m, in \u001b[0;36mIndex.get_loc\u001b[0;34m(self, key)\u001b[0m\n\u001b[1;32m   3804\u001b[0m \u001b[38;5;28;01mtry\u001b[39;00m:\n\u001b[0;32m-> 3805\u001b[0m     \u001b[38;5;28;01mreturn\u001b[39;00m \u001b[38;5;28;43mself\u001b[39;49m\u001b[38;5;241;43m.\u001b[39;49m\u001b[43m_engine\u001b[49m\u001b[38;5;241;43m.\u001b[39;49m\u001b[43mget_loc\u001b[49m\u001b[43m(\u001b[49m\u001b[43mcasted_key\u001b[49m\u001b[43m)\u001b[49m\n\u001b[1;32m   3806\u001b[0m \u001b[38;5;28;01mexcept\u001b[39;00m \u001b[38;5;167;01mKeyError\u001b[39;00m \u001b[38;5;28;01mas\u001b[39;00m err:\n",
      "File \u001b[0;32mindex.pyx:167\u001b[0m, in \u001b[0;36mpandas._libs.index.IndexEngine.get_loc\u001b[0;34m()\u001b[0m\n",
      "File \u001b[0;32mindex.pyx:196\u001b[0m, in \u001b[0;36mpandas._libs.index.IndexEngine.get_loc\u001b[0;34m()\u001b[0m\n",
      "File \u001b[0;32mpandas/_libs/hashtable_class_helper.pxi:7081\u001b[0m, in \u001b[0;36mpandas._libs.hashtable.PyObjectHashTable.get_item\u001b[0;34m()\u001b[0m\n",
      "File \u001b[0;32mpandas/_libs/hashtable_class_helper.pxi:7089\u001b[0m, in \u001b[0;36mpandas._libs.hashtable.PyObjectHashTable.get_item\u001b[0;34m()\u001b[0m\n",
      "\u001b[0;31mKeyError\u001b[0m: 'sct_code'",
      "\nThe above exception was the direct cause of the following exception:\n",
      "\u001b[0;31mKeyError\u001b[0m                                  Traceback (most recent call last)",
      "Cell \u001b[0;32mIn[8], line 1\u001b[0m\n\u001b[0;32m----> 1\u001b[0m df_orig_sct[\u001b[43mdf_orig_sct\u001b[49m\u001b[43m[\u001b[49m\u001b[38;5;124;43m\"\u001b[39;49m\u001b[38;5;124;43msct_code\u001b[39;49m\u001b[38;5;124;43m\"\u001b[39;49m\u001b[43m]\u001b[49m\u001b[38;5;241m.\u001b[39misnull()\u001b[38;5;241m&\u001b[39mdf_orig_sct[\u001b[38;5;124m\"\u001b[39m\u001b[38;5;124mnormalized\u001b[39m\u001b[38;5;124m\"\u001b[39m]]\u001b[38;5;241m.\u001b[39mshape\n",
      "File \u001b[0;32m/gpfs/projects/bsc14/code/MultiSynDS/.venv/lib64/python3.9/site-packages/pandas/core/frame.py:4102\u001b[0m, in \u001b[0;36mDataFrame.__getitem__\u001b[0;34m(self, key)\u001b[0m\n\u001b[1;32m   4100\u001b[0m \u001b[38;5;28;01mif\u001b[39;00m \u001b[38;5;28mself\u001b[39m\u001b[38;5;241m.\u001b[39mcolumns\u001b[38;5;241m.\u001b[39mnlevels \u001b[38;5;241m>\u001b[39m \u001b[38;5;241m1\u001b[39m:\n\u001b[1;32m   4101\u001b[0m     \u001b[38;5;28;01mreturn\u001b[39;00m \u001b[38;5;28mself\u001b[39m\u001b[38;5;241m.\u001b[39m_getitem_multilevel(key)\n\u001b[0;32m-> 4102\u001b[0m indexer \u001b[38;5;241m=\u001b[39m \u001b[38;5;28;43mself\u001b[39;49m\u001b[38;5;241;43m.\u001b[39;49m\u001b[43mcolumns\u001b[49m\u001b[38;5;241;43m.\u001b[39;49m\u001b[43mget_loc\u001b[49m\u001b[43m(\u001b[49m\u001b[43mkey\u001b[49m\u001b[43m)\u001b[49m\n\u001b[1;32m   4103\u001b[0m \u001b[38;5;28;01mif\u001b[39;00m is_integer(indexer):\n\u001b[1;32m   4104\u001b[0m     indexer \u001b[38;5;241m=\u001b[39m [indexer]\n",
      "File \u001b[0;32m/gpfs/projects/bsc14/code/MultiSynDS/.venv/lib64/python3.9/site-packages/pandas/core/indexes/base.py:3812\u001b[0m, in \u001b[0;36mIndex.get_loc\u001b[0;34m(self, key)\u001b[0m\n\u001b[1;32m   3807\u001b[0m     \u001b[38;5;28;01mif\u001b[39;00m \u001b[38;5;28misinstance\u001b[39m(casted_key, \u001b[38;5;28mslice\u001b[39m) \u001b[38;5;129;01mor\u001b[39;00m (\n\u001b[1;32m   3808\u001b[0m         \u001b[38;5;28misinstance\u001b[39m(casted_key, abc\u001b[38;5;241m.\u001b[39mIterable)\n\u001b[1;32m   3809\u001b[0m         \u001b[38;5;129;01mand\u001b[39;00m \u001b[38;5;28many\u001b[39m(\u001b[38;5;28misinstance\u001b[39m(x, \u001b[38;5;28mslice\u001b[39m) \u001b[38;5;28;01mfor\u001b[39;00m x \u001b[38;5;129;01min\u001b[39;00m casted_key)\n\u001b[1;32m   3810\u001b[0m     ):\n\u001b[1;32m   3811\u001b[0m         \u001b[38;5;28;01mraise\u001b[39;00m InvalidIndexError(key)\n\u001b[0;32m-> 3812\u001b[0m     \u001b[38;5;28;01mraise\u001b[39;00m \u001b[38;5;167;01mKeyError\u001b[39;00m(key) \u001b[38;5;28;01mfrom\u001b[39;00m \u001b[38;5;21;01merr\u001b[39;00m\n\u001b[1;32m   3813\u001b[0m \u001b[38;5;28;01mexcept\u001b[39;00m \u001b[38;5;167;01mTypeError\u001b[39;00m:\n\u001b[1;32m   3814\u001b[0m     \u001b[38;5;66;03m# If we have a listlike key, _check_indexing_error will raise\u001b[39;00m\n\u001b[1;32m   3815\u001b[0m     \u001b[38;5;66;03m#  InvalidIndexError. Otherwise we fall through and re-raise\u001b[39;00m\n\u001b[1;32m   3816\u001b[0m     \u001b[38;5;66;03m#  the TypeError.\u001b[39;00m\n\u001b[1;32m   3817\u001b[0m     \u001b[38;5;28mself\u001b[39m\u001b[38;5;241m.\u001b[39m_check_indexing_error(key)\n",
      "\u001b[0;31mKeyError\u001b[0m: 'sct_code'"
     ]
    }
   ],
   "source": [
    "df_orig_sct[df_orig_sct[\"sct_code\"].isnull()&df_orig_sct[\"normalized\"]].shape"
   ]
  },
  {
   "cell_type": "code",
   "execution_count": null,
   "metadata": {},
   "outputs": [],
   "source": []
  }
 ],
 "metadata": {
  "kernelspec": {
   "display_name": ".venv",
   "language": "python",
   "name": "python3"
  },
  "language_info": {
   "codemirror_mode": {
    "name": "ipython",
    "version": 3
   },
   "file_extension": ".py",
   "mimetype": "text/x-python",
   "name": "python",
   "nbconvert_exporter": "python",
   "pygments_lexer": "ipython3",
   "version": "3.9.16"
  }
 },
 "nbformat": 4,
 "nbformat_minor": 2
}

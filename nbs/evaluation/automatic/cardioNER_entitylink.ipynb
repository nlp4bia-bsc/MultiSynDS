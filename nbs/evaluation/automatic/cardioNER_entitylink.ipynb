{
 "cells": [
  {
   "cell_type": "code",
   "execution_count": 1,
   "metadata": {},
   "outputs": [],
   "source": [
    "def assemble_ner_output_flat(ner_outputs):\n",
    "    entities = []\n",
    "    current_entity = None\n",
    "    # Create a copy of the ner_outputs to avoid modifying the original\n",
    "    ner_outputs = ner_outputs.copy()\n",
    "\n",
    "    for token in ner_outputs:\n",
    "        if token[\"label\"] == \"O\":\n",
    "            continue\n",
    "        label = token[\"label\"].replace(\"B-\", \"\").replace(\"I-\", \"\")\n",
    "        word = token[\"word\"].replace(\"Ġ\", \"\")\n",
    "        score = token[\"score\"]\n",
    "\n",
    "        if current_entity is None:\n",
    "            # Start a new entity\n",
    "            current_entity = {\n",
    "                \"label\": label,\n",
    "                \"text\": word.strip(),\n",
    "                \"start\": token[\"start\"],\n",
    "                \"end\": token[\"end\"],\n",
    "                \"score\": [score],\n",
    "            }\n",
    "        elif current_entity[\"label\"] == label and token[\"start\"] == current_entity[\"end\"]:\n",
    "            # Continue current entity (must be same label and consecutive)\n",
    "            current_entity[\"text\"] += word\n",
    "            current_entity[\"end\"] = token[\"end\"]\n",
    "            current_entity[\"score\"].append(score)\n",
    "        elif current_entity[\"label\"] == label and token[\"start\"] == (current_entity[\"end\"] + 1):\n",
    "            # Continue current entity (must be same label and consecutive)\n",
    "            current_entity[\"text\"] += \" \" + word\n",
    "            current_entity[\"end\"] = token[\"end\"]\n",
    "            current_entity[\"score\"].append(score)\n",
    "        else:\n",
    "            # Save current and start new\n",
    "            entities.append(current_entity)\n",
    "            current_entity = {\n",
    "                \"label\": label,\n",
    "                \"text\": word.strip(),\n",
    "                \"start\": token[\"start\"],\n",
    "                \"end\": token[\"end\"],\n",
    "                \"score\": [score],\n",
    "            }\n",
    "\n",
    "    if current_entity:\n",
    "        entities.append(current_entity)\n",
    "\n",
    "    # Average the scores\n",
    "    for ent in entities:\n",
    "        ent[\"score\"] = sum(ent[\"score\"]) / len(ent[\"score\"])\n",
    "\n",
    "    return entities\n",
    "\n",
    "def process_ner_results(ner_results):\n",
    "    # tag2label = {\n",
    "    #     \"O\": 0,\n",
    "    #     \"B-DISEASE\": 1,\n",
    "    #     \"I-DISEASE\": 2,\n",
    "    #     \"B-MEDICATION\": 3,\n",
    "    #     \"I-MEDICATION\": 4,\n",
    "    #     \"B-PROCEDURE\": 5,\n",
    "    #     \"I-PROCEDURE\": 6,\n",
    "    #     \"B-SYMPTOM\": 7,\n",
    "    #     \"I-SYMPTOM\": 8,\n",
    "    # }\n",
    "    \n",
    "    tag2label = {\n",
    "            \"O\": 0,\n",
    "            \"DISEASE\": 1,\n",
    "            \"MEDICATION\": 2,\n",
    "            \"PROCEDURE\": 3,\n",
    "            \"SYMPTOM\": 4,\n",
    "        }\n",
    "\n",
    "    label2tag = {v: k for k, v in tag2label.items()}\n",
    "\n",
    "    proc_results = []\n",
    "    for result in ner_results:\n",
    "        if result['entity'] != 'O':\n",
    "            proc_results.append({\n",
    "                'start': result['start'],\n",
    "                'end': result['end'],\n",
    "                'label': label2tag[int(result['entity'].split('_')[-1])],\n",
    "                'score': result['score'],\n",
    "                'word': result['word'],\n",
    "            })\n",
    "            \n",
    "    return proc_results"
   ]
  },
  {
   "cell_type": "code",
   "execution_count": 2,
   "metadata": {},
   "outputs": [
    {
     "name": "stderr",
     "output_type": "stream",
     "text": [
      "Device set to use cuda:1\n"
     ]
    }
   ],
   "source": [
    "from transformers import AutoTokenizer, AutoModelForTokenClassification\n",
    "from transformers import pipeline\n",
    "import re\n",
    "\n",
    "tokenizer = AutoTokenizer.from_pretrained(\"/gpfs/projects/bsc14/code/CardioNER/output/en/NOIOB_cpt_biomed_roberta_token/E120BS32LR2e5/hf\")\n",
    "model = AutoModelForTokenClassification.from_pretrained(\"/gpfs/projects/bsc14/code/CardioNER/output/en/NOIOB_cpt_biomed_roberta_token/E120BS32LR2e5/hf\")\n",
    "\n",
    "pipe = pipeline(\n",
    "    \"ner\",\n",
    "    model=model,\n",
    "    tokenizer=tokenizer,\n",
    "    device=1,  # Use GPU if available\n",
    ")"
   ]
  },
  {
   "cell_type": "code",
   "execution_count": 3,
   "metadata": {},
   "outputs": [],
   "source": [
    "example1 = \"\"\"\n",
    "A 74-year-old man underwent primary percutaneous coronary intervention (pPCI) for a completely occluded proximal left anterior descending artery. During the procedure, microvascular flow distal to the block could not be established (no-reflow phenomenon) and was managed with diltiazem and nicorandil. A follow-up echocardiogram performed on the next day revealed an intraparietal echolucent apicolateral neocavitation corresponding to an intramyocardial haematoma (IMH) along with a reduced ejection fraction (EF) of 30\\% compared with 45\\% at the time of intervention. At 1 month follow-up, he developed congestive heart failure with a further decline in EF to 25\\%. Although the IMH was resolving, the left ventricular apex had ballooned out. At 3 months, he was rehospitalised with a storm of ventricular tachycardia, further deterioration in EF with an apical aneurysm, and eventually passed away.\n",
    "\"\"\"\n",
    "\n",
    "example2 = \"\"\"\n",
    "**Discharge Summary**\n",
    "\n",
    "**Patient Information:**\n",
    "- **Name:** [Patient Name]\n",
    "- **Age:** 74 years\n",
    "- **Gender:** Male\n",
    "\n",
    "**Admission Date:** [Admission Date]  \n",
    "**Discharge Date:** [Discharge Date]  \n",
    "**Attending Physician:** [Physician Name]  \n",
    "\n",
    "**Diagnosis:**\n",
    "- Complete occlusion of proximal left anterior descending artery\n",
    "- Intramyocardial hematoma (IMH)\n",
    "- Congestive heart failure\n",
    "- Ventricular tachycardia\n",
    "\n",
    "**Procedure:**\n",
    "The patient underwent primary percutaneous coronary intervention (pPCI) for a completely occluded proximal left anterior descending artery. During the procedure, the no-reflow phenomenon was encountered, and management included administration of diltiazem and nicorandil.\n",
    "\n",
    "**Post-Procedure Findings:**\n",
    "A follow-up echocardiogram conducted the day after the procedure indicated the presence of an intraparietal echolucent apicolateral neocavitation, consistent with an intramyocardial hematoma (IMH). The patient's ejection fraction (EF) was noted to be 30%, a decline from 45% recorded during the intervention.\n",
    "\n",
    "**Follow-Up:**\n",
    "At the one-month follow-up, the patient developed congestive heart failure, with further deterioration in EF to 25%.Although the IMH showed signs of resolution, there was notable ballooning of the left ventricular apex.\n",
    "\n",
    "**Rehospitalization:**\n",
    "At three months post-procedure, the patient was rehospitalized due to a storm of ventricular tachycardia and additional decline in EF, accompanied by the development of an apical aneurysm.\n",
    "\n",
    "**Outcome:**\n",
    "Despite medical interventions, the patient ultimately passed away.\n",
    "\n",
    "**Recommendations:**\n",
    "- Continued monitoring and management of cardiac function.\n",
    "- Consideration for advanced heart failure therapies.\n",
    "\n",
    "**Prepared by:** [Your Name]  \n",
    "**Date:** [Date]\n",
    "\"\"\""
   ]
  },
  {
   "cell_type": "code",
   "execution_count": 4,
   "metadata": {},
   "outputs": [],
   "source": [
    "import pandas as pd\n",
    "import os\n",
    "from src.data import files_to_df\n",
    "\n",
    "SOURCE_PATH_ORIG = \"data/1_original/txt\"\n",
    "SOURCE_PATH_GEN = \"data/2_generated/2step_transformation_dt4h_GPT4omini/en\"\n",
    "\n",
    "def create_pairs(path_orig, path_gen):\n",
    "\n",
    "    df_gen = files_to_df(path_gen)\n",
    "    df_gen[\"filenameid\"] = df_gen[\"filenameid\"].str.replace(\"_transformed_step1\", \"\")\n",
    "\n",
    "    df_orig = files_to_df(path_orig)\n",
    "    df_pairs = df_orig.merge(df_gen, on=\"filenameid\", suffixes=(\"_orig\", \"_gen\"))\n",
    "    # assert len(df_pairs) == N_EXPECTED_SAMPLES, f\"Expected {N_EXPECTED_SAMPLES} samples, got {len(df_pairs)}\"\n",
    "\n",
    "    df_pairs.rename(columns={\"text_orig\": \"clinical_case\", \"text_gen\": \"discharge_summary\"}, inplace=True)\n",
    "    return df_pairs\n",
    "\n",
    "df_pairs = create_pairs(SOURCE_PATH_ORIG, SOURCE_PATH_GEN)"
   ]
  },
  {
   "cell_type": "code",
   "execution_count": 5,
   "metadata": {},
   "outputs": [],
   "source": [
    "ner_results_1 = pipe(example1)\n",
    "ner_results_2 = pipe(example2)\n",
    "\n",
    "proc_results_1 = process_ner_results(ner_results_1)\n",
    "proc_results_2 = process_ner_results(ner_results_2)\n",
    "\n",
    "results_1 = assemble_ner_output_flat(proc_results_1)\n",
    "results_2 = assemble_ner_output_flat(proc_results_2)"
   ]
  },
  {
   "cell_type": "code",
   "execution_count": 6,
   "metadata": {},
   "outputs": [
    {
     "data": {
      "text/plain": [
       "[{'label': 'PROCEDURE',\n",
       "  'text': 'primary percutaneous coronary intervention',\n",
       "  'start': 29,\n",
       "  'end': 71,\n",
       "  'score': 0.988441675901413},\n",
       " {'label': 'PROCEDURE',\n",
       "  'text': 'pPCI',\n",
       "  'start': 73,\n",
       "  'end': 77,\n",
       "  'score': 0.9450855453809103},\n",
       " {'label': 'PROCEDURE',\n",
       "  'text': 'for',\n",
       "  'start': 79,\n",
       "  'end': 82,\n",
       "  'score': 0.5009878873825073},\n",
       " {'label': 'DISEASE',\n",
       "  'text': 'a completely occluded proximal left anterior descending artery',\n",
       "  'start': 83,\n",
       "  'end': 145,\n",
       "  'score': 0.8819515976038846},\n",
       " {'label': 'MEDICATION',\n",
       "  'text': 'diltiazem',\n",
       "  'start': 277,\n",
       "  'end': 286,\n",
       "  'score': 0.998613715171814},\n",
       " {'label': 'MEDICATION',\n",
       "  'text': 'nicorandil',\n",
       "  'start': 291,\n",
       "  'end': 301,\n",
       "  'score': 0.9987502992153168},\n",
       " {'label': 'PROCEDURE',\n",
       "  'text': 'echocardiogram',\n",
       "  'start': 315,\n",
       "  'end': 329,\n",
       "  'score': 0.9991068482398987},\n",
       " {'label': 'DISEASE',\n",
       "  'text': 'intramyocardial haematoma',\n",
       "  'start': 440,\n",
       "  'end': 465,\n",
       "  'score': 0.9863511323928833},\n",
       " {'label': 'DISEASE',\n",
       "  'text': 'IMH',\n",
       "  'start': 467,\n",
       "  'end': 470,\n",
       "  'score': 0.8433969020843506},\n",
       " {'label': 'DISEASE',\n",
       "  'text': 'congestive heart failure',\n",
       "  'start': 607,\n",
       "  'end': 631,\n",
       "  'score': 0.9978555142879486},\n",
       " {'label': 'DISEASE',\n",
       "  'text': 'IMH',\n",
       "  'start': 683,\n",
       "  'end': 686,\n",
       "  'score': 0.9700600206851959},\n",
       " {'label': 'DISEASE',\n",
       "  'text': 'ventricular tachycardia',\n",
       "  'start': 798,\n",
       "  'end': 821,\n",
       "  'score': 0.9966035087903341},\n",
       " {'label': 'DISEASE',\n",
       "  'text': 'apical aneurysm',\n",
       "  'start': 859,\n",
       "  'end': 874,\n",
       "  'score': 0.995985766251882}]"
      ]
     },
     "execution_count": 6,
     "metadata": {},
     "output_type": "execute_result"
    }
   ],
   "source": [
    "results_1"
   ]
  },
  {
   "cell_type": "code",
   "execution_count": 7,
   "metadata": {},
   "outputs": [
    {
     "data": {
      "text/plain": [
       "[{'label': 'DISEASE',\n",
       "  'text': 'Complete occlusion of proximal left anterior descending artery',\n",
       "  'start': 256,\n",
       "  'end': 318,\n",
       "  'score': 0.93415536663749},\n",
       " {'label': 'DISEASE',\n",
       "  'text': 'Intramyocardial hematoma',\n",
       "  'start': 321,\n",
       "  'end': 345,\n",
       "  'score': 0.996253527700901},\n",
       " {'label': 'DISEASE',\n",
       "  'text': 'IMH',\n",
       "  'start': 347,\n",
       "  'end': 350,\n",
       "  'score': 0.85341015458107},\n",
       " {'label': 'DISEASE',\n",
       "  'text': 'Congestive heart failure',\n",
       "  'start': 354,\n",
       "  'end': 378,\n",
       "  'score': 0.997419810295105},\n",
       " {'label': 'DISEASE',\n",
       "  'text': 'Ventricular tachycardia',\n",
       "  'start': 381,\n",
       "  'end': 404,\n",
       "  'score': 0.9972559114297231},\n",
       " {'label': 'PROCEDURE',\n",
       "  'text': 'primary percutaneous coronary intervention',\n",
       "  'start': 443,\n",
       "  'end': 485,\n",
       "  'score': 0.9841527839501699},\n",
       " {'label': 'PROCEDURE',\n",
       "  'text': 'pPCI',\n",
       "  'start': 487,\n",
       "  'end': 491,\n",
       "  'score': 0.9745802283287048},\n",
       " {'label': 'PROCEDURE',\n",
       "  'text': 'for',\n",
       "  'start': 493,\n",
       "  'end': 496,\n",
       "  'score': 0.7383769154548645},\n",
       " {'label': 'DISEASE',\n",
       "  'text': 'completely occluded proximal left anterior descending artery',\n",
       "  'start': 499,\n",
       "  'end': 559,\n",
       "  'score': 0.6595481842756271},\n",
       " {'label': 'MEDICATION',\n",
       "  'text': 'diltiazem',\n",
       "  'start': 667,\n",
       "  'end': 676,\n",
       "  'score': 0.9986999183893204},\n",
       " {'label': 'MEDICATION',\n",
       "  'text': 'nicorandil',\n",
       "  'start': 681,\n",
       "  'end': 691,\n",
       "  'score': 0.9988063424825668},\n",
       " {'label': 'PROCEDURE',\n",
       "  'text': 'echocardiogram',\n",
       "  'start': 735,\n",
       "  'end': 749,\n",
       "  'score': 0.9988857269287109},\n",
       " {'label': 'DISEASE',\n",
       "  'text': 'intramyocardial hematoma',\n",
       "  'start': 889,\n",
       "  'end': 913,\n",
       "  'score': 0.9975304082036018},\n",
       " {'label': 'DISEASE',\n",
       "  'text': 'IMH',\n",
       "  'start': 915,\n",
       "  'end': 918,\n",
       "  'score': 0.9422391951084137},\n",
       " {'label': 'DISEASE',\n",
       "  'text': 'congestive heart failure',\n",
       "  'start': 1098,\n",
       "  'end': 1122,\n",
       "  'score': 0.9979742616415024},\n",
       " {'label': 'DISEASE',\n",
       "  'text': 'IMH',\n",
       "  'start': 1177,\n",
       "  'end': 1180,\n",
       "  'score': 0.9561749994754791},\n",
       " {'label': 'DISEASE',\n",
       "  'text': 'ventricular tachycardia',\n",
       "  'start': 1373,\n",
       "  'end': 1396,\n",
       "  'score': 0.950076550245285},\n",
       " {'label': 'DISEASE',\n",
       "  'text': 'apical aneurysm',\n",
       "  'start': 1464,\n",
       "  'end': 1479,\n",
       "  'score': 0.9973716040452322},\n",
       " {'label': 'DISEASE',\n",
       "  'text': 'heart failure',\n",
       "  'start': 1672,\n",
       "  'end': 1685,\n",
       "  'score': 0.7372153103351593},\n",
       " {'label': 'PROCEDURE',\n",
       "  'text': 'therapies',\n",
       "  'start': 1686,\n",
       "  'end': 1695,\n",
       "  'score': 0.7524824142456055}]"
      ]
     },
     "execution_count": 7,
     "metadata": {},
     "output_type": "execute_result"
    }
   ],
   "source": [
    "results_2"
   ]
  },
  {
   "cell_type": "markdown",
   "metadata": {},
   "source": []
  },
  {
   "cell_type": "code",
   "execution_count": 8,
   "metadata": {},
   "outputs": [
    {
     "name": "stderr",
     "output_type": "stream",
     "text": [
      "  1%|█                                                                                                                                                      | 7/1000 [00:00<00:15, 63.69it/s]You seem to be using the pipelines sequentially on GPU. In order to maximize efficiency please use a dataset\n"
     ]
    },
    {
     "name": "stderr",
     "output_type": "stream",
     "text": [
      "100%|████████████████████████████████████████████████████████████████████████████████████████████████████████████████████████████████████████████████████| 1000/1000 [00:15<00:00, 65.55it/s]\n",
      "100%|████████████████████████████████████████████████████████████████████████████████████████████████████████████████████████████████████████████████████| 1000/1000 [00:15<00:00, 64.47it/s]\n"
     ]
    }
   ],
   "source": [
    "import pandas as pd\n",
    "from tqdm import tqdm\n",
    "tqdm.pandas()\n",
    "\n",
    "def ner_outputs(text):\n",
    "    ner_results_1 = pipe(text)\n",
    "\n",
    "    proc_results_1 = process_ner_results(ner_results_1)\n",
    "    results_1 = assemble_ner_output_flat(proc_results_1)\n",
    "\n",
    "    df_res_1 = pd.DataFrame(results_1)[[\"label\", \"text\"]].drop_duplicates()\n",
    "    return df_res_1\n",
    "\n",
    "def ner_output_dataset(df, col_text_name, fileid_col=\"filenameid\"):\n",
    "    ls_cc_ents = []\n",
    "    for _, row in tqdm(df.iterrows(), total=len(df_pairs)):\n",
    "        text = row[col_text_name]\n",
    "        filenameid = row[fileid_col]\n",
    "        df_res_1 = ner_outputs(text)\n",
    "        df_res_1[\"filenameid\"] = filenameid\n",
    "        ls_cc_ents.append(df_res_1)\n",
    "    \n",
    "    return pd.concat(ls_cc_ents, ignore_index=True)\n",
    "        \n",
    "\n",
    "df_cc_ents = ner_output_dataset(df_pairs, \"clinical_case\")\n",
    "df_ds_ents = ner_output_dataset(df_pairs, \"discharge_summary\")"
   ]
  },
  {
   "cell_type": "code",
   "execution_count": 9,
   "metadata": {},
   "outputs": [
    {
     "name": "stdout",
     "output_type": "stream",
     "text": [
      "label\n",
      "PROCEDURE     11338\n",
      "DISEASE       10090\n",
      "SYMPTOM        9889\n",
      "MEDICATION     2135\n",
      "Name: count, dtype: int64\n",
      "TOTAL: 33452\n"
     ]
    }
   ],
   "source": [
    "ents_dist_cc = df_cc_ents.label.value_counts()\n",
    "print(ents_dist_cc)\n",
    "print(\"TOTAL:\", ents_dist_cc.sum())"
   ]
  },
  {
   "cell_type": "code",
   "execution_count": 10,
   "metadata": {},
   "outputs": [
    {
     "name": "stdout",
     "output_type": "stream",
     "text": [
      "label\n",
      "PROCEDURE     10790\n",
      "DISEASE       10253\n",
      "SYMPTOM        9255\n",
      "MEDICATION     1982\n",
      "Name: count, dtype: int64\n",
      "TOTAL: 32280\n"
     ]
    }
   ],
   "source": [
    "ents_dist_ds = df_ds_ents.label.value_counts()\n",
    "print(ents_dist_ds)\n",
    "print(\"TOTAL:\", ents_dist_ds.sum())"
   ]
  },
  {
   "cell_type": "code",
   "execution_count": 11,
   "metadata": {},
   "outputs": [
    {
     "data": {
      "text/plain": [
       "text\n",
       "heart failure                        227\n",
       "hypertension                         169\n",
       "cardiomegaly                         110\n",
       "atrial fibrillation                   85\n",
       "cardiogenic shock                     65\n",
       "                                    ... \n",
       "-se                                    1\n",
       "coronary steal syndrome from           1\n",
       "nephritic syndrome                     1\n",
       "generalised tonic-clonic seizures      1\n",
       "Severe lice infestation                1\n",
       "Name: count, Length: 5123, dtype: int64"
      ]
     },
     "execution_count": 11,
     "metadata": {},
     "output_type": "execute_result"
    }
   ],
   "source": [
    "df_cc_ents[df_cc_ents[\"label\"] == \"DISEASE\"].text.value_counts().sort_values(ascending=False)"
   ]
  },
  {
   "cell_type": "code",
   "execution_count": 12,
   "metadata": {},
   "outputs": [
    {
     "name": "stderr",
     "output_type": "stream",
     "text": [
      "No sentence-transformers model found with name /gpfs/projects/bsc14/abecerr1/hub/models--cambridgeltl--SapBERT-from-PubMedBERT-fulltext-mean-token/snapshots/9f95c2e962719c70f25bf7a1f33bd8d9e9448750. Creating a new one with mean pooling.\n"
     ]
    }
   ],
   "source": [
    "from sentence_transformers import SentenceTransformer\n",
    "from src.search_index import FaissIndex\n",
    "\n",
    "model_st = SentenceTransformer(\"/gpfs/projects/bsc14/abecerr1/hub/models--cambridgeltl--SapBERT-from-PubMedBERT-fulltext-mean-token/snapshots/9f95c2e962719c70f25bf7a1f33bd8d9e9448750\", device=\"cuda:1\")"
   ]
  },
  {
   "cell_type": "code",
   "execution_count": 13,
   "metadata": {},
   "outputs": [
    {
     "name": "stdout",
     "output_type": "stream",
     "text": [
      "LABEL: DISEASE\n"
     ]
    },
    {
     "data": {
      "application/vnd.jupyter.widget-view+json": {
       "model_id": "4ac3bdc600ce4dbda896fd7c3ae283c3",
       "version_major": 2,
       "version_minor": 0
      },
      "text/plain": [
       "Batches:   0%|          | 0/5892 [00:00<?, ?it/s]"
      ]
     },
     "metadata": {},
     "output_type": "display_data"
    },
    {
     "name": "stdout",
     "output_type": "stream",
     "text": [
      "LABEL: MEDICATION\n"
     ]
    },
    {
     "data": {
      "application/vnd.jupyter.widget-view+json": {
       "model_id": "616185c9f27442ec93c2bcd061a5e3a8",
       "version_major": 2,
       "version_minor": 0
      },
      "text/plain": [
       "Batches:   0%|          | 0/3232 [00:00<?, ?it/s]"
      ]
     },
     "metadata": {},
     "output_type": "display_data"
    },
    {
     "name": "stdout",
     "output_type": "stream",
     "text": [
      "LABEL: PROCEDURE\n"
     ]
    },
    {
     "data": {
      "application/vnd.jupyter.widget-view+json": {
       "model_id": "f617a183fa9d4668b25d4287e18f5773",
       "version_major": 2,
       "version_minor": 0
      },
      "text/plain": [
       "Batches:   0%|          | 0/7141 [00:00<?, ?it/s]"
      ]
     },
     "metadata": {},
     "output_type": "display_data"
    },
    {
     "name": "stdout",
     "output_type": "stream",
     "text": [
      "LABEL: SYMPTOM\n"
     ]
    },
    {
     "data": {
      "application/vnd.jupyter.widget-view+json": {
       "model_id": "863e2a0684344975978d788bdb75c155",
       "version_major": 2,
       "version_minor": 0
      },
      "text/plain": [
       "Batches:   0%|          | 0/7099 [00:00<?, ?it/s]"
      ]
     },
     "metadata": {},
     "output_type": "display_data"
    }
   ],
   "source": [
    "d_gazetteers = {\n",
    "    \"PROCEDURE\": \"data/4_gazetteers/en/english_procedures_gazetteer.tsv\",\n",
    "    \"DISEASE\": \"data/4_gazetteers/en/english_diseases_gazetteer.tsv\",\n",
    "    \"MEDICATION\": \"data/4_gazetteers/en/english_medications_gazetteer.tsv\",\n",
    "    \"SYMPTOM\": \"data/4_gazetteers/en/english_symptoms_gazetteer.tsv\",\n",
    "}\n",
    "\n",
    "def link_ents_to_gazetteers(df, ls_label, model):\n",
    "\n",
    "    ls_out = []\n",
    "    for label in ls_label:\n",
    "        print(\"LABEL:\", label)\n",
    "        df_label = df[df.label == label].copy()\n",
    "        faiss_index = FaissIndex(model=model_st, gazetteer_path=d_gazetteers[label], random_seed=0)\n",
    "        faiss_index.generate_search_index()\n",
    "        query_embs_1 = model_st.encode(df_label[\"text\"].tolist())\n",
    "        _, I1 = faiss_index.search(query_embs_1, k=10)\n",
    "        \n",
    "        ls_codes = [[faiss_index.get_code_by_index(i) for i in row] for row in I1]\n",
    "        ls_terms = [[faiss_index.get_term_by_index(i) for i in row] for row in I1]\n",
    "        \n",
    "        df_label[\"codes\"] = ls_codes\n",
    "        df_label[\"terms\"] = ls_terms\n",
    "        \n",
    "        ls_out.append(df_label)\n",
    "    \n",
    "    return pd.concat(ls_out, ignore_index=True)\n",
    "\n",
    "df_cc_ents_gazetteers = link_ents_to_gazetteers(df_cc_ents, [\"DISEASE\", \"MEDICATION\", \"PROCEDURE\", \"SYMPTOM\"], model_st)\n",
    "\n",
    "        "
   ]
  },
  {
   "cell_type": "code",
   "execution_count": 14,
   "metadata": {},
   "outputs": [
    {
     "data": {
      "text/html": [
       "<div>\n",
       "<style scoped>\n",
       "    .dataframe tbody tr th:only-of-type {\n",
       "        vertical-align: middle;\n",
       "    }\n",
       "\n",
       "    .dataframe tbody tr th {\n",
       "        vertical-align: top;\n",
       "    }\n",
       "\n",
       "    .dataframe thead th {\n",
       "        text-align: right;\n",
       "    }\n",
       "</style>\n",
       "<table border=\"1\" class=\"dataframe\">\n",
       "  <thead>\n",
       "    <tr style=\"text-align: right;\">\n",
       "      <th></th>\n",
       "      <th>label</th>\n",
       "      <th>text</th>\n",
       "      <th>filenameid</th>\n",
       "      <th>codes</th>\n",
       "      <th>terms</th>\n",
       "    </tr>\n",
       "  </thead>\n",
       "  <tbody>\n",
       "    <tr>\n",
       "      <th>0</th>\n",
       "      <td>DISEASE</td>\n",
       "      <td>Amyloid light-chain amyloidosis</td>\n",
       "      <td>33175723_1</td>\n",
       "      <td>[23132008, 23132008, 23132008, 426598005, 2749...</td>\n",
       "      <td>[Amyloid light-chain amyloidosis, Primary amyl...</td>\n",
       "    </tr>\n",
       "    <tr>\n",
       "      <th>1</th>\n",
       "      <td>DISEASE</td>\n",
       "      <td>cardiac amyloidosis</td>\n",
       "      <td>33175723_1</td>\n",
       "      <td>[16573007, 16573007, 17602002, 1187540008, 118...</td>\n",
       "      <td>[Cardiac amyloidosis, Senile cardiac amyloidos...</td>\n",
       "    </tr>\n",
       "    <tr>\n",
       "      <th>2</th>\n",
       "      <td>DISEASE</td>\n",
       "      <td>cardiomyopathy</td>\n",
       "      <td>33175723_1</td>\n",
       "      <td>[85898001, 35728003, 111285003, 89461002, 3990...</td>\n",
       "      <td>[Cardiomyopathy, Familial cardiomyopathy, Meta...</td>\n",
       "    </tr>\n",
       "    <tr>\n",
       "      <th>3</th>\n",
       "      <td>DISEASE</td>\n",
       "      <td>heart failure</td>\n",
       "      <td>33175723_1</td>\n",
       "      <td>[84114007, 84114007, 84114007, 42343007, 42343...</td>\n",
       "      <td>[Heart failure, Cardiac failure, HF - Heart fa...</td>\n",
       "    </tr>\n",
       "    <tr>\n",
       "      <th>4</th>\n",
       "      <td>DISEASE</td>\n",
       "      <td>primary AL amyloidosis</td>\n",
       "      <td>33175723_1</td>\n",
       "      <td>[23132008, 128817004, 190923000, 274945004, 56...</td>\n",
       "      <td>[AL amyloidosis, Primary amyloidosis, Sporadic...</td>\n",
       "    </tr>\n",
       "    <tr>\n",
       "      <th>...</th>\n",
       "      <td>...</td>\n",
       "      <td>...</td>\n",
       "      <td>...</td>\n",
       "      <td>...</td>\n",
       "      <td>...</td>\n",
       "    </tr>\n",
       "    <tr>\n",
       "      <th>33447</th>\n",
       "      <td>SYMPTOM</td>\n",
       "      <td>Pul</td>\n",
       "      <td>37861254</td>\n",
       "      <td>[233604007, 19829001, 205237003, 91434003, 846...</td>\n",
       "      <td>[Pneumonia, Pulmonary disease, Pneumonitis, Pu...</td>\n",
       "    </tr>\n",
       "    <tr>\n",
       "      <th>33448</th>\n",
       "      <td>SYMPTOM</td>\n",
       "      <td>test and</td>\n",
       "      <td>37861254</td>\n",
       "      <td>[252014003, 226219004, 68193004, 251644002, 25...</td>\n",
       "      <td>[Urethral test observation, Test diet, Thomas ...</td>\n",
       "    </tr>\n",
       "    <tr>\n",
       "      <th>33449</th>\n",
       "      <td>SYMPTOM</td>\n",
       "      <td>results were normal</td>\n",
       "      <td>37861254</td>\n",
       "      <td>[168500000, 408573005, 165324008, 312969002, 1...</td>\n",
       "      <td>[Radiology result normal, Imaging result norma...</td>\n",
       "    </tr>\n",
       "    <tr>\n",
       "      <th>33450</th>\n",
       "      <td>SYMPTOM</td>\n",
       "      <td>enlarged main pulmonary arteries</td>\n",
       "      <td>37861254</td>\n",
       "      <td>[93059006, 251047005, 93059006, 194892009, 194...</td>\n",
       "      <td>[Pulmonary artery dilatation, Dilatation of pu...</td>\n",
       "    </tr>\n",
       "    <tr>\n",
       "      <th>33451</th>\n",
       "      <td>SYMPTOM</td>\n",
       "      <td>normal lung parenchyma</td>\n",
       "      <td>37861254</td>\n",
       "      <td>[827032003, 254640007, 254640007, 254639005, 9...</td>\n",
       "      <td>[Normal lung, Benign tumor of lung parenchyma,...</td>\n",
       "    </tr>\n",
       "  </tbody>\n",
       "</table>\n",
       "<p>33452 rows × 5 columns</p>\n",
       "</div>"
      ],
      "text/plain": [
       "         label                              text  filenameid  \\\n",
       "0      DISEASE   Amyloid light-chain amyloidosis  33175723_1   \n",
       "1      DISEASE               cardiac amyloidosis  33175723_1   \n",
       "2      DISEASE                    cardiomyopathy  33175723_1   \n",
       "3      DISEASE                     heart failure  33175723_1   \n",
       "4      DISEASE            primary AL amyloidosis  33175723_1   \n",
       "...        ...                               ...         ...   \n",
       "33447  SYMPTOM                               Pul    37861254   \n",
       "33448  SYMPTOM                          test and    37861254   \n",
       "33449  SYMPTOM               results were normal    37861254   \n",
       "33450  SYMPTOM  enlarged main pulmonary arteries    37861254   \n",
       "33451  SYMPTOM            normal lung parenchyma    37861254   \n",
       "\n",
       "                                                   codes  \\\n",
       "0      [23132008, 23132008, 23132008, 426598005, 2749...   \n",
       "1      [16573007, 16573007, 17602002, 1187540008, 118...   \n",
       "2      [85898001, 35728003, 111285003, 89461002, 3990...   \n",
       "3      [84114007, 84114007, 84114007, 42343007, 42343...   \n",
       "4      [23132008, 128817004, 190923000, 274945004, 56...   \n",
       "...                                                  ...   \n",
       "33447  [233604007, 19829001, 205237003, 91434003, 846...   \n",
       "33448  [252014003, 226219004, 68193004, 251644002, 25...   \n",
       "33449  [168500000, 408573005, 165324008, 312969002, 1...   \n",
       "33450  [93059006, 251047005, 93059006, 194892009, 194...   \n",
       "33451  [827032003, 254640007, 254640007, 254639005, 9...   \n",
       "\n",
       "                                                   terms  \n",
       "0      [Amyloid light-chain amyloidosis, Primary amyl...  \n",
       "1      [Cardiac amyloidosis, Senile cardiac amyloidos...  \n",
       "2      [Cardiomyopathy, Familial cardiomyopathy, Meta...  \n",
       "3      [Heart failure, Cardiac failure, HF - Heart fa...  \n",
       "4      [AL amyloidosis, Primary amyloidosis, Sporadic...  \n",
       "...                                                  ...  \n",
       "33447  [Pneumonia, Pulmonary disease, Pneumonitis, Pu...  \n",
       "33448  [Urethral test observation, Test diet, Thomas ...  \n",
       "33449  [Radiology result normal, Imaging result norma...  \n",
       "33450  [Pulmonary artery dilatation, Dilatation of pu...  \n",
       "33451  [Normal lung, Benign tumor of lung parenchyma,...  \n",
       "\n",
       "[33452 rows x 5 columns]"
      ]
     },
     "execution_count": 14,
     "metadata": {},
     "output_type": "execute_result"
    }
   ],
   "source": [
    "df_cc_ents_gazetteers"
   ]
  },
  {
   "cell_type": "code",
   "execution_count": 15,
   "metadata": {},
   "outputs": [
    {
     "name": "stdout",
     "output_type": "stream",
     "text": [
      "LABEL: DISEASE\n"
     ]
    },
    {
     "data": {
      "application/vnd.jupyter.widget-view+json": {
       "model_id": "d5037f0e9c2b47f1bff31e86590f4644",
       "version_major": 2,
       "version_minor": 0
      },
      "text/plain": [
       "Batches:   0%|          | 0/5892 [00:00<?, ?it/s]"
      ]
     },
     "metadata": {},
     "output_type": "display_data"
    },
    {
     "name": "stdout",
     "output_type": "stream",
     "text": [
      "LABEL: MEDICATION\n"
     ]
    },
    {
     "data": {
      "application/vnd.jupyter.widget-view+json": {
       "model_id": "af8c392e7219433d868a2cbbc66c881b",
       "version_major": 2,
       "version_minor": 0
      },
      "text/plain": [
       "Batches:   0%|          | 0/3232 [00:00<?, ?it/s]"
      ]
     },
     "metadata": {},
     "output_type": "display_data"
    },
    {
     "name": "stdout",
     "output_type": "stream",
     "text": [
      "LABEL: PROCEDURE\n"
     ]
    },
    {
     "data": {
      "application/vnd.jupyter.widget-view+json": {
       "model_id": "0014bdb57015467e9264a315706515d2",
       "version_major": 2,
       "version_minor": 0
      },
      "text/plain": [
       "Batches:   0%|          | 0/7141 [00:00<?, ?it/s]"
      ]
     },
     "metadata": {},
     "output_type": "display_data"
    },
    {
     "name": "stdout",
     "output_type": "stream",
     "text": [
      "LABEL: SYMPTOM\n"
     ]
    },
    {
     "data": {
      "application/vnd.jupyter.widget-view+json": {
       "model_id": "94a5ac1f82a24a998063475d14497dbf",
       "version_major": 2,
       "version_minor": 0
      },
      "text/plain": [
       "Batches:   0%|          | 0/7099 [00:00<?, ?it/s]"
      ]
     },
     "metadata": {},
     "output_type": "display_data"
    }
   ],
   "source": [
    "df_ds_ents_gazetteers = link_ents_to_gazetteers(df_ds_ents, [\"DISEASE\", \"MEDICATION\", \"PROCEDURE\", \"SYMPTOM\"], model_st)\n"
   ]
  },
  {
   "cell_type": "code",
   "execution_count": 16,
   "metadata": {},
   "outputs": [
    {
     "data": {
      "text/html": [
       "<div>\n",
       "<style scoped>\n",
       "    .dataframe tbody tr th:only-of-type {\n",
       "        vertical-align: middle;\n",
       "    }\n",
       "\n",
       "    .dataframe tbody tr th {\n",
       "        vertical-align: top;\n",
       "    }\n",
       "\n",
       "    .dataframe thead th {\n",
       "        text-align: right;\n",
       "    }\n",
       "</style>\n",
       "<table border=\"1\" class=\"dataframe\">\n",
       "  <thead>\n",
       "    <tr style=\"text-align: right;\">\n",
       "      <th></th>\n",
       "      <th>label</th>\n",
       "      <th>text</th>\n",
       "      <th>filenameid</th>\n",
       "      <th>codes</th>\n",
       "      <th>terms</th>\n",
       "    </tr>\n",
       "  </thead>\n",
       "  <tbody>\n",
       "    <tr>\n",
       "      <th>0</th>\n",
       "      <td>DISEASE</td>\n",
       "      <td>Amyloid light-chain amyloidosis</td>\n",
       "      <td>33175723_1</td>\n",
       "      <td>[23132008, 23132008, 23132008, 426598005, 2749...</td>\n",
       "      <td>[Amyloid light-chain amyloidosis, Primary amyl...</td>\n",
       "    </tr>\n",
       "    <tr>\n",
       "      <th>1</th>\n",
       "      <td>DISEASE</td>\n",
       "      <td>Cardiac amyloidosis</td>\n",
       "      <td>33175723_1</td>\n",
       "      <td>[16573007, 16573007, 17602002, 1187540008, 118...</td>\n",
       "      <td>[Cardiac amyloidosis, Senile cardiac amyloidos...</td>\n",
       "    </tr>\n",
       "    <tr>\n",
       "      <th>2</th>\n",
       "      <td>DISEASE</td>\n",
       "      <td>Cardiomyopathy</td>\n",
       "      <td>33175723_1</td>\n",
       "      <td>[85898001, 35728003, 111285003, 89461002, 3990...</td>\n",
       "      <td>[Cardiomyopathy, Familial cardiomyopathy, Meta...</td>\n",
       "    </tr>\n",
       "    <tr>\n",
       "      <th>3</th>\n",
       "      <td>DISEASE</td>\n",
       "      <td>Heart failure</td>\n",
       "      <td>33175723_1</td>\n",
       "      <td>[84114007, 84114007, 84114007, 42343007, 42343...</td>\n",
       "      <td>[Heart failure, Cardiac failure, HF - Heart fa...</td>\n",
       "    </tr>\n",
       "    <tr>\n",
       "      <th>4</th>\n",
       "      <td>DISEASE</td>\n",
       "      <td>Primary AL amyloidosis</td>\n",
       "      <td>33175723_1</td>\n",
       "      <td>[23132008, 128817004, 190923000, 274945004, 56...</td>\n",
       "      <td>[AL amyloidosis, Primary amyloidosis, Sporadic...</td>\n",
       "    </tr>\n",
       "    <tr>\n",
       "      <th>...</th>\n",
       "      <td>...</td>\n",
       "      <td>...</td>\n",
       "      <td>...</td>\n",
       "      <td>...</td>\n",
       "      <td>...</td>\n",
       "    </tr>\n",
       "    <tr>\n",
       "      <th>32275</th>\n",
       "      <td>SYMPTOM</td>\n",
       "      <td>and right ventricle</td>\n",
       "      <td>37861254</td>\n",
       "      <td>[301097002, 109425008, 448600002, 448103004, 2...</td>\n",
       "      <td>[Finding of right ventricle, Single right vent...</td>\n",
       "    </tr>\n",
       "    <tr>\n",
       "      <th>32276</th>\n",
       "      <td>SYMPTOM</td>\n",
       "      <td>increased right ventricular systolic pressure</td>\n",
       "      <td>37861254</td>\n",
       "      <td>[416158002, 461321006, 18050000, 56218007, 180...</td>\n",
       "      <td>[Right ventricular systolic dysfunction, Right...</td>\n",
       "    </tr>\n",
       "    <tr>\n",
       "      <th>32277</th>\n",
       "      <td>SYMPTOM</td>\n",
       "      <td>: Normal</td>\n",
       "      <td>37861254</td>\n",
       "      <td>[386549008, 225544001, 81323004, 125112009, 53...</td>\n",
       "      <td>[Normal appearance, Skin normal, Normal patien...</td>\n",
       "    </tr>\n",
       "    <tr>\n",
       "      <th>32278</th>\n",
       "      <td>SYMPTOM</td>\n",
       "      <td>Enlarged main pulmonary arteries</td>\n",
       "      <td>37861254</td>\n",
       "      <td>[93059006, 251047005, 93059006, 194892009, 194...</td>\n",
       "      <td>[Pulmonary artery dilatation, Dilatation of pu...</td>\n",
       "    </tr>\n",
       "    <tr>\n",
       "      <th>32279</th>\n",
       "      <td>SYMPTOM</td>\n",
       "      <td>lung</td>\n",
       "      <td>37861254</td>\n",
       "      <td>[301230006, 128601007, 19829001, 363358000, 52...</td>\n",
       "      <td>[Lung finding, Lung infection, Lung disorder, ...</td>\n",
       "    </tr>\n",
       "  </tbody>\n",
       "</table>\n",
       "<p>32280 rows × 5 columns</p>\n",
       "</div>"
      ],
      "text/plain": [
       "         label                                           text  filenameid  \\\n",
       "0      DISEASE                Amyloid light-chain amyloidosis  33175723_1   \n",
       "1      DISEASE                            Cardiac amyloidosis  33175723_1   \n",
       "2      DISEASE                                 Cardiomyopathy  33175723_1   \n",
       "3      DISEASE                                  Heart failure  33175723_1   \n",
       "4      DISEASE                         Primary AL amyloidosis  33175723_1   \n",
       "...        ...                                            ...         ...   \n",
       "32275  SYMPTOM                            and right ventricle    37861254   \n",
       "32276  SYMPTOM  increased right ventricular systolic pressure    37861254   \n",
       "32277  SYMPTOM                                       : Normal    37861254   \n",
       "32278  SYMPTOM               Enlarged main pulmonary arteries    37861254   \n",
       "32279  SYMPTOM                                           lung    37861254   \n",
       "\n",
       "                                                   codes  \\\n",
       "0      [23132008, 23132008, 23132008, 426598005, 2749...   \n",
       "1      [16573007, 16573007, 17602002, 1187540008, 118...   \n",
       "2      [85898001, 35728003, 111285003, 89461002, 3990...   \n",
       "3      [84114007, 84114007, 84114007, 42343007, 42343...   \n",
       "4      [23132008, 128817004, 190923000, 274945004, 56...   \n",
       "...                                                  ...   \n",
       "32275  [301097002, 109425008, 448600002, 448103004, 2...   \n",
       "32276  [416158002, 461321006, 18050000, 56218007, 180...   \n",
       "32277  [386549008, 225544001, 81323004, 125112009, 53...   \n",
       "32278  [93059006, 251047005, 93059006, 194892009, 194...   \n",
       "32279  [301230006, 128601007, 19829001, 363358000, 52...   \n",
       "\n",
       "                                                   terms  \n",
       "0      [Amyloid light-chain amyloidosis, Primary amyl...  \n",
       "1      [Cardiac amyloidosis, Senile cardiac amyloidos...  \n",
       "2      [Cardiomyopathy, Familial cardiomyopathy, Meta...  \n",
       "3      [Heart failure, Cardiac failure, HF - Heart fa...  \n",
       "4      [AL amyloidosis, Primary amyloidosis, Sporadic...  \n",
       "...                                                  ...  \n",
       "32275  [Finding of right ventricle, Single right vent...  \n",
       "32276  [Right ventricular systolic dysfunction, Right...  \n",
       "32277  [Normal appearance, Skin normal, Normal patien...  \n",
       "32278  [Pulmonary artery dilatation, Dilatation of pu...  \n",
       "32279  [Lung finding, Lung infection, Lung disorder, ...  \n",
       "\n",
       "[32280 rows x 5 columns]"
      ]
     },
     "execution_count": 16,
     "metadata": {},
     "output_type": "execute_result"
    }
   ],
   "source": [
    "df_ds_ents_gazetteers"
   ]
  },
  {
   "cell_type": "code",
   "execution_count": 17,
   "metadata": {},
   "outputs": [],
   "source": [
    "df_cc_ents_gazetteers.to_csv(\"nbs/evaluation/automatic/cardioner_entities/NOIOB_EN_clinical_case_ents.tsv\", sep=\"\\t\", index=False)\n",
    "df_ds_ents_gazetteers.to_csv(\"nbs/evaluation/automatic/cardioner_entities/NOIOB_EN_discharge_summary_ents.tsv\", sep=\"\\t\", index=False)"
   ]
  }
 ],
 "metadata": {
  "kernelspec": {
   "display_name": "msds (conda)",
   "language": "python",
   "name": "msds"
  },
  "language_info": {
   "codemirror_mode": {
    "name": "ipython",
    "version": 3
   },
   "file_extension": ".py",
   "mimetype": "text/x-python",
   "name": "python",
   "nbconvert_exporter": "python",
   "pygments_lexer": "ipython3",
   "version": "3.11.11"
  }
 },
 "nbformat": 4,
 "nbformat_minor": 2
}

{
 "cells": [
  {
   "cell_type": "markdown",
   "metadata": {},
   "source": [
    "# Automatic Comparison of Two Datasets"
   ]
  },
  {
   "cell_type": "markdown",
   "metadata": {},
   "source": [
    "## Load Data"
   ]
  },
  {
   "cell_type": "code",
   "execution_count": 1,
   "metadata": {},
   "outputs": [
    {
     "name": "stderr",
     "output_type": "stream",
     "text": [
      "Your CPU supports instructions that this binary was not compiled to use: SSE3 SSE4.1 SSE4.2 AVX AVX2\n",
      "For maximum performance, you can install NMSLIB from sources \n",
      "pip install --no-binary :all: nmslib\n"
     ]
    },
    {
     "name": "stdout",
     "output_type": "stream",
     "text": [
      "There are 1000 original and 1000 generated samples\n"
     ]
    }
   ],
   "source": [
    "import pandas as pd\n",
    "import os\n",
    "import en_ner_bc5cdr_md\n",
    "from spacy.language import Language\n",
    "from scispacy.linking import EntityLinker\n",
    "from tqdm import tqdm\n",
    "tqdm.pandas()\n",
    "\n",
    "from src.data import files_to_df\n",
    "from src.scispacy_ie import entity_linker\n",
    "\n",
    "gen_path = \"data/2_generated/2step_transformation_dt4h_GPT4omini\"\n",
    "orig_path = \"data/1_original/txt\"\n",
    "\n",
    "lang = \"en\"\n",
    "gen_path = os.path.join(gen_path, lang)\n",
    "\n",
    "df_orig = files_to_df(orig_path)\n",
    "\n",
    "df_gen = files_to_df(gen_path)\n",
    "df_gen[\"text_orig\"] = df_gen[\"text\"]\n",
    "df_gen[\"text\"] = df_gen[\"text_orig\"].apply(lambda x: x.split(\"'text_to_transform': \")[-1][:-1].replace(\"'\", \"\"))\n",
    "df_gen.drop(\"text_orig\", axis=1, inplace=True)\n",
    "\n",
    "print(\"There are {} original and {} generated samples\".format(len(df_orig), len(df_gen)))"
   ]
  },
  {
   "cell_type": "markdown",
   "metadata": {},
   "source": [
    "## Extract Entities and Normalize"
   ]
  },
  {
   "cell_type": "code",
   "execution_count": 2,
   "metadata": {},
   "outputs": [
    {
     "data": {
      "text/html": [
       "<div>\n",
       "<style scoped>\n",
       "    .dataframe tbody tr th:only-of-type {\n",
       "        vertical-align: middle;\n",
       "    }\n",
       "\n",
       "    .dataframe tbody tr th {\n",
       "        vertical-align: top;\n",
       "    }\n",
       "\n",
       "    .dataframe thead th {\n",
       "        text-align: right;\n",
       "    }\n",
       "</style>\n",
       "<table border=\"1\" class=\"dataframe\">\n",
       "  <thead>\n",
       "    <tr style=\"text-align: right;\">\n",
       "      <th></th>\n",
       "      <th>filenameid</th>\n",
       "      <th>text</th>\n",
       "    </tr>\n",
       "  </thead>\n",
       "  <tbody>\n",
       "    <tr>\n",
       "      <th>0</th>\n",
       "      <td>36951253_transformed_step1</td>\n",
       "      <td>**Discharge Summary**\\n\\n**Patient Information...</td>\n",
       "    </tr>\n",
       "    <tr>\n",
       "      <th>1</th>\n",
       "      <td>33892935_transformed_step1</td>\n",
       "      <td>**Discharge Summary**\\n\\n**Patient Information...</td>\n",
       "    </tr>\n",
       "    <tr>\n",
       "      <th>2</th>\n",
       "      <td>28960930_transformed_step1</td>\n",
       "      <td>**Discharge Summary**\\n\\n**Patient Information...</td>\n",
       "    </tr>\n",
       "    <tr>\n",
       "      <th>3</th>\n",
       "      <td>29538200_transformed_step1</td>\n",
       "      <td>**Discharge Summary**\\n\\n**Patient Information...</td>\n",
       "    </tr>\n",
       "    <tr>\n",
       "      <th>4</th>\n",
       "      <td>30103814_transformed_step1</td>\n",
       "      <td>**Discharge Summary**\\n\\n**Patient Information...</td>\n",
       "    </tr>\n",
       "    <tr>\n",
       "      <th>...</th>\n",
       "      <td>...</td>\n",
       "      <td>...</td>\n",
       "    </tr>\n",
       "    <tr>\n",
       "      <th>995</th>\n",
       "      <td>30762762_transformed_step1</td>\n",
       "      <td>**Discharge Summary**\\n\\n**Patient Information...</td>\n",
       "    </tr>\n",
       "    <tr>\n",
       "      <th>996</th>\n",
       "      <td>27980283_transformed_step1</td>\n",
       "      <td>**Discharge Summary**\\n\\n**Patient Information...</td>\n",
       "    </tr>\n",
       "    <tr>\n",
       "      <th>997</th>\n",
       "      <td>34012203_transformed_step1</td>\n",
       "      <td>**Discharge Summary**\\n\\n**Patient Information...</td>\n",
       "    </tr>\n",
       "    <tr>\n",
       "      <th>998</th>\n",
       "      <td>37828735_4_transformed_step1</td>\n",
       "      <td>**Discharge Summary**\\n\\n**Patient Information...</td>\n",
       "    </tr>\n",
       "    <tr>\n",
       "      <th>999</th>\n",
       "      <td>33045427_transformed_step1</td>\n",
       "      <td>**Discharge Summary**\\n\\n**Patient Information...</td>\n",
       "    </tr>\n",
       "  </tbody>\n",
       "</table>\n",
       "<p>1000 rows × 2 columns</p>\n",
       "</div>"
      ],
      "text/plain": [
       "                       filenameid  \\\n",
       "0      36951253_transformed_step1   \n",
       "1      33892935_transformed_step1   \n",
       "2      28960930_transformed_step1   \n",
       "3      29538200_transformed_step1   \n",
       "4      30103814_transformed_step1   \n",
       "..                            ...   \n",
       "995    30762762_transformed_step1   \n",
       "996    27980283_transformed_step1   \n",
       "997    34012203_transformed_step1   \n",
       "998  37828735_4_transformed_step1   \n",
       "999    33045427_transformed_step1   \n",
       "\n",
       "                                                  text  \n",
       "0    **Discharge Summary**\\n\\n**Patient Information...  \n",
       "1    **Discharge Summary**\\n\\n**Patient Information...  \n",
       "2    **Discharge Summary**\\n\\n**Patient Information...  \n",
       "3    **Discharge Summary**\\n\\n**Patient Information...  \n",
       "4    **Discharge Summary**\\n\\n**Patient Information...  \n",
       "..                                                 ...  \n",
       "995  **Discharge Summary**\\n\\n**Patient Information...  \n",
       "996  **Discharge Summary**\\n\\n**Patient Information...  \n",
       "997  **Discharge Summary**\\n\\n**Patient Information...  \n",
       "998  **Discharge Summary**\\n\\n**Patient Information...  \n",
       "999  **Discharge Summary**\\n\\n**Patient Information...  \n",
       "\n",
       "[1000 rows x 2 columns]"
      ]
     },
     "execution_count": 2,
     "metadata": {},
     "output_type": "execute_result"
    }
   ],
   "source": [
    "df_gen"
   ]
  },
  {
   "cell_type": "code",
   "execution_count": 4,
   "metadata": {},
   "outputs": [
    {
     "name": "stderr",
     "output_type": "stream",
     "text": [
      "/gpfs/projects/bsc14/code/MultiSynDS/.venv/lib64/python3.9/site-packages/sklearn/base.py:376: InconsistentVersionWarning: Trying to unpickle estimator TfidfTransformer from version 1.1.2 when using version 1.5.2. This might lead to breaking code or invalid results. Use at your own risk. For more info please refer to:\n",
      "https://scikit-learn.org/stable/model_persistence.html#security-maintainability-limitations\n",
      "  warnings.warn(\n",
      "/gpfs/projects/bsc14/code/MultiSynDS/.venv/lib64/python3.9/site-packages/sklearn/base.py:376: InconsistentVersionWarning: Trying to unpickle estimator TfidfVectorizer from version 1.1.2 when using version 1.5.2. This might lead to breaking code or invalid results. Use at your own risk. For more info please refer to:\n",
      "https://scikit-learn.org/stable/model_persistence.html#security-maintainability-limitations\n",
      "  warnings.warn(\n"
     ]
    }
   ],
   "source": [
    "nlp = en_ner_bc5cdr_md.load()\n",
    "\n",
    "try:    # Register the EntityLinker component\n",
    "    @Language.factory(\"umls_linker\")\n",
    "    def create_umls_linker(nlp, name):\n",
    "        return EntityLinker(k=10, max_entities_per_mention=5, name=\"umls\")\n",
    "    nlp.add_pipe(\"umls_linker\")\n",
    "    \n",
    "except ValueError:\n",
    "    print(\"Entity linker already exists\")"
   ]
  },
  {
   "cell_type": "code",
   "execution_count": null,
   "metadata": {},
   "outputs": [],
   "source": []
  },
  {
   "cell_type": "code",
   "execution_count": null,
   "metadata": {},
   "outputs": [
    {
     "name": "stderr",
     "output_type": "stream",
     "text": [
      "/gpfs/projects/bsc14/code/MultiSynDS/.venv/lib64/python3.9/site-packages/tqdm/auto.py:21: TqdmWarning: IProgress not found. Please update jupyter and ipywidgets. See https://ipywidgets.readthedocs.io/en/stable/user_install.html\n",
      "  from .autonotebook import tqdm as notebook_tqdm\n",
      "Pandas Apply: 100%|██████████| 400/400 [00:36<00:00, 10.93it/s]\n",
      "Pandas Apply: 100%|██████████| 400/400 [00:34<00:00, 11.47it/s]\n",
      "Pandas Apply: 100%|██████████| 200/200 [00:17<00:00, 11.58it/s]\n"
     ]
    },
    {
     "ename": "",
     "evalue": "",
     "output_type": "error",
     "traceback": [
      "\u001b[1;31mThe Kernel crashed while executing code in the current cell or a previous cell. \n",
      "\u001b[1;31mPlease review the code in the cell(s) to identify a possible cause of the failure. \n",
      "\u001b[1;31mClick <a href='https://aka.ms/vscodeJupyterKernelCrash'>here</a> for more info. \n",
      "\u001b[1;31mView Jupyter <a href='command:jupyter.viewOutput'>log</a> for further details."
     ]
    }
   ],
   "source": [
    "import swifter\n",
    "\n",
    "df_ents_orig = pd.DataFrame()\n",
    "step = 10\n",
    "for i in range(0, df_orig.shape[0], step):\n",
    "    df_ents_orig = pd.concat([df_ents_orig, df_orig.iloc[i:i+step].set_index(\"filenameid\")[\"text\"].swifter.apply(lambda x: entity_linker(nlp, x)).explode().apply(pd.Series)], axis=0)\n",
    "\n",
    "df_ents_orig.columns = [\"span\", \"mention_class\", \"code\", \"term\"]\n",
    "df_ents_orig.reset_index(inplace=True)"
   ]
  },
  {
   "cell_type": "code",
   "execution_count": null,
   "metadata": {},
   "outputs": [
    {
     "name": "stderr",
     "output_type": "stream",
     "text": [
      "Pandas Apply: 100%|██████████| 100/100 [00:08<00:00, 12.48it/s]\n",
      "Pandas Apply:  80%|████████  | 80/100 [00:05<00:01, 14.82it/s]"
     ]
    }
   ],
   "source": [
    "df_ents_gen = pd.DataFrame()\n",
    "step = 100\n",
    "for i in range(0, df_gen.shape[0], step):\n",
    "    df_ents_gen = pd.concat([df_ents_gen, df_gen.iloc[i:i+step].set_index(\"filenameid\")[\"text\"].swifter.apply(lambda x: entity_linker(nlp, x)).explode().apply(pd.Series)], axis=0)\n",
    "\n",
    "df_gen.columns = [\"span\", \"mention_class\", \"code\", \"term\"]\n",
    "df_gen.reset_index(inplace=True)"
   ]
  },
  {
   "cell_type": "code",
   "execution_count": null,
   "metadata": {},
   "outputs": [],
   "source": []
  }
 ],
 "metadata": {
  "kernelspec": {
   "display_name": ".venv",
   "language": "python",
   "name": "python3"
  },
  "language_info": {
   "codemirror_mode": {
    "name": "ipython",
    "version": 3
   },
   "file_extension": ".py",
   "mimetype": "text/x-python",
   "name": "python",
   "nbconvert_exporter": "python",
   "pygments_lexer": "ipython3",
   "version": "3.9.16"
  }
 },
 "nbformat": 4,
 "nbformat_minor": 2
}

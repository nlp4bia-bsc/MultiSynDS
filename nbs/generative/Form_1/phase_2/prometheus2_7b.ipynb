{
 "cells": [
  {
   "cell_type": "markdown",
   "metadata": {},
   "source": [
    "# LLM-as-a-judge"
   ]
  },
  {
   "cell_type": "markdown",
   "metadata": {},
   "source": [
    "## Variable Definitions"
   ]
  },
  {
   "cell_type": "code",
   "execution_count": 1,
   "metadata": {},
   "outputs": [],
   "source": [
    "import pandas as pd\n",
    "import os\n",
    "from tqdm import tqdm\n",
    "tqdm.pandas()\n",
    "\n",
    "from src.generate import load_llama, simple_call_llama\n",
    "from src.data import files_to_df, read_document\n",
    "\n",
    "\n",
    "N_EXPECTED_SAMPLES = 35\n",
    "\n",
    "model_id = \"/gpfs/projects/bsc14/abecerr1/hub/models--prometheus-eval--prometheus-7b-v2.0/snapshots/66ffb1fc20beebfb60a3964a957d9011723116c5\"\n",
    "source_path = \"output/samples/en/phase_2/\"\n",
    "prompts_path = \"utils/prompts\"\n",
    "\n",
    "path_gen = os.path.join(source_path, \"generated\")\n",
    "path_orig = os.path.join(source_path, \"original\")\n",
    "path_human = os.path.join(source_path, \"human_eval.csv\")\n",
    "path_auto = os.path.join(source_path, \"auto_eval.csv\")\n",
    "\n",
    "path_guidelines = os.path.join(prompts_path, \"guidelines.txt\")\n",
    "guidelines = open(path_guidelines, \"r\").read()\n",
    "\n",
    "assert os.path.exists(path_gen), f\"Path {path_gen} does not exist\"\n",
    "assert os.path.exists(path_orig), f\"Path {path_orig} does not exist\"\n",
    "assert os.path.exists(path_human), f\"Path {path_human} does not exist\"\n",
    "assert os.path.exists(path_auto), f\"Path {path_auto} does not exist\"\n",
    "assert os.path.exists(path_guidelines), f\"Path {path_guidelines} does not exist\""
   ]
  },
  {
   "cell_type": "markdown",
   "metadata": {},
   "source": [
    "## Load Data"
   ]
  },
  {
   "cell_type": "markdown",
   "metadata": {},
   "source": [
    "### Clinical cases and Discharge summaries"
   ]
  },
  {
   "cell_type": "markdown",
   "metadata": {},
   "source": [
    "35 Different pairs of clinical cases and discharge summaries are provided.\n",
    "\n",
    "In the moment of writing this notebook, only 5 + 10 pairs have been annotated manually by one of our team members. The rest of the pairs are still pending to be annotated."
   ]
  },
  {
   "cell_type": "code",
   "execution_count": 2,
   "metadata": {},
   "outputs": [
    {
     "data": {
      "text/html": [
       "<div>\n",
       "<style scoped>\n",
       "    .dataframe tbody tr th:only-of-type {\n",
       "        vertical-align: middle;\n",
       "    }\n",
       "\n",
       "    .dataframe tbody tr th {\n",
       "        vertical-align: top;\n",
       "    }\n",
       "\n",
       "    .dataframe thead th {\n",
       "        text-align: right;\n",
       "    }\n",
       "</style>\n",
       "<table border=\"1\" class=\"dataframe\">\n",
       "  <thead>\n",
       "    <tr style=\"text-align: right;\">\n",
       "      <th></th>\n",
       "      <th>filenameid</th>\n",
       "      <th>clinical_case</th>\n",
       "      <th>discharge_summary</th>\n",
       "    </tr>\n",
       "  </thead>\n",
       "  <tbody>\n",
       "    <tr>\n",
       "      <th>0</th>\n",
       "      <td>32153696</td>\n",
       "      <td>An 80-year-old man who worked as a constructio...</td>\n",
       "      <td>**Discharge Summary**\\n\\n**Patient Information...</td>\n",
       "    </tr>\n",
       "    <tr>\n",
       "      <th>1</th>\n",
       "      <td>32470561</td>\n",
       "      <td>A 46-years-old female was admitted to our depa...</td>\n",
       "      <td>**Discharge Summary**\\n\\n**Patient Information...</td>\n",
       "    </tr>\n",
       "    <tr>\n",
       "      <th>2</th>\n",
       "      <td>29617510</td>\n",
       "      <td>An 81-year-old male patient was admitted due t...</td>\n",
       "      <td>**Discharge Summary**\\n\\n**Patient Information...</td>\n",
       "    </tr>\n",
       "    <tr>\n",
       "      <th>3</th>\n",
       "      <td>38422307</td>\n",
       "      <td>A 43-year-old female patient with uterine diff...</td>\n",
       "      <td>**Discharge Summary**\\n\\n**Patient Information...</td>\n",
       "    </tr>\n",
       "    <tr>\n",
       "      <th>4</th>\n",
       "      <td>31204375</td>\n",
       "      <td>A 92-year-old man was admitted to our hospital...</td>\n",
       "      <td>**Discharge Summary**\\n\\n**Patient Information...</td>\n",
       "    </tr>\n",
       "  </tbody>\n",
       "</table>\n",
       "</div>"
      ],
      "text/plain": [
       "  filenameid                                      clinical_case  \\\n",
       "0   32153696  An 80-year-old man who worked as a constructio...   \n",
       "1   32470561  A 46-years-old female was admitted to our depa...   \n",
       "2   29617510  An 81-year-old male patient was admitted due t...   \n",
       "3   38422307  A 43-year-old female patient with uterine diff...   \n",
       "4   31204375  A 92-year-old man was admitted to our hospital...   \n",
       "\n",
       "                                   discharge_summary  \n",
       "0  **Discharge Summary**\\n\\n**Patient Information...  \n",
       "1  **Discharge Summary**\\n\\n**Patient Information...  \n",
       "2  **Discharge Summary**\\n\\n**Patient Information...  \n",
       "3  **Discharge Summary**\\n\\n**Patient Information...  \n",
       "4  **Discharge Summary**\\n\\n**Patient Information...  "
      ]
     },
     "execution_count": 2,
     "metadata": {},
     "output_type": "execute_result"
    }
   ],
   "source": [
    "## Load and preprocess generated samples\n",
    "df_pairs_gen = files_to_df(path_gen)\n",
    "df_pairs_gen[\"filenameid\"] = df_pairs_gen[\"filenameid\"].str.replace(\"_transformed_step1\", \"\")\n",
    "\n",
    "## Load and preprocess original samples\n",
    "df_pairs_orig = files_to_df(path_orig)\n",
    "\n",
    "df_pairs = df_pairs_orig.merge(df_pairs_gen, on=\"filenameid\", suffixes=(\"_orig\", \"_gen\"))\n",
    "\n",
    "assert len(df_pairs) == N_EXPECTED_SAMPLES, f\"Expected {N_EXPECTED_SAMPLES} samples, got {len(df_pairs)}\"\n",
    "\n",
    "df_pairs = df_pairs.rename(columns={\"text_orig\": \"clinical_case\", \"text_gen\": \"discharge_summary\"})\n",
    "df_pairs.head()"
   ]
  },
  {
   "cell_type": "code",
   "execution_count": null,
   "metadata": {},
   "outputs": [
    {
     "name": "stdout",
     "output_type": "stream",
     "text": [
      "(35, 3)\n"
     ]
    }
   ],
   "source": [
    "print(df_pairs.shape)"
   ]
  },
  {
   "cell_type": "markdown",
   "metadata": {},
   "source": [
    "### Human Evaluation"
   ]
  },
  {
   "cell_type": "code",
   "execution_count": null,
   "metadata": {},
   "outputs": [
    {
     "data": {
      "text/html": [
       "<div>\n",
       "<style scoped>\n",
       "    .dataframe tbody tr th:only-of-type {\n",
       "        vertical-align: middle;\n",
       "    }\n",
       "\n",
       "    .dataframe tbody tr th {\n",
       "        vertical-align: top;\n",
       "    }\n",
       "\n",
       "    .dataframe thead th {\n",
       "        text-align: right;\n",
       "    }\n",
       "</style>\n",
       "<table border=\"1\" class=\"dataframe\">\n",
       "  <thead>\n",
       "    <tr style=\"text-align: right;\">\n",
       "      <th></th>\n",
       "      <th>filenameid</th>\n",
       "      <th>human_score</th>\n",
       "    </tr>\n",
       "  </thead>\n",
       "  <tbody>\n",
       "    <tr>\n",
       "      <th>0</th>\n",
       "      <td>33857916</td>\n",
       "      <td>{'Content Relevance': 1, 'Information Complete...</td>\n",
       "    </tr>\n",
       "    <tr>\n",
       "      <th>1</th>\n",
       "      <td>34530632</td>\n",
       "      <td>{'Content Relevance': 5, 'Information Complete...</td>\n",
       "    </tr>\n",
       "    <tr>\n",
       "      <th>2</th>\n",
       "      <td>32997782</td>\n",
       "      <td>{'Content Relevance': 4, 'Information Complete...</td>\n",
       "    </tr>\n",
       "    <tr>\n",
       "      <th>3</th>\n",
       "      <td>31378248</td>\n",
       "      <td>{'Content Relevance': 5, 'Information Complete...</td>\n",
       "    </tr>\n",
       "    <tr>\n",
       "      <th>4</th>\n",
       "      <td>30785587</td>\n",
       "      <td>{'Content Relevance': 1, 'Information Complete...</td>\n",
       "    </tr>\n",
       "  </tbody>\n",
       "</table>\n",
       "</div>"
      ],
      "text/plain": [
       "  filenameid                                        human_score\n",
       "0   33857916  {'Content Relevance': 1, 'Information Complete...\n",
       "1   34530632  {'Content Relevance': 5, 'Information Complete...\n",
       "2   32997782  {'Content Relevance': 4, 'Information Complete...\n",
       "3   31378248  {'Content Relevance': 5, 'Information Complete...\n",
       "4   30785587  {'Content Relevance': 1, 'Information Complete..."
      ]
     },
     "execution_count": 4,
     "metadata": {},
     "output_type": "execute_result"
    }
   ],
   "source": [
    "df_human = pd.read_csv(path_human)\n",
    "\n",
    "d_score_cols = {\n",
    "                        \"Overall validation [Content Relevance]\": \"Content Relevance\",\n",
    "                        \"Overall validation [Information Completeness]\": \"Information Completeness\",\n",
    "                        \"Overall validation [Clarity and Structure]\": \"Clarity and Structure\",\n",
    "                        \"Overall validation [Content Accuracy]\": \"Content Accuracy\",\n",
    "                        \"Overall validation [Hallucinations]\": \"Hallucinations\",\n",
    "                        \"Overall validation [Impact of Hallucinations]\": \"Impact of Hallucinations\",\n",
    "                        \"Overall validation [Relevance to Practice]\": \"Relevance to Practice\",\n",
    "                        \"Overall validation [Overall Quality]\": \"Overall Quality\",\n",
    "                        \"Positive highlights: Describe what aspects of the synthetic discharge summaries resemble the best real EHRs? (Empty if nothing remarkable)\": \"Positive highlights\",\n",
    "                        \"Negative highlights: Which aspects of the synthetic discharge summaries do not resemble well real EHRs? (Empty if nothing remarkable)\": \"Negative highlights\",\n",
    "                        \"Other Comments: Do you have any other feedback or comment on the generated synthetic discharge summaries or in the original cases? (Empty if nothing remarkable)\": \"Other Comments\"\n",
    "}\n",
    "\n",
    "df_human.rename(columns=d_score_cols, inplace=True)\n",
    "df_human.rename(columns={\"Original file name (e.g. 36951253)\": \"filenameid\"}, inplace=True)\n",
    "\n",
    "columns_to_exclude = [\n",
    "    \"Email Address\", \"Timestamp\"\n",
    "]\n",
    "df_human = df_human.drop(columns=columns_to_exclude)\n",
    "df_human = df_human.fillna(\"\")\n",
    "\n",
    "df_human_prompt = df_human[[\"filenameid\"]].copy()\n",
    "df_human_prompt[\"human_score\"] = \"\"\n",
    "df_human_prompt.loc[:, \"human_score\"] = df_human.iloc[:, 1:].apply(lambda x: x.to_dict(), axis=1)\n",
    "\n",
    "df_human_prompt.head()"
   ]
  },
  {
   "cell_type": "markdown",
   "metadata": {},
   "source": [
    "The amount of cases annotated by the human evaluators is 15 and they contain the following information:\n",
    "\n",
    "- `filenameid`: The name of the file\n",
    "- `human_score`: A dictionary with scores associated to\n",
    "  - **Content Relevance**: Does the summary focus on clinically relevant information\n",
    "  - **Information Completeness**: Does the summary include all key details (diagnoses, treatments, follow-ups)?\n",
    "  - **Clarity and Structure**: Is the information presented in a clear and logically structured manner like a real discharge report?\n",
    "  - **Content Accuracy**: Does the report accurately reflect the clinical information provided in the input?\n",
    "  - **Hallucinations**: Are there any factual inaccuracies or fabricated content in the summary?\n",
    "  - **Impact of Hallucinations**: How severe are these hallucination (e.g. 1-2: Irrelevant content, 3: include details about the patients not in original, 4-5: medication doses, procedures, etc)\n",
    "  - **Relevance to Practice**: Would this summary be usable in clinical practice without significant revision?\n",
    "  - **Overall Quality**: How would you rate the overall quality of the discharge summary?\n",
    "  \n",
    "  - Free text features to be commented in error analysis. Not mandatory but open to express as much or as few as wanted.\n",
    "        - **Positive/Negative highlights of generation process**\n",
    "        - **Other comments on Generated/Original data sources**"
   ]
  },
  {
   "cell_type": "code",
   "execution_count": null,
   "metadata": {},
   "outputs": [
    {
     "data": {
      "text/plain": [
       "{'Content Relevance': 1,\n",
       " 'Information Completeness': 1,\n",
       " 'Clarity and Structure': 4,\n",
       " 'Content Accuracy': 2,\n",
       " 'Hallucinations': 1,\n",
       " 'Impact of Hallucinations': 1,\n",
       " 'Relevance to Practice': 1,\n",
       " 'Overall Quality': 2,\n",
       " 'Positive highlights': 'Good structure. ',\n",
       " 'Negative highlights': 'Lack of information related with clinical course and outcome. Patient evoluciton is not completly well explained. These parts are important in this case.',\n",
       " 'Other Comments': ''}"
      ]
     },
     "execution_count": 5,
     "metadata": {},
     "output_type": "execute_result"
    }
   ],
   "source": [
    "df_human_prompt[\"human_score\"][0]"
   ]
  },
  {
   "cell_type": "code",
   "execution_count": null,
   "metadata": {},
   "outputs": [
    {
     "name": "stdout",
     "output_type": "stream",
     "text": [
      "(15, 2)\n"
     ]
    }
   ],
   "source": [
    "print(df_human_prompt.shape)"
   ]
  },
  {
   "cell_type": "markdown",
   "metadata": {},
   "source": [
    "### Automatic Evaluation"
   ]
  },
  {
   "cell_type": "markdown",
   "metadata": {},
   "source": [
    "Apart from human evaluation, we have also performed automatic evaluation about medical concepts coverage by applying named entity recognition (NER) and Entity Linking to UMLS to the clinical cases and discharge summaries.\n",
    "\n",
    "The automatic evaluation is based on the following metrics:\n",
    "- **precision**: The number of entities in the generated text that are correctly identified by the model divided by the total number of entities in the generated text.\n",
    "- **recall**: The number of entities in the generated text that are correctly identified by the model divided by the total number of entities in the reference text.\n",
    "- **f1**: The harmonic mean of precision and recall.\n",
    "\n",
    "This automatic evaluation was performed over all the cases (1000 in total) and the results are stored in the `output/samples/en/phase_2/auto_eval.csv` file."
   ]
  },
  {
   "cell_type": "code",
   "execution_count": null,
   "metadata": {},
   "outputs": [
    {
     "data": {
      "text/html": [
       "<div>\n",
       "<style scoped>\n",
       "    .dataframe tbody tr th:only-of-type {\n",
       "        vertical-align: middle;\n",
       "    }\n",
       "\n",
       "    .dataframe tbody tr th {\n",
       "        vertical-align: top;\n",
       "    }\n",
       "\n",
       "    .dataframe thead th {\n",
       "        text-align: right;\n",
       "    }\n",
       "</style>\n",
       "<table border=\"1\" class=\"dataframe\">\n",
       "  <thead>\n",
       "    <tr style=\"text-align: right;\">\n",
       "      <th></th>\n",
       "      <th>filenameid</th>\n",
       "      <th>auto_score</th>\n",
       "    </tr>\n",
       "  </thead>\n",
       "  <tbody>\n",
       "    <tr>\n",
       "      <th>0</th>\n",
       "      <td>32153696</td>\n",
       "      <td>{'precision': 0.8181817438016598, 'recall': 0....</td>\n",
       "    </tr>\n",
       "    <tr>\n",
       "      <th>1</th>\n",
       "      <td>32111713</td>\n",
       "      <td>{'precision': 0.8235293875432533, 'recall': 0....</td>\n",
       "    </tr>\n",
       "    <tr>\n",
       "      <th>2</th>\n",
       "      <td>31912911_1</td>\n",
       "      <td>{'precision': 0.4999999642857168, 'recall': 0....</td>\n",
       "    </tr>\n",
       "    <tr>\n",
       "      <th>3</th>\n",
       "      <td>34962277</td>\n",
       "      <td>{'precision': 0.9999999285714336, 'recall': 0....</td>\n",
       "    </tr>\n",
       "    <tr>\n",
       "      <th>4</th>\n",
       "      <td>34118375</td>\n",
       "      <td>{'precision': 0.9499999525000024, 'recall': 0....</td>\n",
       "    </tr>\n",
       "  </tbody>\n",
       "</table>\n",
       "</div>"
      ],
      "text/plain": [
       "   filenameid                                         auto_score\n",
       "0    32153696  {'precision': 0.8181817438016598, 'recall': 0....\n",
       "1    32111713  {'precision': 0.8235293875432533, 'recall': 0....\n",
       "2  31912911_1  {'precision': 0.4999999642857168, 'recall': 0....\n",
       "3    34962277  {'precision': 0.9999999285714336, 'recall': 0....\n",
       "4    34118375  {'precision': 0.9499999525000024, 'recall': 0...."
      ]
     },
     "execution_count": 7,
     "metadata": {},
     "output_type": "execute_result"
    }
   ],
   "source": [
    "df_auto = pd.read_csv(path_auto).drop(columns=[\"cluster\"])\n",
    "df_auto.rename(columns={\"filename\": \"filenameid\"}, inplace=True)\n",
    "\n",
    "df_auto_prompt = df_auto[[\"filenameid\"]].copy()\n",
    "df_auto_prompt[\"auto_score\"] = \"\"\n",
    "df_auto_prompt.loc[:, \"auto_score\"] = df_auto.iloc[:, 1:].apply(lambda x: x.to_dict(), axis=1)\n",
    "\n",
    "df_auto_prompt.head()"
   ]
  },
  {
   "cell_type": "code",
   "execution_count": null,
   "metadata": {},
   "outputs": [
    {
     "name": "stdout",
     "output_type": "stream",
     "text": [
      "(35, 2)\n"
     ]
    }
   ],
   "source": [
    "print(df_auto_prompt.shape)"
   ]
  },
  {
   "cell_type": "markdown",
   "metadata": {},
   "source": [
    "### Combination"
   ]
  },
  {
   "cell_type": "markdown",
   "metadata": {},
   "source": [
    "This dataset contains all the information about the clinical cases, discharge summaries, human evaluation and automatic evaluation.\n",
    "\n",
    "**Caution**: As the filename id is one of the fields they have to introduce, it is possible that it's wrong. We hace to check it or modify the form making them select the file from a list."
   ]
  },
  {
   "cell_type": "code",
   "execution_count": 9,
   "metadata": {},
   "outputs": [
    {
     "data": {
      "text/html": [
       "<div>\n",
       "<style scoped>\n",
       "    .dataframe tbody tr th:only-of-type {\n",
       "        vertical-align: middle;\n",
       "    }\n",
       "\n",
       "    .dataframe tbody tr th {\n",
       "        vertical-align: top;\n",
       "    }\n",
       "\n",
       "    .dataframe thead th {\n",
       "        text-align: right;\n",
       "    }\n",
       "</style>\n",
       "<table border=\"1\" class=\"dataframe\">\n",
       "  <thead>\n",
       "    <tr style=\"text-align: right;\">\n",
       "      <th></th>\n",
       "      <th>filenameid</th>\n",
       "      <th>clinical_case</th>\n",
       "      <th>discharge_summary</th>\n",
       "      <th>human_score</th>\n",
       "      <th>auto_score</th>\n",
       "    </tr>\n",
       "  </thead>\n",
       "  <tbody>\n",
       "    <tr>\n",
       "      <th>0</th>\n",
       "      <td>29617510</td>\n",
       "      <td>An 81-year-old male patient was admitted due t...</td>\n",
       "      <td>**Discharge Summary**\\n\\n**Patient Information...</td>\n",
       "      <td>{'Content Relevance': 4, 'Information Complete...</td>\n",
       "      <td>{'precision': 0.8666666088888928, 'recall': 0....</td>\n",
       "    </tr>\n",
       "    <tr>\n",
       "      <th>1</th>\n",
       "      <td>31204375</td>\n",
       "      <td>A 92-year-old man was admitted to our hospital...</td>\n",
       "      <td>**Discharge Summary**\\n\\n**Patient Information...</td>\n",
       "      <td>{'Content Relevance': 4, 'Information Complete...</td>\n",
       "      <td>{'precision': 0.3333333055555579, 'recall': 0....</td>\n",
       "    </tr>\n",
       "    <tr>\n",
       "      <th>2</th>\n",
       "      <td>30072860_2</td>\n",
       "      <td>A 72-year-old man with a history of hypertensi...</td>\n",
       "      <td>**Discharge Summary**\\n\\n**Patient Information...</td>\n",
       "      <td>{'Content Relevance': 4, 'Information Complete...</td>\n",
       "      <td>{'precision': 0.6666666222222252, 'recall': 0....</td>\n",
       "    </tr>\n",
       "    <tr>\n",
       "      <th>3</th>\n",
       "      <td>31056078</td>\n",
       "      <td>Initial presentation\\nA 55-year-old, Caucasian...</td>\n",
       "      <td>**Discharge Summary**\\n\\n**Patient Information...</td>\n",
       "      <td>{'Content Relevance': 5, 'Information Complete...</td>\n",
       "      <td>{'precision': 0.9189188940832732, 'recall': 0....</td>\n",
       "    </tr>\n",
       "    <tr>\n",
       "      <th>4</th>\n",
       "      <td>31486515</td>\n",
       "      <td>A 57-year-old Caucasian man was admitted to th...</td>\n",
       "      <td>**Discharge Summary**\\n\\n**Patient Information...</td>\n",
       "      <td>{'Content Relevance': 5, 'Information Complete...</td>\n",
       "      <td>{'precision': 0.8275861783590973, 'recall': 0....</td>\n",
       "    </tr>\n",
       "  </tbody>\n",
       "</table>\n",
       "</div>"
      ],
      "text/plain": [
       "   filenameid                                      clinical_case  \\\n",
       "0    29617510  An 81-year-old male patient was admitted due t...   \n",
       "1    31204375  A 92-year-old man was admitted to our hospital...   \n",
       "2  30072860_2  A 72-year-old man with a history of hypertensi...   \n",
       "3    31056078  Initial presentation\\nA 55-year-old, Caucasian...   \n",
       "4    31486515  A 57-year-old Caucasian man was admitted to th...   \n",
       "\n",
       "                                   discharge_summary  \\\n",
       "0  **Discharge Summary**\\n\\n**Patient Information...   \n",
       "1  **Discharge Summary**\\n\\n**Patient Information...   \n",
       "2  **Discharge Summary**\\n\\n**Patient Information...   \n",
       "3  **Discharge Summary**\\n\\n**Patient Information...   \n",
       "4  **Discharge Summary**\\n\\n**Patient Information...   \n",
       "\n",
       "                                         human_score  \\\n",
       "0  {'Content Relevance': 4, 'Information Complete...   \n",
       "1  {'Content Relevance': 4, 'Information Complete...   \n",
       "2  {'Content Relevance': 4, 'Information Complete...   \n",
       "3  {'Content Relevance': 5, 'Information Complete...   \n",
       "4  {'Content Relevance': 5, 'Information Complete...   \n",
       "\n",
       "                                          auto_score  \n",
       "0  {'precision': 0.8666666088888928, 'recall': 0....  \n",
       "1  {'precision': 0.3333333055555579, 'recall': 0....  \n",
       "2  {'precision': 0.6666666222222252, 'recall': 0....  \n",
       "3  {'precision': 0.9189188940832732, 'recall': 0....  \n",
       "4  {'precision': 0.8275861783590973, 'recall': 0....  "
      ]
     },
     "execution_count": 9,
     "metadata": {},
     "output_type": "execute_result"
    }
   ],
   "source": [
    "# model = load_llama(model_id)\n",
    "df_human_prompt[\"filenameid\"] = df_human[\"filenameid\"].astype(str)\n",
    "df_auto_prompt[\"filenameid\"] = df_auto[\"filenameid\"].astype(str)\n",
    "df_pairs[\"filenameid\"] = df_pairs[\"filenameid\"].astype(str)\n",
    "\n",
    "df_prompt = df_pairs.merge(df_human_prompt, on=\"filenameid\").merge(df_auto_prompt, on=\"filenameid\", how=\"inner\")\n",
    "df_prompt.head()"
   ]
  },
  {
   "cell_type": "code",
   "execution_count": 10,
   "metadata": {},
   "outputs": [
    {
     "data": {
      "text/plain": [
       "(15, 5)"
      ]
     },
     "execution_count": 10,
     "metadata": {},
     "output_type": "execute_result"
    }
   ],
   "source": [
    "df_prompt.shape"
   ]
  },
  {
   "cell_type": "markdown",
   "metadata": {},
   "source": [
    "# Prompt"
   ]
  },
  {
   "cell_type": "markdown",
   "metadata": {},
   "source": [
    "One of the models that will be used to evaluate the quality of the discharge summaries is the LLM-as-a-judge fine-tuned model [Prometheus 2B](https://huggingface.co/prometheus-eval/prometheus-7b-v2.0). \n",
    "\n",
    "\n",
    "\n",
    "<img src=\"../../img/external_figures/prometheus_2_7B_finegrained_eval.JPG\" alt=\"Prometheus Evaluation\" width=\"700px\">"
   ]
  },
  {
   "cell_type": "code",
   "execution_count": 11,
   "metadata": {},
   "outputs": [],
   "source": [
    "from fastchat.conversation import get_conv_template"
   ]
  },
  {
   "cell_type": "code",
   "execution_count": 8,
   "metadata": {},
   "outputs": [],
   "source": [
    "from transformers import AutoTokenizer, AutoModelForCausalLM\n",
    "\n",
    "tokenizer = AutoTokenizer.from_pretrained(model_id)"
   ]
  },
  {
   "cell_type": "code",
   "execution_count": 12,
   "metadata": {},
   "outputs": [
    {
     "name": "stdout",
     "output_type": "stream",
     "text": [
      "INFO 03-30 17:24:34 __init__.py:207] Automatically detected platform cuda.\n",
      "INFO 03-30 17:24:42 config.py:549] This model supports multiple tasks: {'embed', 'generate', 'score', 'reward', 'classify'}. Defaulting to 'generate'.\n",
      "INFO 03-30 17:24:42 llm_engine.py:234] Initializing a V0 LLM engine (v0.7.3) with config: model='/gpfs/projects/bsc14/abecerr1/hub/models--prometheus-eval--prometheus-7b-v2.0/snapshots/66ffb1fc20beebfb60a3964a957d9011723116c5', speculative_config=None, tokenizer='/gpfs/projects/bsc14/abecerr1/hub/models--prometheus-eval--prometheus-7b-v2.0/snapshots/66ffb1fc20beebfb60a3964a957d9011723116c5', skip_tokenizer_init=False, tokenizer_mode=auto, revision=None, override_neuron_config=None, tokenizer_revision=None, trust_remote_code=False, dtype=torch.bfloat16, max_seq_len=32768, download_dir=None, load_format=LoadFormat.AUTO, tensor_parallel_size=1, pipeline_parallel_size=1, disable_custom_all_reduce=False, quantization=None, enforce_eager=False, kv_cache_dtype=auto,  device_config=cuda, decoding_config=DecodingConfig(guided_decoding_backend='xgrammar'), observability_config=ObservabilityConfig(otlp_traces_endpoint=None, collect_model_forward_time=False, collect_model_execute_time=False), seed=0, served_model_name=/gpfs/projects/bsc14/abecerr1/hub/models--prometheus-eval--prometheus-7b-v2.0/snapshots/66ffb1fc20beebfb60a3964a957d9011723116c5, num_scheduler_steps=1, multi_step_stream_outputs=True, enable_prefix_caching=False, chunked_prefill_enabled=False, use_async_output_proc=True, disable_mm_preprocessor_cache=False, mm_processor_kwargs=None, pooler_config=None, compilation_config={\"splitting_ops\":[],\"compile_sizes\":[],\"cudagraph_capture_sizes\":[256,248,240,232,224,216,208,200,192,184,176,168,160,152,144,136,128,120,112,104,96,88,80,72,64,56,48,40,32,24,16,8,4,2,1],\"max_capture_size\":256}, use_cached_outputs=False, \n"
     ]
    },
    {
     "name": "stderr",
     "output_type": "stream",
     "text": [
      "/gpfs/projects/bsc14/scratch/.conda/msds/lib/python3.11/site-packages/vllm/executor/uniproc_executor.py:29: UserWarning: Failed to get the IP address, using 0.0.0.0 by default.The value can be set by the environment variable VLLM_HOST_IP or HOST_IP.\n",
      "  get_ip(), get_open_port())\n"
     ]
    },
    {
     "name": "stdout",
     "output_type": "stream",
     "text": [
      "INFO 03-30 17:24:43 cuda.py:229] Using Flash Attention backend.\n",
      "INFO 03-30 17:24:44 model_runner.py:1110] Starting to load model /gpfs/projects/bsc14/abecerr1/hub/models--prometheus-eval--prometheus-7b-v2.0/snapshots/66ffb1fc20beebfb60a3964a957d9011723116c5...\n"
     ]
    },
    {
     "data": {
      "application/vnd.jupyter.widget-view+json": {
       "model_id": "93854bc95f3a4765862bb1f57f06a1af",
       "version_major": 2,
       "version_minor": 0
      },
      "text/plain": [
       "Loading safetensors checkpoint shards:   0% Completed | 0/8 [00:00<?, ?it/s]\n"
      ]
     },
     "metadata": {},
     "output_type": "display_data"
    },
    {
     "name": "stdout",
     "output_type": "stream",
     "text": [
      "INFO 03-30 17:24:59 model_runner.py:1115] Loading model weights took 13.4967 GB\n",
      "INFO 03-30 17:25:01 worker.py:267] Memory profiling takes 1.31 seconds\n",
      "INFO 03-30 17:25:01 worker.py:267] the current vLLM instance can use total_gpu_memory (63.43GiB) x gpu_memory_utilization (0.90) = 57.09GiB\n",
      "INFO 03-30 17:25:01 worker.py:267] model weights take 13.50GiB; non_torch_memory takes 0.15GiB; PyTorch activation peak memory takes 3.41GiB; the rest of the memory reserved for KV Cache is 40.03GiB.\n",
      "INFO 03-30 17:25:01 executor_base.py:111] # cuda blocks: 20495, # CPU blocks: 2048\n",
      "INFO 03-30 17:25:01 executor_base.py:116] Maximum concurrency for 32768 tokens per request: 10.01x\n",
      "INFO 03-30 17:25:03 model_runner.py:1434] Capturing cudagraphs for decoding. This may lead to unexpected consequences if the model is not static. To run the model in eager mode, set 'enforce_eager=True' or use '--enforce-eager' in the CLI. If out-of-memory error occurs during cudagraph capture, consider decreasing `gpu_memory_utilization` or switching to eager mode. You can also reduce the `max_num_seqs` as needed to decrease memory usage.\n"
     ]
    },
    {
     "name": "stderr",
     "output_type": "stream",
     "text": [
      "Capturing CUDA graph shapes: 100%|███████████████████████████████████████████████████████████████████████████| 35/35 [00:11<00:00,  2.94it/s]"
     ]
    },
    {
     "name": "stdout",
     "output_type": "stream",
     "text": [
      "INFO 03-30 17:25:15 model_runner.py:1562] Graph capturing finished in 12 secs, took 0.96 GiB\n",
      "INFO 03-30 17:25:15 llm_engine.py:436] init engine (profile, create kv cache, warmup model) took 15.17 seconds\n"
     ]
    },
    {
     "name": "stderr",
     "output_type": "stream",
     "text": [
      "\n"
     ]
    }
   ],
   "source": [
    "# Absolute Grading: Outputs score of 1 to 5\n",
    "\n",
    "from prometheus_eval.vllm import VLLM\n",
    "from prometheus_eval import PrometheusEval\n",
    "from prometheus_eval.prompts import ABSOLUTE_PROMPT, SCORE_RUBRIC_TEMPLATE\n",
    "model_id = \"/gpfs/projects/bsc14/abecerr1/hub/models--prometheus-eval--prometheus-7b-v2.0/snapshots/66ffb1fc20beebfb60a3964a957d9011723116c5\"\n",
    "\n",
    "model = VLLM(model=model_id)\n",
    "judge = PrometheusEval(model=model, absolute_grade_template=ABSOLUTE_PROMPT)\n"
   ]
  },
  {
   "cell_type": "code",
   "execution_count": 12,
   "metadata": {},
   "outputs": [
    {
     "name": "stdout",
     "output_type": "stream",
     "text": [
      "###Task Description:\n",
      "An instruction (might include an Input inside it), a response to evaluate, a reference answer that gets a score of 5, and a score rubric representing a evaluation criteria are given.\n",
      "1. Write a detailed feedback that assess the quality of the response strictly based on the given score rubric, not evaluating in general.\n",
      "2. After writing a feedback, write a score that is an integer between 1 and 5. You should refer to the score rubric.\n",
      "3. The output format should look as follows: \"(write a feedback for criteria) [RESULT] (an integer number between 1 and 5)\"\n",
      "4. Please do not generate any other opening, closing, and explanations.\n",
      "\n",
      "###The instruction to evaluate:\n",
      "{instruction}\n",
      "\n",
      "###Response to evaluate:\n",
      "{response}\n",
      "\n",
      "###Reference Answer (Score 5):\n",
      "{reference_answer}\n",
      "\n",
      "###Score Rubrics:\n",
      "{rubric}\n",
      "\n",
      "###Feedback: \n"
     ]
    }
   ],
   "source": [
    "print(ABSOLUTE_PROMPT)"
   ]
  },
  {
   "cell_type": "code",
   "execution_count": 11,
   "metadata": {},
   "outputs": [
    {
     "name": "stdout",
     "output_type": "stream",
     "text": [
      "[Is the model proficient in applying empathy and emotional intelligence to its responses when the user conveys emotions or faces challenging circumstances?]\n",
      "Score 1: The model neglects to identify or react to the emotional tone of user inputs, giving responses that are unfitting or emotionally insensitive.\n",
      "Score 2: The model intermittently acknowledges emotional context but often responds without sufficient empathy or emotional understanding.\n",
      "Score 3: The model typically identifies emotional context and attempts to answer with empathy, yet the responses might sometimes miss the point or lack emotional profundity.\n",
      "Score 4: The model consistently identifies and reacts suitably to emotional context, providing empathetic responses. Nonetheless, there may still be sporadic oversights or deficiencies in emotional depth.\n",
      "Score 5: The model excels in identifying emotional context and persistently offers empathetic, emotionally aware responses that demonstrate a profound comprehension of the user's emotions or situation.\n"
     ]
    }
   ],
   "source": [
    "from prometheus_eval.prompts import ABSOLUTE_PROMPT, SCORE_RUBRIC_TEMPLATE\n",
    "\n",
    "rubric_data = {\n",
    "  \"criteria\":\"Is the model proficient in applying empathy and emotional intelligence to its responses when the user conveys emotions or faces challenging circumstances?\",\n",
    "  \"score1_description\":\"The model neglects to identify or react to the emotional tone of user inputs, giving responses that are unfitting or emotionally insensitive.\",\n",
    "  \"score2_description\":\"The model intermittently acknowledges emotional context but often responds without sufficient empathy or emotional understanding.\",\n",
    "  \"score3_description\":\"The model typically identifies emotional context and attempts to answer with empathy, yet the responses might sometimes miss the point or lack emotional profundity.\",\n",
    "  \"score4_description\":\"The model consistently identifies and reacts suitably to emotional context, providing empathetic responses. Nonetheless, there may still be sporadic oversights or deficiencies in emotional depth.\",\n",
    "  \"score5_description\":\"The model excels in identifying emotional context and persistently offers empathetic, emotionally aware responses that demonstrate a profound comprehension of the user's emotions or situation.\"\n",
    "}\n",
    "\n",
    "score_rubric = SCORE_RUBRIC_TEMPLATE.format(**rubric_data)\n",
    "print(score_rubric)"
   ]
  },
  {
   "cell_type": "code",
   "execution_count": 10,
   "metadata": {},
   "outputs": [
    {
     "name": "stderr",
     "output_type": "stream",
     "text": [
      "Processed prompts:   0%|                                                                                                                     | 0/1 [00:00<?, ?it/s, est. speed input: 0.00 toks/s, output: 0.00 toks/s]"
     ]
    },
    {
     "name": "stderr",
     "output_type": "stream",
     "text": [
      "Processed prompts: 100%|██████████████████████████████████████████████████████████████████████████████████████████████████████████| 1/1 [00:03<00:00,  3.07s/it, est. speed input: 400.60 toks/s, output: 80.58 toks/s]\n"
     ]
    },
    {
     "name": "stdout",
     "output_type": "stream",
     "text": [
      "Processed 1/1 instances.\n"
     ]
    },
    {
     "name": "stderr",
     "output_type": "stream",
     "text": [
      "Finalizing: 100%|█████████████████████████████████████████████████████████████████████████████████████████████████████████████████████████████████████████████████████████████████████| 1/1 [00:00<00:00, 10407.70it/s]"
     ]
    },
    {
     "name": "stdout",
     "output_type": "stream",
     "text": [
      "Feedback: The given response shows a high level of empathy and emotional intelligence. It effectively addresses the emotional distress expressed by the user. It starts by validating the user's feelings and emphasizing that such emotions are normal, showing a clear understanding of the emotional context. The response then guides the user through a series of actions, from embracing emotions to practicing self-care, demonstrating a deep awareness of emotional healing. It encourages the user not to isolate themselves and stresses the importance of a support system. Furthermore, it underscores the unique nature of the healing process, emphasizing patience and a future-oriented perspective. It finishes by reminding the user that they are not alone and that there are people willing to help, reinforcing a sense of community and support. The response is consistent in its application of empathy and emotional intelligence throughout. It acknowledges the user's emotions and provides a thoughtful, compassionate, and understanding approach. Therefore, based on the score rubric, the response excels in identifying emotional context and persistently offers empathetic, emotionally aware responses that demonstrate a profound comprehension of the user's emotions or situation. \n",
      "[RESULT] 5\n",
      "Score: 5\n"
     ]
    },
    {
     "name": "stderr",
     "output_type": "stream",
     "text": [
      "\n"
     ]
    }
   ],
   "source": [
    "\n",
    "instruction = \"Struggling with a recent break-up, a person opens up about the intense feelings of loneliness and sadness. They ask for advice on how to cope with the heartbreak and move forward in life.\",\n",
    "response = \"I'm genuinely sorry to hear about your break-up. This can be an immensely challenging time filled with intense emotions of loneliness and sorrow. It's important to remember that it's normal to experience these feelings; they are a testament to the deep connection you once had. Firstly, don't hesitate to embrace your emotions, let them flow freely. Ignoring them often complicates the healing process. It's natural to be upset, to shed tears, or to feel angry. This is all part of the journey towards healing. Self-care can be a healing balm in these tough times. This could mean indulging in your favourite book, journaling your thoughts, or even just a quiet cup of tea. Small acts of kindness to oneself can significantly improve your emotional well-being. Also, don't isolate yourself. Surround yourself with supportive individuals who can offer comfort and understanding. This might include friends, family, or even a mental health professional. They can provide much-needed emotional support and strategies to help you cope. Lastly, remember there's no set timeline for healing. It's different for everyone and it's okay to take as long as you need. Keep your focus on the future and the potential it holds. Though it may not seem possible now, you will emerge stronger from this experience. It's okay to ask for help, it's okay to grieve, and it's okay to take it one day at a time. You're not alone in this journey, and there are people ready and willing to help. It's okay to heal at your own pace.\",\n",
    "reference_answer = \"I can only imagine how difficult this time must be for you. Heartbreak can feel like an overwhelming wave that washes over you, making you feel lost and alone. It's important to remember that it's okay to feel this way; your feelings are valid and it's natural to grieve the loss of a relationship. Firstly, it's crucial to allow yourself to feel the emotions fully. Suppressing or denying them often only prolongs the healing process. It's okay to cry, to feel sad, or to be angry. These are all part of the healing journey. Engaging in self-care activities can also provide a much-needed boost. This could be anything from taking a warm bath, writing in a journal, or simply drinking a cup of your favorite tea. Small acts of self-love can make a big difference in how you feel. Next, try to surround yourself with supportive people who understand your situation and provide comfort. Friends and family can be a great source of strength in times of heartbreak. If you feel comfortable, you might want to consider seeking professional help. Therapists and counselors are trained to provide assistance and tools to navigate through difficult times like these. Lastly, it's important to remember that it's okay to take your time to heal. Everyone has their own pace and there's no rush. Try to focus on the future and the possibilities it holds. While it may not seem like it now, you will come out stronger and more resilient from this experience. Remember, it's okay to ask for help and it's okay to feel the way you feel. You are not alone in this journey and there are people who care about you and want to help. It's okay to take one day at a time. Healing is a process, and it's okay to move through it at your own pace.\",\n",
    "\n",
    "rubric_data = {\n",
    "  \"criteria\":\"Is the model proficient in applying empathy and emotional intelligence to its responses when the user conveys emotions or faces challenging circumstances?\",\n",
    "  \"score1_description\":\"The model neglects to identify or react to the emotional tone of user inputs, giving responses that are unfitting or emotionally insensitive.\",\n",
    "  \"score2_description\":\"The model intermittently acknowledges emotional context but often responds without sufficient empathy or emotional understanding.\",\n",
    "  \"score3_description\":\"The model typically identifies emotional context and attempts to answer with empathy, yet the responses might sometimes miss the point or lack emotional profundity.\",\n",
    "  \"score4_description\":\"The model consistently identifies and reacts suitably to emotional context, providing empathetic responses. Nonetheless, there may still be sporadic oversights or deficiencies in emotional depth.\",\n",
    "  \"score5_description\":\"The model excels in identifying emotional context and persistently offers empathetic, emotionally aware responses that demonstrate a profound comprehension of the user's emotions or situation.\"\n",
    "}\n",
    "\n",
    "score_rubric = SCORE_RUBRIC_TEMPLATE.format(**rubric_data)\n",
    "\n",
    "\n",
    "feedback, score = judge.single_absolute_grade(\n",
    "    instruction=instruction,\n",
    "    response=response,\n",
    "    rubric=score_rubric,\n",
    "    reference_answer=reference_answer\n",
    ")\n",
    "\n",
    "print(\"Feedback:\", feedback)\n",
    "print(\"Score:\", score)\n",
    "\n",
    "# Output\n",
    "# Feedback: The response provided shows a high level of empathy and emotional intelligence. It effectively addresses the emotional distress expressed by the user. It acknowledges the user's pain and validates their feelings of loneliness and sadness, which is a crucial aspect of providing empathetic advice. The response also suggests practical steps for coping, such as embracing emotions, practicing self-care, and seeking support from friends, family, or professionals. Furthermore, the response reassures the user that healing is a personal process with no fixed timeline, offering comfort and understanding. It emphasizes the user's worth and potential to overcome the situation, which demonstrates a profound comprehension of the user's emotions and situation. By comparing the score rubric with the provided response, it is clear that the model exhibits an excellent ability to apply empathy and emotional intelligence. The response does not have any deficiencies in emotional depth and successfully meets the criteria for a score of 5.\n",
    "# Score: 5"
   ]
  },
  {
   "cell_type": "code",
   "execution_count": 11,
   "metadata": {},
   "outputs": [
    {
     "data": {
      "text/plain": [
       "{'Content Relevance': 5,\n",
       " 'Information Completeness': 5,\n",
       " 'Clarity and Structure': 3,\n",
       " 'Content Accuracy': 5,\n",
       " 'Hallucinations': 1,\n",
       " 'Impact of Hallucinations': 1,\n",
       " 'Relevance to Practice': 3,\n",
       " 'Overall Quality': 4,\n",
       " 'Positive highlights': 'datos muy completos, estrcutura fiel al documento de origen ',\n",
       " 'Negative highlights': 'La parte correspondiente a la  enfermedad actual y la evolción no está estructurado como un informe de alta',\n",
       " 'Other Comments': ''}"
      ]
     },
     "execution_count": 11,
     "metadata": {},
     "output_type": "execute_result"
    }
   ],
   "source": [
    "df_prompt.iloc[2][\"human_score\"]"
   ]
  },
  {
   "cell_type": "code",
   "execution_count": 14,
   "metadata": {},
   "outputs": [],
   "source": [
    "\n",
    "instruction = \"\"\"\n",
    "One of the main bottlenecks for the development of clinical NLP resources if the lack of access to clinical records due to data privacy issues. This is particularly true for developments beyond English, as most of the accessible anonymized clinical record datasets are only available for this language.\n",
    "To examine if clinical case report publications could potentially be considered as a data source to generate synthetic clinical discharge summaries by means of generative AI solutions, prompt instructions combined with automatic clinical were applied.\n",
    "This structured summary has the purpose to systematically characterize the clinical language characteristics of synthetic discharge summaries.\n",
    "Each discharge summary was assessed for a predefined set of features.\n",
    "\"\"\"\n",
    "\n",
    "# Retrieve the generated discharge summary and the corresponding clinical case from the dataframe\n",
    "response = df_prompt.iloc[1][\"discharge_summary\"]\n",
    "reference_answer = df_prompt.iloc[1][\"clinical_case\"]\n",
    "\n",
    "# Likert scale evaluation rubric (ratings 1 to 5)\n",
    "rubric_data = {\n",
    "    \"Content Relevance\": {\n",
    "        \"criteria\": \"Does the summary focus on clinically relevant information?\",\n",
    "        \"score1_description\": \"The summary largely misses the clinically relevant details.\",\n",
    "        \"score2_description\": \"The summary includes only a few clinically relevant details.\",\n",
    "        \"score3_description\": \"The summary covers some relevant information but omits key aspects.\",\n",
    "        \"score4_description\": \"The summary covers most clinically relevant details with minor omissions.\",\n",
    "        \"score5_description\": \"The summary is entirely focused on clinically relevant information.\"\n",
    "    },\n",
    "    \"Information Completeness\": {\n",
    "        \"criteria\": \"Does the summary include all key details (diagnoses, treatments, follow-ups)?\",\n",
    "        \"score1_description\": \"Key details are largely missing from the summary.\",\n",
    "        \"score2_description\": \"Only a few key details are present, with many important ones absent.\",\n",
    "        \"score3_description\": \"Some key details are included, but several are missing.\",\n",
    "        \"score4_description\": \"Most key details are present, though a few minor elements may be missing.\",\n",
    "        \"score5_description\": \"The summary comprehensively includes all required key details.\"\n",
    "    },\n",
    "    \"Clarity and Structure\": {\n",
    "        \"criteria\": \"Is the information presented in a clear and logically structured manner like a real discharge report?\",\n",
    "        \"score1_description\": \"The summary is poorly organized and very hard to follow.\",\n",
    "        \"score2_description\": \"The structure is inconsistent and makes the content challenging to understand.\",\n",
    "        \"score3_description\": \"The summary is moderately clear and structured, though improvements are needed.\",\n",
    "        \"score4_description\": \"The summary is clear and well-organized with only minor issues.\",\n",
    "        \"score5_description\": \"The summary is very clear, logically structured, and mimics a professional discharge report.\"\n",
    "    },\n",
    "    \"Content Accuracy\": {\n",
    "        \"criteria\": \"Does the report accurately reflect the clinical information provided in the input?\",\n",
    "        \"score1_description\": \"The summary contains numerous inaccuracies compared to the input.\",\n",
    "        \"score2_description\": \"The summary has several inaccuracies that affect its reliability.\",\n",
    "        \"score3_description\": \"The summary is generally accurate but includes some errors.\",\n",
    "        \"score4_description\": \"The summary is mostly accurate with only minor discrepancies.\",\n",
    "        \"score5_description\": \"The summary accurately reflects the clinical information provided.\"\n",
    "    },\n",
    "    \"Hallucinations\": {\n",
    "        \"criteria\": \"Are there any factual inaccuracies or fabricated content in the summary?\",\n",
    "        \"score1_description\": \"The summary is completely free of hallucinations or fabricated content.\",\n",
    "        \"score2_description\": \"The summary is nearly free of hallucinations, with minimal issues.\",\n",
    "        \"score3_description\": \"There are minor inaccuracies or fabricated details present.\",\n",
    "        \"score4_description\": \"The summary shows noticeable inaccuracies or hallucinations.\",\n",
    "        \"score5_description\": \"The summary contains significant fabricated or inaccurate content\"\n",
    "    },\n",
    "    \"Impact of Hallucinations\": {\n",
    "        \"criteria\": \"How severe are the hallucinations?\",\n",
    "        \"score1_description\": \"Hallucinations, if present, are minor and do not affect key details.\",\n",
    "        \"score2_description\": \"Hallucinations are noticeable but do not significantly impact clinical relevance.\",\n",
    "        \"score3_description\": \"Hallucinations include some extra details not present in the original.\",\n",
    "        \"score4_description\": \"Hallucinations affect important clinical details moderately.\",\n",
    "        \"score5_description\": \"Hallucinations are severe, impacting critical clinical information such as medication doses or procedures.\"\n",
    "    },\n",
    "    \"Relevance to Practice\": {\n",
    "        \"criteria\": \"Would this summary be usable in clinical practice without significant revision?\",\n",
    "        \"score1_description\": \"The summary is not usable in its current form for clinical practice.\",\n",
    "        \"score2_description\": \"The summary requires major revisions to be usable.\",\n",
    "        \"score3_description\": \"The summary is moderately usable but needs some revisions.\",\n",
    "        \"score4_description\": \"The summary is largely usable with only minor revisions needed.\",\n",
    "        \"score5_description\": \"The summary is fully usable in clinical practice without significant revisions.\"\n",
    "    },\n",
    "    \"Overall Quality\": {\n",
    "        \"criteria\": \"How would you rate the overall quality of the discharge summary?\",\n",
    "        \"score1_description\": \"The overall quality of the summary is very poor.\",\n",
    "        \"score2_description\": \"The summary is below acceptable quality.\",\n",
    "        \"score3_description\": \"The summary is of acceptable quality, but improvements are needed.\",\n",
    "        \"score4_description\": \"The summary is of high quality, with only minor imperfections.\",\n",
    "        \"score5_description\": \"The summary is excellent in overall quality.\"\n",
    "    }\n",
    "}\n",
    "\n",
    "# These dictionaries can now be used by your LLM judge system to score and comment on the generated discharge summary.\n",
    "score_rubric = SCORE_RUBRIC_TEMPLATE.format(**rubric_data[\"Relevance to Practice\"])\n",
    "\n",
    "\n",
    "# feedback, score = judge.single_absolute_grade(\n",
    "#     instruction=instruction,\n",
    "#     response=response,\n",
    "#     rubric=score_rubric,\n",
    "#     reference_answer=reference_answer\n",
    "# )\n",
    "\n",
    "# print(\"Feedback:\", feedback)\n",
    "# print(\"Score:\", score)\n",
    "\n",
    "# Output\n",
    "# Feedback: The response provided shows a high level of empathy and emotional intelligence. It effectively addresses the emotional distress expressed by the user. It acknowledges the user's pain and validates their feelings of loneliness and sadness, which is a crucial aspect of providing empathetic advice. The response also suggests practical steps for coping, such as embracing emotions, practicing self-care, and seeking support from friends, family, or professionals. Furthermore, the response reassures the user that healing is a personal process with no fixed timeline, offering comfort and understanding. It emphasizes the user's worth and potential to overcome the situation, which demonstrates a profound comprehension of the user's emotions and situation. By comparing the score rubric with the provided response, it is clear that the model exhibits an excellent ability to apply empathy and emotional intelligence. The response does not have any deficiencies in emotional depth and successfully meets the criteria for a score of 5.\n",
    "# Score: 5"
   ]
  },
  {
   "cell_type": "code",
   "execution_count": 15,
   "metadata": {},
   "outputs": [],
   "source": [
    "def compute_llm_eval(row):\n",
    "    instruction = row[\"clinical_case\"]\n",
    "    response = row[\"discharge_summary\"]\n",
    "    reference_answer = row[\"clinical_case\"]\n",
    "\n",
    "    feedbacks = {}\n",
    "    scores = {}\n",
    "\n",
    "    for col in rubric_data.keys():\n",
    "        score_rubric = SCORE_RUBRIC_TEMPLATE.format(**rubric_data[col])\n",
    "        feedback, score = judge.single_absolute_grade(\n",
    "            instruction=instruction,\n",
    "            response=response,\n",
    "            rubric=score_rubric,\n",
    "            reference_answer=reference_answer\n",
    "        )\n",
    "        feedbacks[col] = feedback\n",
    "        scores[col] = score\n",
    "\n",
    "    return pd.Series({\n",
    "        \"feedbacks\": feedbacks,\n",
    "        \"scores\": scores\n",
    "    })"
   ]
  },
  {
   "cell_type": "code",
   "execution_count": 81,
   "metadata": {},
   "outputs": [],
   "source": [
    "# df_prompt[[\"feedbacks\", \"scores\"]] = df_prompt.progress_apply(compute_llm_eval, axis=1)\n",
    "df_prompt = pd.read_csv(\"output/evaluation/prometheus-2-7B/complete_evaluation.csv\")"
   ]
  },
  {
   "cell_type": "code",
   "execution_count": 82,
   "metadata": {},
   "outputs": [
    {
     "data": {
      "text/html": [
       "<div>\n",
       "<style scoped>\n",
       "    .dataframe tbody tr th:only-of-type {\n",
       "        vertical-align: middle;\n",
       "    }\n",
       "\n",
       "    .dataframe tbody tr th {\n",
       "        vertical-align: top;\n",
       "    }\n",
       "\n",
       "    .dataframe thead th {\n",
       "        text-align: right;\n",
       "    }\n",
       "</style>\n",
       "<table border=\"1\" class=\"dataframe\">\n",
       "  <thead>\n",
       "    <tr style=\"text-align: right;\">\n",
       "      <th></th>\n",
       "      <th>filenameid</th>\n",
       "      <th>clinical_case</th>\n",
       "      <th>discharge_summary</th>\n",
       "      <th>human_score</th>\n",
       "      <th>auto_score</th>\n",
       "      <th>feedbacks</th>\n",
       "      <th>scores</th>\n",
       "    </tr>\n",
       "  </thead>\n",
       "  <tbody>\n",
       "    <tr>\n",
       "      <th>0</th>\n",
       "      <td>29617510</td>\n",
       "      <td>An 81-year-old male patient was admitted due t...</td>\n",
       "      <td>**Discharge Summary**\\n\\n**Patient Information...</td>\n",
       "      <td>{'Content Relevance': 4, 'Information Complete...</td>\n",
       "      <td>{'precision': 0.8666666088888928, 'recall': 0....</td>\n",
       "      <td>{'Content Relevance': \"The response provided a...</td>\n",
       "      <td>{'Content Relevance': 4, 'Information Complete...</td>\n",
       "    </tr>\n",
       "    <tr>\n",
       "      <th>1</th>\n",
       "      <td>31204375</td>\n",
       "      <td>A 92-year-old man was admitted to our hospital...</td>\n",
       "      <td>**Discharge Summary**\\n\\n**Patient Information...</td>\n",
       "      <td>{'Content Relevance': 4, 'Information Complete...</td>\n",
       "      <td>{'precision': 0.3333333055555579, 'recall': 0....</td>\n",
       "      <td>{'Content Relevance': \"The provided discharge ...</td>\n",
       "      <td>{'Content Relevance': 4, 'Information Complete...</td>\n",
       "    </tr>\n",
       "    <tr>\n",
       "      <th>2</th>\n",
       "      <td>30072860_2</td>\n",
       "      <td>A 72-year-old man with a history of hypertensi...</td>\n",
       "      <td>**Discharge Summary**\\n\\n**Patient Information...</td>\n",
       "      <td>{'Content Relevance': 4, 'Information Complete...</td>\n",
       "      <td>{'precision': 0.6666666222222252, 'recall': 0....</td>\n",
       "      <td>{'Content Relevance': \"The response provided c...</td>\n",
       "      <td>{'Content Relevance': 4, 'Information Complete...</td>\n",
       "    </tr>\n",
       "    <tr>\n",
       "      <th>3</th>\n",
       "      <td>31056078</td>\n",
       "      <td>Initial presentation\\nA 55-year-old, Caucasian...</td>\n",
       "      <td>**Discharge Summary**\\n\\n**Patient Information...</td>\n",
       "      <td>{'Content Relevance': 5, 'Information Complete...</td>\n",
       "      <td>{'precision': 0.9189188940832732, 'recall': 0....</td>\n",
       "      <td>{'Content Relevance': 'The response presents a...</td>\n",
       "      <td>{'Content Relevance': 5, 'Information Complete...</td>\n",
       "    </tr>\n",
       "    <tr>\n",
       "      <th>4</th>\n",
       "      <td>31486515</td>\n",
       "      <td>A 57-year-old Caucasian man was admitted to th...</td>\n",
       "      <td>**Discharge Summary**\\n\\n**Patient Information...</td>\n",
       "      <td>{'Content Relevance': 5, 'Information Complete...</td>\n",
       "      <td>{'precision': 0.8275861783590973, 'recall': 0....</td>\n",
       "      <td>{'Content Relevance': \"The response provides a...</td>\n",
       "      <td>{'Content Relevance': 5, 'Information Complete...</td>\n",
       "    </tr>\n",
       "  </tbody>\n",
       "</table>\n",
       "</div>"
      ],
      "text/plain": [
       "   filenameid                                      clinical_case  \\\n",
       "0    29617510  An 81-year-old male patient was admitted due t...   \n",
       "1    31204375  A 92-year-old man was admitted to our hospital...   \n",
       "2  30072860_2  A 72-year-old man with a history of hypertensi...   \n",
       "3    31056078  Initial presentation\\nA 55-year-old, Caucasian...   \n",
       "4    31486515  A 57-year-old Caucasian man was admitted to th...   \n",
       "\n",
       "                                   discharge_summary  \\\n",
       "0  **Discharge Summary**\\n\\n**Patient Information...   \n",
       "1  **Discharge Summary**\\n\\n**Patient Information...   \n",
       "2  **Discharge Summary**\\n\\n**Patient Information...   \n",
       "3  **Discharge Summary**\\n\\n**Patient Information...   \n",
       "4  **Discharge Summary**\\n\\n**Patient Information...   \n",
       "\n",
       "                                         human_score  \\\n",
       "0  {'Content Relevance': 4, 'Information Complete...   \n",
       "1  {'Content Relevance': 4, 'Information Complete...   \n",
       "2  {'Content Relevance': 4, 'Information Complete...   \n",
       "3  {'Content Relevance': 5, 'Information Complete...   \n",
       "4  {'Content Relevance': 5, 'Information Complete...   \n",
       "\n",
       "                                          auto_score  \\\n",
       "0  {'precision': 0.8666666088888928, 'recall': 0....   \n",
       "1  {'precision': 0.3333333055555579, 'recall': 0....   \n",
       "2  {'precision': 0.6666666222222252, 'recall': 0....   \n",
       "3  {'precision': 0.9189188940832732, 'recall': 0....   \n",
       "4  {'precision': 0.8275861783590973, 'recall': 0....   \n",
       "\n",
       "                                           feedbacks  \\\n",
       "0  {'Content Relevance': \"The response provided a...   \n",
       "1  {'Content Relevance': \"The provided discharge ...   \n",
       "2  {'Content Relevance': \"The response provided c...   \n",
       "3  {'Content Relevance': 'The response presents a...   \n",
       "4  {'Content Relevance': \"The response provides a...   \n",
       "\n",
       "                                              scores  \n",
       "0  {'Content Relevance': 4, 'Information Complete...  \n",
       "1  {'Content Relevance': 4, 'Information Complete...  \n",
       "2  {'Content Relevance': 4, 'Information Complete...  \n",
       "3  {'Content Relevance': 5, 'Information Complete...  \n",
       "4  {'Content Relevance': 5, 'Information Complete...  "
      ]
     },
     "execution_count": 82,
     "metadata": {},
     "output_type": "execute_result"
    }
   ],
   "source": [
    "df_prompt.head()"
   ]
  },
  {
   "cell_type": "code",
   "execution_count": 62,
   "metadata": {},
   "outputs": [],
   "source": [
    "df_prompt.to_csv(\"output/evaluation/prometheus-2-7B/complete_evaluation.csv\", index=False)"
   ]
  },
  {
   "cell_type": "code",
   "execution_count": 17,
   "metadata": {},
   "outputs": [
    {
     "data": {
      "text/html": [
       "<div>\n",
       "<style scoped>\n",
       "    .dataframe tbody tr th:only-of-type {\n",
       "        vertical-align: middle;\n",
       "    }\n",
       "\n",
       "    .dataframe tbody tr th {\n",
       "        vertical-align: top;\n",
       "    }\n",
       "\n",
       "    .dataframe thead th {\n",
       "        text-align: right;\n",
       "    }\n",
       "</style>\n",
       "<table border=\"1\" class=\"dataframe\">\n",
       "  <thead>\n",
       "    <tr style=\"text-align: right;\">\n",
       "      <th></th>\n",
       "      <th>Content Relevance</th>\n",
       "      <th>Information Completeness</th>\n",
       "      <th>Clarity and Structure</th>\n",
       "      <th>Content Accuracy</th>\n",
       "      <th>Hallucinations</th>\n",
       "      <th>Impact of Hallucinations</th>\n",
       "      <th>Relevance to Practice</th>\n",
       "      <th>Overall Quality</th>\n",
       "    </tr>\n",
       "  </thead>\n",
       "  <tbody>\n",
       "    <tr>\n",
       "      <th>0</th>\n",
       "      <td>4</td>\n",
       "      <td>4</td>\n",
       "      <td>5</td>\n",
       "      <td>5</td>\n",
       "      <td>5</td>\n",
       "      <td>1</td>\n",
       "      <td>5</td>\n",
       "      <td>4</td>\n",
       "    </tr>\n",
       "    <tr>\n",
       "      <th>1</th>\n",
       "      <td>4</td>\n",
       "      <td>4</td>\n",
       "      <td>5</td>\n",
       "      <td>5</td>\n",
       "      <td>1</td>\n",
       "      <td>2</td>\n",
       "      <td>4</td>\n",
       "      <td>4</td>\n",
       "    </tr>\n",
       "    <tr>\n",
       "      <th>2</th>\n",
       "      <td>4</td>\n",
       "      <td>5</td>\n",
       "      <td>4</td>\n",
       "      <td>5</td>\n",
       "      <td>5</td>\n",
       "      <td>5</td>\n",
       "      <td>1</td>\n",
       "      <td>4</td>\n",
       "    </tr>\n",
       "    <tr>\n",
       "      <th>3</th>\n",
       "      <td>5</td>\n",
       "      <td>4</td>\n",
       "      <td>5</td>\n",
       "      <td>3</td>\n",
       "      <td>1</td>\n",
       "      <td>5</td>\n",
       "      <td>4</td>\n",
       "      <td>4</td>\n",
       "    </tr>\n",
       "    <tr>\n",
       "      <th>4</th>\n",
       "      <td>5</td>\n",
       "      <td>4</td>\n",
       "      <td>4</td>\n",
       "      <td>5</td>\n",
       "      <td>5</td>\n",
       "      <td>1</td>\n",
       "      <td>4</td>\n",
       "      <td>5</td>\n",
       "    </tr>\n",
       "    <tr>\n",
       "      <th>5</th>\n",
       "      <td>5</td>\n",
       "      <td>4</td>\n",
       "      <td>5</td>\n",
       "      <td>5</td>\n",
       "      <td>5</td>\n",
       "      <td>5</td>\n",
       "      <td>4</td>\n",
       "      <td>5</td>\n",
       "    </tr>\n",
       "    <tr>\n",
       "      <th>6</th>\n",
       "      <td>5</td>\n",
       "      <td>4</td>\n",
       "      <td>4</td>\n",
       "      <td>5</td>\n",
       "      <td>4</td>\n",
       "      <td>2</td>\n",
       "      <td>5</td>\n",
       "      <td>4</td>\n",
       "    </tr>\n",
       "    <tr>\n",
       "      <th>7</th>\n",
       "      <td>4</td>\n",
       "      <td>4</td>\n",
       "      <td>4</td>\n",
       "      <td>4</td>\n",
       "      <td>5</td>\n",
       "      <td>5</td>\n",
       "      <td>4</td>\n",
       "      <td>4</td>\n",
       "    </tr>\n",
       "    <tr>\n",
       "      <th>8</th>\n",
       "      <td>4</td>\n",
       "      <td>5</td>\n",
       "      <td>4</td>\n",
       "      <td>5</td>\n",
       "      <td>4</td>\n",
       "      <td>3</td>\n",
       "      <td>5</td>\n",
       "      <td>4</td>\n",
       "    </tr>\n",
       "    <tr>\n",
       "      <th>9</th>\n",
       "      <td>5</td>\n",
       "      <td>5</td>\n",
       "      <td>5</td>\n",
       "      <td>5</td>\n",
       "      <td>5</td>\n",
       "      <td>5</td>\n",
       "      <td>4</td>\n",
       "      <td>4</td>\n",
       "    </tr>\n",
       "    <tr>\n",
       "      <th>10</th>\n",
       "      <td>4</td>\n",
       "      <td>5</td>\n",
       "      <td>4</td>\n",
       "      <td>4</td>\n",
       "      <td>2</td>\n",
       "      <td>5</td>\n",
       "      <td>4</td>\n",
       "      <td>4</td>\n",
       "    </tr>\n",
       "    <tr>\n",
       "      <th>11</th>\n",
       "      <td>2</td>\n",
       "      <td>4</td>\n",
       "      <td>4</td>\n",
       "      <td>5</td>\n",
       "      <td>5</td>\n",
       "      <td>5</td>\n",
       "      <td>4</td>\n",
       "      <td>4</td>\n",
       "    </tr>\n",
       "    <tr>\n",
       "      <th>12</th>\n",
       "      <td>5</td>\n",
       "      <td>1</td>\n",
       "      <td>5</td>\n",
       "      <td>5</td>\n",
       "      <td>1</td>\n",
       "      <td>1</td>\n",
       "      <td>4</td>\n",
       "      <td>5</td>\n",
       "    </tr>\n",
       "    <tr>\n",
       "      <th>13</th>\n",
       "      <td>4</td>\n",
       "      <td>4</td>\n",
       "      <td>3</td>\n",
       "      <td>5</td>\n",
       "      <td>4</td>\n",
       "      <td>1</td>\n",
       "      <td>5</td>\n",
       "      <td>4</td>\n",
       "    </tr>\n",
       "    <tr>\n",
       "      <th>14</th>\n",
       "      <td>5</td>\n",
       "      <td>4</td>\n",
       "      <td>4</td>\n",
       "      <td>4</td>\n",
       "      <td>5</td>\n",
       "      <td>5</td>\n",
       "      <td>4</td>\n",
       "      <td>5</td>\n",
       "    </tr>\n",
       "  </tbody>\n",
       "</table>\n",
       "</div>"
      ],
      "text/plain": [
       "    Content Relevance  Information Completeness  Clarity and Structure  \\\n",
       "0                   4                         4                      5   \n",
       "1                   4                         4                      5   \n",
       "2                   4                         5                      4   \n",
       "3                   5                         4                      5   \n",
       "4                   5                         4                      4   \n",
       "5                   5                         4                      5   \n",
       "6                   5                         4                      4   \n",
       "7                   4                         4                      4   \n",
       "8                   4                         5                      4   \n",
       "9                   5                         5                      5   \n",
       "10                  4                         5                      4   \n",
       "11                  2                         4                      4   \n",
       "12                  5                         1                      5   \n",
       "13                  4                         4                      3   \n",
       "14                  5                         4                      4   \n",
       "\n",
       "    Content Accuracy  Hallucinations  Impact of Hallucinations  \\\n",
       "0                  5               5                         1   \n",
       "1                  5               1                         2   \n",
       "2                  5               5                         5   \n",
       "3                  3               1                         5   \n",
       "4                  5               5                         1   \n",
       "5                  5               5                         5   \n",
       "6                  5               4                         2   \n",
       "7                  4               5                         5   \n",
       "8                  5               4                         3   \n",
       "9                  5               5                         5   \n",
       "10                 4               2                         5   \n",
       "11                 5               5                         5   \n",
       "12                 5               1                         1   \n",
       "13                 5               4                         1   \n",
       "14                 4               5                         5   \n",
       "\n",
       "    Relevance to Practice  Overall Quality  \n",
       "0                       5                4  \n",
       "1                       4                4  \n",
       "2                       1                4  \n",
       "3                       4                4  \n",
       "4                       4                5  \n",
       "5                       4                5  \n",
       "6                       5                4  \n",
       "7                       4                4  \n",
       "8                       5                4  \n",
       "9                       4                4  \n",
       "10                      4                4  \n",
       "11                      4                4  \n",
       "12                      4                5  \n",
       "13                      5                4  \n",
       "14                      4                5  "
      ]
     },
     "execution_count": 17,
     "metadata": {},
     "output_type": "execute_result"
    }
   ],
   "source": [
    "df_jud = pd.DataFrame(df_prompt[\"scores\"].values.tolist())\n",
    "# df_jud.columns = [f\"{col}_judge\" for col in df_jud.columns]\n",
    "df_jud"
   ]
  },
  {
   "cell_type": "code",
   "execution_count": 18,
   "metadata": {},
   "outputs": [
    {
     "data": {
      "text/html": [
       "<div>\n",
       "<style scoped>\n",
       "    .dataframe tbody tr th:only-of-type {\n",
       "        vertical-align: middle;\n",
       "    }\n",
       "\n",
       "    .dataframe tbody tr th {\n",
       "        vertical-align: top;\n",
       "    }\n",
       "\n",
       "    .dataframe thead th {\n",
       "        text-align: right;\n",
       "    }\n",
       "</style>\n",
       "<table border=\"1\" class=\"dataframe\">\n",
       "  <thead>\n",
       "    <tr style=\"text-align: right;\">\n",
       "      <th></th>\n",
       "      <th>Content Relevance</th>\n",
       "      <th>Information Completeness</th>\n",
       "      <th>Clarity and Structure</th>\n",
       "      <th>Content Accuracy</th>\n",
       "      <th>Hallucinations</th>\n",
       "      <th>Impact of Hallucinations</th>\n",
       "      <th>Relevance to Practice</th>\n",
       "      <th>Overall Quality</th>\n",
       "      <th>Positive highlights</th>\n",
       "      <th>Negative highlights</th>\n",
       "      <th>Other Comments</th>\n",
       "    </tr>\n",
       "  </thead>\n",
       "  <tbody>\n",
       "    <tr>\n",
       "      <th>0</th>\n",
       "      <td>4</td>\n",
       "      <td>4</td>\n",
       "      <td>4</td>\n",
       "      <td>5</td>\n",
       "      <td>1</td>\n",
       "      <td>1</td>\n",
       "      <td>5</td>\n",
       "      <td>4</td>\n",
       "      <td></td>\n",
       "      <td>falta información sobre tipo de prótesis, ause...</td>\n",
       "      <td></td>\n",
       "    </tr>\n",
       "    <tr>\n",
       "      <th>1</th>\n",
       "      <td>4</td>\n",
       "      <td>3</td>\n",
       "      <td>4</td>\n",
       "      <td>4</td>\n",
       "      <td>1</td>\n",
       "      <td>1</td>\n",
       "      <td>4</td>\n",
       "      <td>4</td>\n",
       "      <td></td>\n",
       "      <td>Se pierde mucha información sobre la explicaci...</td>\n",
       "      <td></td>\n",
       "    </tr>\n",
       "    <tr>\n",
       "      <th>2</th>\n",
       "      <td>4</td>\n",
       "      <td>3</td>\n",
       "      <td>4</td>\n",
       "      <td>3</td>\n",
       "      <td>1</td>\n",
       "      <td>1</td>\n",
       "      <td>3</td>\n",
       "      <td>3</td>\n",
       "      <td>ordena muy bien los resultados de la ecografía.</td>\n",
       "      <td>Faltan los datos hemodinámicos cardiacos y pul...</td>\n",
       "      <td></td>\n",
       "    </tr>\n",
       "    <tr>\n",
       "      <th>3</th>\n",
       "      <td>5</td>\n",
       "      <td>5</td>\n",
       "      <td>3</td>\n",
       "      <td>5</td>\n",
       "      <td>1</td>\n",
       "      <td>1</td>\n",
       "      <td>3</td>\n",
       "      <td>4</td>\n",
       "      <td>datos muy completos, estrcutura fiel al docume...</td>\n",
       "      <td>La parte correspondiente a la  enfermedad actu...</td>\n",
       "      <td></td>\n",
       "    </tr>\n",
       "    <tr>\n",
       "      <th>4</th>\n",
       "      <td>5</td>\n",
       "      <td>5</td>\n",
       "      <td>4</td>\n",
       "      <td>4</td>\n",
       "      <td>1</td>\n",
       "      <td>1</td>\n",
       "      <td>4</td>\n",
       "      <td>4</td>\n",
       "      <td></td>\n",
       "      <td>Se debería mencionar el motivo de admisión: an...</td>\n",
       "      <td></td>\n",
       "    </tr>\n",
       "    <tr>\n",
       "      <th>5</th>\n",
       "      <td>5</td>\n",
       "      <td>5</td>\n",
       "      <td>4</td>\n",
       "      <td>4</td>\n",
       "      <td>1</td>\n",
       "      <td>1</td>\n",
       "      <td>4</td>\n",
       "      <td>4</td>\n",
       "      <td>Muy bien especificado Chief complaint</td>\n",
       "      <td>Se podría separar la enfermedad actual de los ...</td>\n",
       "      <td></td>\n",
       "    </tr>\n",
       "    <tr>\n",
       "      <th>6</th>\n",
       "      <td>4</td>\n",
       "      <td>2</td>\n",
       "      <td>5</td>\n",
       "      <td>4</td>\n",
       "      <td>1</td>\n",
       "      <td>1</td>\n",
       "      <td>2</td>\n",
       "      <td>3</td>\n",
       "      <td>Very well structured and explained. Abbrevatio...</td>\n",
       "      <td>The text has been oversummarized, leaving out ...</td>\n",
       "      <td></td>\n",
       "    </tr>\n",
       "    <tr>\n",
       "      <th>7</th>\n",
       "      <td>5</td>\n",
       "      <td>5</td>\n",
       "      <td>4</td>\n",
       "      <td>5</td>\n",
       "      <td>1</td>\n",
       "      <td>1</td>\n",
       "      <td>5</td>\n",
       "      <td>5</td>\n",
       "      <td></td>\n",
       "      <td>la razón de admisión suele ser algo más genera...</td>\n",
       "      <td></td>\n",
       "    </tr>\n",
       "    <tr>\n",
       "      <th>8</th>\n",
       "      <td>5</td>\n",
       "      <td>4</td>\n",
       "      <td>5</td>\n",
       "      <td>5</td>\n",
       "      <td>1</td>\n",
       "      <td>1</td>\n",
       "      <td>5</td>\n",
       "      <td>5</td>\n",
       "      <td></td>\n",
       "      <td></td>\n",
       "      <td></td>\n",
       "    </tr>\n",
       "    <tr>\n",
       "      <th>9</th>\n",
       "      <td>5</td>\n",
       "      <td>5</td>\n",
       "      <td>5</td>\n",
       "      <td>5</td>\n",
       "      <td>1</td>\n",
       "      <td>1</td>\n",
       "      <td>5</td>\n",
       "      <td>5</td>\n",
       "      <td></td>\n",
       "      <td></td>\n",
       "      <td></td>\n",
       "    </tr>\n",
       "    <tr>\n",
       "      <th>10</th>\n",
       "      <td>5</td>\n",
       "      <td>5</td>\n",
       "      <td>5</td>\n",
       "      <td>5</td>\n",
       "      <td>1</td>\n",
       "      <td>1</td>\n",
       "      <td>5</td>\n",
       "      <td>5</td>\n",
       "      <td>Highly accurate in the diagnosis.An excellent ...</td>\n",
       "      <td>Omited information: ECG Holter and EKG after C...</td>\n",
       "      <td></td>\n",
       "    </tr>\n",
       "    <tr>\n",
       "      <th>11</th>\n",
       "      <td>1</td>\n",
       "      <td>1</td>\n",
       "      <td>4</td>\n",
       "      <td>2</td>\n",
       "      <td>1</td>\n",
       "      <td>1</td>\n",
       "      <td>1</td>\n",
       "      <td>2</td>\n",
       "      <td>Good structure.</td>\n",
       "      <td>Lack of information related with clinical cour...</td>\n",
       "      <td></td>\n",
       "    </tr>\n",
       "    <tr>\n",
       "      <th>12</th>\n",
       "      <td>5</td>\n",
       "      <td>4</td>\n",
       "      <td>5</td>\n",
       "      <td>5</td>\n",
       "      <td>1</td>\n",
       "      <td>1</td>\n",
       "      <td>5</td>\n",
       "      <td>4</td>\n",
       "      <td>Very good performance in general.</td>\n",
       "      <td>Lack of some information e.g., desfibrillator ...</td>\n",
       "      <td></td>\n",
       "    </tr>\n",
       "    <tr>\n",
       "      <th>13</th>\n",
       "      <td>1</td>\n",
       "      <td>1</td>\n",
       "      <td>2</td>\n",
       "      <td>2</td>\n",
       "      <td>1</td>\n",
       "      <td>1</td>\n",
       "      <td>1</td>\n",
       "      <td>2</td>\n",
       "      <td></td>\n",
       "      <td>Too much information omitted and the text is o...</td>\n",
       "      <td></td>\n",
       "    </tr>\n",
       "    <tr>\n",
       "      <th>14</th>\n",
       "      <td>4</td>\n",
       "      <td>3</td>\n",
       "      <td>4</td>\n",
       "      <td>3</td>\n",
       "      <td>1</td>\n",
       "      <td>1</td>\n",
       "      <td>3</td>\n",
       "      <td>3</td>\n",
       "      <td></td>\n",
       "      <td>falta información: mencionar estudio de trombo...</td>\n",
       "      <td></td>\n",
       "    </tr>\n",
       "  </tbody>\n",
       "</table>\n",
       "</div>"
      ],
      "text/plain": [
       "    Content Relevance  Information Completeness  Clarity and Structure  \\\n",
       "0                   4                         4                      4   \n",
       "1                   4                         3                      4   \n",
       "2                   4                         3                      4   \n",
       "3                   5                         5                      3   \n",
       "4                   5                         5                      4   \n",
       "5                   5                         5                      4   \n",
       "6                   4                         2                      5   \n",
       "7                   5                         5                      4   \n",
       "8                   5                         4                      5   \n",
       "9                   5                         5                      5   \n",
       "10                  5                         5                      5   \n",
       "11                  1                         1                      4   \n",
       "12                  5                         4                      5   \n",
       "13                  1                         1                      2   \n",
       "14                  4                         3                      4   \n",
       "\n",
       "    Content Accuracy  Hallucinations  Impact of Hallucinations  \\\n",
       "0                  5               1                         1   \n",
       "1                  4               1                         1   \n",
       "2                  3               1                         1   \n",
       "3                  5               1                         1   \n",
       "4                  4               1                         1   \n",
       "5                  4               1                         1   \n",
       "6                  4               1                         1   \n",
       "7                  5               1                         1   \n",
       "8                  5               1                         1   \n",
       "9                  5               1                         1   \n",
       "10                 5               1                         1   \n",
       "11                 2               1                         1   \n",
       "12                 5               1                         1   \n",
       "13                 2               1                         1   \n",
       "14                 3               1                         1   \n",
       "\n",
       "    Relevance to Practice  Overall Quality  \\\n",
       "0                       5                4   \n",
       "1                       4                4   \n",
       "2                       3                3   \n",
       "3                       3                4   \n",
       "4                       4                4   \n",
       "5                       4                4   \n",
       "6                       2                3   \n",
       "7                       5                5   \n",
       "8                       5                5   \n",
       "9                       5                5   \n",
       "10                      5                5   \n",
       "11                      1                2   \n",
       "12                      5                4   \n",
       "13                      1                2   \n",
       "14                      3                3   \n",
       "\n",
       "                                  Positive highlights  \\\n",
       "0                                                       \n",
       "1                                                       \n",
       "2    ordena muy bien los resultados de la ecografía.    \n",
       "3   datos muy completos, estrcutura fiel al docume...   \n",
       "4                                                       \n",
       "5               Muy bien especificado Chief complaint   \n",
       "6   Very well structured and explained. Abbrevatio...   \n",
       "7                                                       \n",
       "8                                                       \n",
       "9                                                       \n",
       "10  Highly accurate in the diagnosis.An excellent ...   \n",
       "11                                   Good structure.    \n",
       "12                 Very good performance in general.    \n",
       "13                                                      \n",
       "14                                                      \n",
       "\n",
       "                                  Negative highlights Other Comments  \n",
       "0   falta información sobre tipo de prótesis, ause...                 \n",
       "1   Se pierde mucha información sobre la explicaci...                 \n",
       "2   Faltan los datos hemodinámicos cardiacos y pul...                 \n",
       "3   La parte correspondiente a la  enfermedad actu...                 \n",
       "4   Se debería mencionar el motivo de admisión: an...                 \n",
       "5   Se podría separar la enfermedad actual de los ...                 \n",
       "6   The text has been oversummarized, leaving out ...                 \n",
       "7   la razón de admisión suele ser algo más genera...                 \n",
       "8                                                                     \n",
       "9                                                                     \n",
       "10  Omited information: ECG Holter and EKG after C...                 \n",
       "11  Lack of information related with clinical cour...                 \n",
       "12  Lack of some information e.g., desfibrillator ...                 \n",
       "13  Too much information omitted and the text is o...                 \n",
       "14  falta información: mencionar estudio de trombo...                 "
      ]
     },
     "execution_count": 18,
     "metadata": {},
     "output_type": "execute_result"
    }
   ],
   "source": [
    "df_human_ = pd.DataFrame(df_prompt[\"human_score\"].values.tolist())\n",
    "df_human_"
   ]
  },
  {
   "cell_type": "code",
   "execution_count": 19,
   "metadata": {},
   "outputs": [
    {
     "data": {
      "text/plain": [
       "'Highly accurate in the diagnosis.An excellent overall performance'"
      ]
     },
     "execution_count": 19,
     "metadata": {},
     "output_type": "execute_result"
    }
   ],
   "source": [
    "df_human_.loc[10][\"Positive highlights\"]"
   ]
  },
  {
   "cell_type": "code",
   "execution_count": 20,
   "metadata": {},
   "outputs": [
    {
     "data": {
      "text/plain": [
       "'Omited information: ECG Holter and EKG after CV (both are important in FA clinical cases)'"
      ]
     },
     "execution_count": 20,
     "metadata": {},
     "output_type": "execute_result"
    }
   ],
   "source": [
    "df_human_.loc[10][\"Negative highlights\"]"
   ]
  },
  {
   "cell_type": "code",
   "execution_count": 21,
   "metadata": {},
   "outputs": [
    {
     "data": {
      "text/plain": [
       "{'Content Relevance': \"This discharge summary effectively communicates all relevant clinical details and follows a structured and coherent format. It includes a detailed medical history, outlines the patient's presenting complaint, describes the diagnostic procedures in depth, and details the treatment process and its outcome. Additionally, it touches on the patient's follow-up, reinforcing the completeness of the information presented. This level of detail aligns with the highest standard outlined in the score rubric, ensuring all key clinical aspects have been covered. The summary also provides clear instructions for ongoing care, which is crucial in the context of postoperative care. Therefore, it can be concluded that the response is entirely focused on clinically relevant information, fulfilling the highest standards of the score rubric. \\n[RESULT] 5\",\n",
       " 'Information Completeness': \"The response accurately summarizes the medical history, procedure details, and follow-up information, in accordance with the task's requirements. It effectively details the patient's background of neonatal TAPVR repair and her current condition of dyspnea on exertion. The description of the imaging findings, transseptal catheterization, and left lower pulmonary venography provides a thorough account of the diagnostic and treatment processes. Furthermore, the deployment of the AMPLATZER Vascular Plug II and the absence of a pressure gradient post-deployment are well-articulated. The follow-up report also reflects the patient's improved exercise tolerance. Therefore, all essential details required for a comprehensive summary are present in the response. Based on the score rubric's criteria for a score of 5, this response fulfills the expectations of a complete and detailed medical summary. \\n[RESULT] 5\",\n",
       " 'Clarity and Structure': \"The response is very clear and logically structured, closely resembling a professional discharge report. It begins by presenting patient information and continues with a concise summary of the medical history, presenting complaint, investigations, procedures, follow-up, and discharge condition. This progression ensures that the information is presented in a logical sequence, making it easy to understand. Each section of the discharge summary is well-defined and contains all the necessary details without redundancy. For instance, the description of the anomalous connection and the specific measurements of the vertical vein contribute to the clarity and specificity of the report. Furthermore, the language used in the summary is appropriate for a medical report, adding to its professionalism. In addition, the physician's signature at the end of the summary signifies the authenticity and accountability of the information provided. Therefore, based on the score rubric, this response is excellent and would score a 5 due to its clarity, logical organization, and professional tone. \\n[RESULT] 5\",\n",
       " 'Content Accuracy': \"The provided response is well-structured and comprehensive, capturing the essence of the patient's condition, diagnosis, and treatment. It follows the instruction of summarizing the patient's case, from her medical history and the presenting symptoms to the investigative findings, procedures performed, follow-up, and recommendations for future care. Each aspect of the patient's journey is clearly articulated, ensuring a high degree of accuracy and reliability. The response does not contain any significant errors or omissions, and it adheres closely to the original clinical information provided. As such, it fulfills the score rubric requirements, making it an accurate reflection of the clinical information. Therefore, based on the given score rubric, the response is rated as a 5. \\n[RESULT] 5\",\n",
       " 'Hallucinations': \"Upon review, it is evident that the summary provided is entirely accurate, containing no fabricated content or factual inaccuracies. Each aspect of the medical history, investigations, procedures, and follow-up is accurately depicted, with specifics such as the name of the device used and the patient's age and gender. There are no instances of hallucinations or fabricated content. The response demonstrates a clear understanding of the clinical scenario and the procedure performed, making it a reliable source of information. Therefore, based on the score rubric, the summary is free of any issues. \\n[RESULT] 5\",\n",
       " 'Impact of Hallucinations': \"The response provided a comprehensive summary of the patient's case, effectively detailing the medical history, presenting complaint, investigations, procedures, and follow-up results. It maintained a focus on the clinical details and did not introduce any extraneous or non-clinical information. The response adhered to the format and content of the reference answer, which was expected according to the score rubric. The details regarding the medical procedures and the post-procedure assessment were precise, contributing to a well-rounded and informative discharge summary. The recommendations for follow-up care also demonstrated a clear understanding of the patient's needs. Based on these observations, it can be concluded that the response met the highest standard set forth by the score rubric, maintaining a high level of clinical relevance without being affected by any extraneous details. Therefore, the response would receive a score of 5. \\n[RESULT] 5\",\n",
       " 'Relevance to Practice': \"The response provides a comprehensive and structured summary of the patient's condition and the treatment provided. It includes patient information, medical history, presenting complaint, investigations, procedures, follow-up, and discharge condition. However, it lacks the detail and clarity found in a perfect summary. For example, it doesn't mention the size of the vertical vein or the specific type of cardiac intervention used. Moreover, the language used is less formal and could be improved for better clinical utility. Despite these areas of improvement, the response remains largely usable for clinical practice with only minor revisions needed. So the overall score is 4. [RESULT] 4\",\n",
       " 'Overall Quality': \"The response effectively summarizes the medical case with attention to detail and accurate representation of the procedure. It includes all necessary information such as the patient's history, symptoms, and investigations. Moreover, the procedures, including the use of an Agilis steerable sheath and the deployment of an AMPLATZER Vascular Plug II, are accurately described, indicating a thorough understanding of the case. The follow-up is also mentioned, indicating that the patient has been cared for and monitored post-procedure. \\n\\nHowever, there are minor imperfections. The instructions for follow-up care could be more detailed and specific. Additionally, the recommendations at the end of the summary could be more precise, mentioning signs of complications and potential re-interventions. Despite these minor shortcomings, the overall quality of the response is high, adhering closely to the instruction provided. It demonstrates a clear and professional approach to presenting the discharge summary, making it an excellent summary overall. \\n\\nSo the overall score is 4. [RESULT] 4\"}"
      ]
     },
     "execution_count": 21,
     "metadata": {},
     "output_type": "execute_result"
    }
   ],
   "source": [
    "df_prompt[\"feedbacks\"].loc[9]"
   ]
  },
  {
   "cell_type": "code",
   "execution_count": 22,
   "metadata": {},
   "outputs": [
    {
     "name": "stderr",
     "output_type": "stream",
     "text": [
      "/home/bsc/bsc830651/.local/lib/python3.11/site-packages/numpy/lib/function_base.py:2897: RuntimeWarning: invalid value encountered in divide\n",
      "  c /= stddev[:, None]\n",
      "/home/bsc/bsc830651/.local/lib/python3.11/site-packages/numpy/lib/function_base.py:2898: RuntimeWarning: invalid value encountered in divide\n",
      "  c /= stddev[None, :]\n"
     ]
    },
    {
     "data": {
      "text/plain": [
       "{'Content Relevance': 0.6667668935268751,\n",
       " 'Information Completeness': 0.06845462448856664,\n",
       " 'Clarity and Structure': 0.32385202946145236,\n",
       " 'Content Accuracy': -0.2806067666331569,\n",
       " 'Hallucinations': nan,\n",
       " 'Impact of Hallucinations': nan,\n",
       " 'Relevance to Practice': 0.017113656122141656,\n",
       " 'Overall Quality': -0.030772872744833184}"
      ]
     },
     "execution_count": 22,
     "metadata": {},
     "output_type": "execute_result"
    }
   ],
   "source": [
    "import numpy as np\n",
    "{col: np.corrcoef(df_jud[col], df_human_[col])[0, 1] for col in df_jud.columns}"
   ]
  },
  {
   "cell_type": "code",
   "execution_count": 26,
   "metadata": {},
   "outputs": [],
   "source": [
    "df_human_[\"filenameid\"] = df_prompt[\"filenameid\"]\n",
    "df_jud[\"filenameid\"] = df_prompt[\"filenameid\"]"
   ]
  },
  {
   "cell_type": "code",
   "execution_count": 76,
   "metadata": {},
   "outputs": [
    {
     "data": {
      "image/png": "[encoded data removed]",
      "text/plain": [
       "<Figure size 1000x1000 with 2 Axes>"
      ]
     },
     "metadata": {},
     "output_type": "display_data"
    }
   ],
   "source": [
    "import seaborn as sns\n",
    "import matplotlib.pyplot as plt\n",
    "\n",
    "def plot_correlation_heatmap(df_hm, df_llm, suffixes=(\"_hm\", \"_llm\")):\n",
    "    \"\"\"Plot a heatmap of correlations.\"\"\"\n",
    "    \n",
    "    df_hm_llm_corr = df_hm.merge(df_llm, on=\"filenameid\", suffixes=suffixes)\n",
    "    df_hm_llm_corr = df_hm_llm_corr.select_dtypes(np.number).corr()\n",
    "    \n",
    "    fig, ax = plt.subplots(figsize=(10, 10))\n",
    "    x_suffix, y_suffix = suffixes[0], suffixes[1]\n",
    "    x_cols = [col for col in df_hm_llm_corr.columns if col.endswith(x_suffix)]\n",
    "    y_cols = [col for col in df_hm_llm_corr.columns if col.endswith(y_suffix)]\n",
    "\n",
    "    corr_matrix = df_hm_llm_corr.loc[x_cols, y_cols]\n",
    "    sns.heatmap(corr_matrix, annot=True, cmap=\"coolwarm\", fmt=\".2f\", vmin=-1, vmax=1, ax=ax)\n",
    "    ax.set_title(\"Correlation Heatmap: Human vs LLM\")\n",
    "    fig.tight_layout()\n",
    "    # plt.savefig(os.path.join(output_path, \"correlation_heatmap.png\"))   \n",
    "    return fig , corr_matrix\n",
    "\n",
    "fig, corr_matrix = plot_correlation_heatmap(df_human_, df_jud)\n",
    "\n",
    "plt.savefig(\"output/evaluation/prometheus-2-7B/correlation_heatmap.png\")"
   ]
  },
  {
   "cell_type": "code",
   "execution_count": null,
   "metadata": {},
   "outputs": [],
   "source": []
  },
  {
   "cell_type": "code",
   "execution_count": 64,
   "metadata": {},
   "outputs": [
    {
     "name": "stderr",
     "output_type": "stream",
     "text": [
      "/home/bsc/bsc830651/.local/lib/python3.11/site-packages/numpy/lib/function_base.py:2897: RuntimeWarning: invalid value encountered in divide\n",
      "  c /= stddev[:, None]\n",
      "/home/bsc/bsc830651/.local/lib/python3.11/site-packages/numpy/lib/function_base.py:2898: RuntimeWarning: invalid value encountered in divide\n",
      "  c /= stddev[None, :]\n"
     ]
    },
    {
     "data": {
      "text/plain": [
       "{'Content Relevance': 0.666766893526875,\n",
       " 'Information Completeness': 0.06845462448856664,\n",
       " 'Clarity and Structure': 0.32385202946145236,\n",
       " 'Content Accuracy': -0.280606766633157,\n",
       " 'Hallucinations': nan,\n",
       " 'Impact of Hallucinations': nan,\n",
       " 'Relevance to Practice': 0.017113656122141656,\n",
       " 'Overall Quality': -0.030772872744833184}"
      ]
     },
     "execution_count": 64,
     "metadata": {},
     "output_type": "execute_result"
    }
   ],
   "source": [
    "def get_corr_scores(df_human, df_jud):\n",
    "    \"\"\"Compute the correlation scores.\"\"\"\n",
    "    \n",
    "    corr_scores = {}\n",
    "    for col in df_human.select_dtypes(int).columns:\n",
    "        if col == \"filenameid\":\n",
    "            continue\n",
    "        corr_scores[col] = np.corrcoef(df_human[col], df_jud[col])[0, 1]\n",
    "    return corr_scores\n",
    "\n",
    "corr_scores = get_corr_scores(df_human_, df_jud)\n",
    "corr_scores"
   ]
  },
  {
   "cell_type": "code",
   "execution_count": 65,
   "metadata": {},
   "outputs": [
    {
     "data": {
      "text/plain": [
       "{'Content Relevance': 0.6,\n",
       " 'Information Completeness': 1.3333333333333333,\n",
       " 'Clarity and Structure': 0.6,\n",
       " 'Content Accuracy': 1.1333333333333333,\n",
       " 'Hallucinations': 2.8,\n",
       " 'Impact of Hallucinations': 2.4,\n",
       " 'Relevance to Practice': 1.2,\n",
       " 'Overall Quality': 1.0}"
      ]
     },
     "execution_count": 65,
     "metadata": {},
     "output_type": "execute_result"
    }
   ],
   "source": [
    "def get_mae_scores(df_human, df_jud):\n",
    "    \"\"\"Compute the mean absolute error scores.\"\"\"\n",
    "    \n",
    "    mae_scores = {}\n",
    "    for col in df_human.select_dtypes(int).columns:\n",
    "        if col == \"filenameid\":\n",
    "            continue\n",
    "        mae_scores[col] = np.mean(np.abs(df_human[col] - df_jud[col]))\n",
    "    return mae_scores\n",
    "\n",
    "mae_scores = get_mae_scores(df_human_, df_jud)\n",
    "mae_scores"
   ]
  },
  {
   "cell_type": "code",
   "execution_count": 68,
   "metadata": {},
   "outputs": [
    {
     "data": {
      "text/plain": [
       "{'Content Relevance': 0.5222222222222223,\n",
       " 'Information Completeness': 0.1907692307692308,\n",
       " 'Clarity and Structure': 0.45454545454545453,\n",
       " 'Content Accuracy': 0.20740740740740737,\n",
       " 'Hallucinations': 0.3333333333333333,\n",
       " 'Impact of Hallucinations': 0.4210526315789474,\n",
       " 'Relevance to Practice': 0.25230769230769234,\n",
       " 'Overall Quality': 0.1411764705882353}"
      ]
     },
     "execution_count": 68,
     "metadata": {},
     "output_type": "execute_result"
    }
   ],
   "source": [
    "from sklearn.metrics import f1_score\n",
    "def get_f1_scores(df_human, df_jud):\n",
    "    \"\"\"Compute the F1 scores.\"\"\"\n",
    "    \n",
    "    f1_scores = {}\n",
    "    for col in df_human.select_dtypes(int).columns:\n",
    "        if col == \"filenameid\":\n",
    "            continue\n",
    "        f1_scores[col] = f1_score(df_human[col], df_jud[col], average=\"weighted\")\n",
    "    return f1_scores\n",
    "\n",
    "f1_scores = get_f1_scores(df_human_, df_jud)\n",
    "f1_scores"
   ]
  },
  {
   "cell_type": "code",
   "execution_count": 69,
   "metadata": {},
   "outputs": [
    {
     "data": {
      "text/html": [
       "<div>\n",
       "<style scoped>\n",
       "    .dataframe tbody tr th:only-of-type {\n",
       "        vertical-align: middle;\n",
       "    }\n",
       "\n",
       "    .dataframe tbody tr th {\n",
       "        vertical-align: top;\n",
       "    }\n",
       "\n",
       "    .dataframe thead th {\n",
       "        text-align: right;\n",
       "    }\n",
       "</style>\n",
       "<table border=\"1\" class=\"dataframe\">\n",
       "  <thead>\n",
       "    <tr style=\"text-align: right;\">\n",
       "      <th></th>\n",
       "      <th>correlation</th>\n",
       "      <th>mae</th>\n",
       "      <th>f1</th>\n",
       "    </tr>\n",
       "  </thead>\n",
       "  <tbody>\n",
       "    <tr>\n",
       "      <th>Content Relevance</th>\n",
       "      <td>0.666767</td>\n",
       "      <td>0.600000</td>\n",
       "      <td>0.522222</td>\n",
       "    </tr>\n",
       "    <tr>\n",
       "      <th>Information Completeness</th>\n",
       "      <td>0.068455</td>\n",
       "      <td>1.333333</td>\n",
       "      <td>0.190769</td>\n",
       "    </tr>\n",
       "    <tr>\n",
       "      <th>Clarity and Structure</th>\n",
       "      <td>0.323852</td>\n",
       "      <td>0.600000</td>\n",
       "      <td>0.454545</td>\n",
       "    </tr>\n",
       "    <tr>\n",
       "      <th>Content Accuracy</th>\n",
       "      <td>-0.280607</td>\n",
       "      <td>1.133333</td>\n",
       "      <td>0.207407</td>\n",
       "    </tr>\n",
       "    <tr>\n",
       "      <th>Hallucinations</th>\n",
       "      <td>NaN</td>\n",
       "      <td>2.800000</td>\n",
       "      <td>0.333333</td>\n",
       "    </tr>\n",
       "    <tr>\n",
       "      <th>Impact of Hallucinations</th>\n",
       "      <td>NaN</td>\n",
       "      <td>2.400000</td>\n",
       "      <td>0.421053</td>\n",
       "    </tr>\n",
       "    <tr>\n",
       "      <th>Relevance to Practice</th>\n",
       "      <td>0.017114</td>\n",
       "      <td>1.200000</td>\n",
       "      <td>0.252308</td>\n",
       "    </tr>\n",
       "    <tr>\n",
       "      <th>Overall Quality</th>\n",
       "      <td>-0.030773</td>\n",
       "      <td>1.000000</td>\n",
       "      <td>0.141176</td>\n",
       "    </tr>\n",
       "  </tbody>\n",
       "</table>\n",
       "</div>"
      ],
      "text/plain": [
       "                          correlation       mae        f1\n",
       "Content Relevance            0.666767  0.600000  0.522222\n",
       "Information Completeness     0.068455  1.333333  0.190769\n",
       "Clarity and Structure        0.323852  0.600000  0.454545\n",
       "Content Accuracy            -0.280607  1.133333  0.207407\n",
       "Hallucinations                    NaN  2.800000  0.333333\n",
       "Impact of Hallucinations          NaN  2.400000  0.421053\n",
       "Relevance to Practice        0.017114  1.200000  0.252308\n",
       "Overall Quality             -0.030773  1.000000  0.141176"
      ]
     },
     "execution_count": 69,
     "metadata": {},
     "output_type": "execute_result"
    }
   ],
   "source": [
    "df_eval = pd.DataFrame([corr_scores, mae_scores, f1_scores]).T\n",
    "df_eval.columns = [\"correlation\", \"mae\", \"f1\"]\n",
    "df_eval"
   ]
  },
  {
   "cell_type": "code",
   "execution_count": 70,
   "metadata": {},
   "outputs": [],
   "source": [
    "df_eval.to_csv(\"output/evaluation/prometheus-2-7B/evaluation_scores.csv\")"
   ]
  },
  {
   "cell_type": "code",
   "execution_count": 71,
   "metadata": {},
   "outputs": [
    {
     "data": {
      "text/plain": [
       "Content Relevance           0.600000\n",
       "Information Completeness    1.333333\n",
       "Clarity and Structure       0.600000\n",
       "Content Accuracy            1.133333\n",
       "Hallucinations              2.800000\n",
       "Impact of Hallucinations    2.400000\n",
       "Relevance to Practice       1.200000\n",
       "Overall Quality             1.000000\n",
       "dtype: float64"
      ]
     },
     "execution_count": 71,
     "metadata": {},
     "output_type": "execute_result"
    }
   ],
   "source": [
    "df_diff = (df_jud.select_dtypes(int) - df_human_.select_dtypes(int))\n",
    "df_diff[\"filenameid\"] = df_jud[\"filenameid\"]\n",
    "\n",
    "df_diff.select_dtypes(int).abs().mean()"
   ]
  },
  {
   "cell_type": "code",
   "execution_count": 79,
   "metadata": {},
   "outputs": [
    {
     "data": {
      "image/png": "[encoded data removed]",
      "text/plain": [
       "<Figure size 700x700 with 2 Axes>"
      ]
     },
     "metadata": {},
     "output_type": "display_data"
    }
   ],
   "source": [
    "import seaborn as sns\n",
    "\n",
    "plt.figure(figsize=(7, 7))\n",
    "sns.heatmap(df_diff.set_index(\"filenameid\"), annot=True, cmap=\"coolwarm\")\n",
    "plt.title(\"Difference Heatmap: LLM - Human\")\n",
    "plt.tight_layout()\n",
    "plt.savefig(\"output/evaluation/prometheus-2-7B/difference_heatmap.png\")"
   ]
  },
  {
   "cell_type": "code",
   "execution_count": 50,
   "metadata": {},
   "outputs": [
    {
     "name": "stdout",
     "output_type": "stream",
     "text": [
      "              precision    recall  f1-score   support\n",
      "\n",
      "           1       0.00      0.00      0.00         2\n",
      "           2       0.00      0.00      0.00         1\n",
      "           3       0.00      0.00      0.00         3\n",
      "           4       0.10      0.33      0.15         3\n",
      "           5       0.50      0.33      0.40         6\n",
      "\n",
      "    accuracy                           0.20        15\n",
      "   macro avg       0.12      0.13      0.11        15\n",
      "weighted avg       0.22      0.20      0.19        15\n",
      "\n"
     ]
    }
   ],
   "source": [
    "col = \"Information Completeness\"\n",
    "y_true = df_human_[col]\n",
    "y_pred = df_jud[col]\n",
    "\n",
    "from sklearn.metrics import classification_report\n",
    "\n",
    "print(classification_report(y_true, y_pred, zero_division=0))"
   ]
  },
  {
   "cell_type": "code",
   "execution_count": 49,
   "metadata": {},
   "outputs": [
    {
     "name": "stdout",
     "output_type": "stream",
     "text": [
      "              precision    recall  f1-score   support\n",
      "\n",
      "           1       0.00      0.00      0.00         2\n",
      "           2       0.00      0.00      0.00         0\n",
      "           4       0.43      0.60      0.50         5\n",
      "           5       0.71      0.62      0.67         8\n",
      "\n",
      "    accuracy                           0.53        15\n",
      "   macro avg       0.29      0.31      0.29        15\n",
      "weighted avg       0.52      0.53      0.52        15\n",
      "\n"
     ]
    }
   ],
   "source": [
    "col = \"Content Relevance\"\n",
    "y_true = df_human_[col]\n",
    "y_pred = df_jud[col]\n",
    "\n",
    "from sklearn.metrics import classification_report\n",
    "\n",
    "print(classification_report(y_true, y_pred, zero_division=0))"
   ]
  },
  {
   "cell_type": "code",
   "execution_count": 57,
   "metadata": {},
   "outputs": [
    {
     "name": "stdout",
     "output_type": "stream",
     "text": [
      "|                          | 33857916                                                                                                                                                                                                                                                                                                                                                                                                                                                                                                                                                                                                                                                                                                                                                                                                                                                                                                                                                                                                                                                                                                                                                                             |\n",
      "|:-------------------------|:-------------------------------------------------------------------------------------------------------------------------------------------------------------------------------------------------------------------------------------------------------------------------------------------------------------------------------------------------------------------------------------------------------------------------------------------------------------------------------------------------------------------------------------------------------------------------------------------------------------------------------------------------------------------------------------------------------------------------------------------------------------------------------------------------------------------------------------------------------------------------------------------------------------------------------------------------------------------------------------------------------------------------------------------------------------------------------------------------------------------------------------------------------------------------------------|\n",
      "| Content Relevance        | The summary provided does cover several relevant details from the clinical case. However, it falls short in terms of comprehensiveness. The summary includes the patient's medical history, discharge details, and the hospital course. However, there are several key aspects that are missing or underdeveloped. For instance, the summary does not mention the patient's history of smoking, the details about the COVID-19 diagnosis and its treatment, and the complications during the hospital stay such as encephalopathy, respiratory decompensation, acute kidney injury, and recurrent infections. Furthermore, it does not mention the final diagnosis of Rhizopus microsporus and its management, nor does it provide any recommendations for follow-up. These omissions result in a summary that, while touching upon the relevant information, does not provide a complete picture of the patient's situation. Therefore, based on the score rubric, the summary has included only a few clinically relevant details, and thus, would score a 2.                                                                                                                      |\n",
      "|                          | [RESULT] 2                                                                                                                                                                                                                                                                                                                                                                                                                                                                                                                                                                                                                                                                                                                                                                                                                                                                                                                                                                                                                                                                                                                                                                           |\n",
      "| Information Completeness | The summary effectively includes most key details, providing an in-depth account of the patient's history, including the heart transplantation, COVID-19 diagnosis, and subsequent complications. However, a few minor elements are missing. For instance, it does not detail the ongoing immunosuppressive therapy and how this influenced treatment decisions. Additionally, while it mentions the organisms that were isolated from the wound cultures, it fails to address the initiation of specific antifungal agents and the subsequent management of these infections. The summary also omits the follow-up details post-discharge, such as the subsequent chest wall reconstruction and long-term outcomes. These omissions, although not central to the overall narrative, do impact the completeness of the summary. The inclusion of all these details would make the summary more thorough and comprehensive. Therefore, while the summary is quite robust, it falls slightly short of the ideal comprehensiveness as outlined in the score rubric.                                                                                                                     |\n",
      "|                          | [RESULT] 4                                                                                                                                                                                                                                                                                                                                                                                                                                                                                                                                                                                                                                                                                                                                                                                                                                                                                                                                                                                                                                                                                                                                                                           |\n",
      "| Clarity and Structure    | The response is organized in a manner similar to a discharge summary and is logically structured. The information is presented clearly, detailing the patient's past medical history, surgical procedures, and the course of treatment. However, the section on laboratory and imaging studies could benefit from a clearer delineation of the tests performed, as the list seems slightly disjointed and might be difficult to follow. Additionally, the \"Hospital Course\" section could be further improved by incorporating more details about the patient's ongoing management and the multitude of infections he developed, which would make the summary more comprehensive. The outcome is appropriately summarized, concluding the patient's journey through the hospital. While the response is overall well-structured, the minor issues mentioned suggest room for improvement to achieve a perfect score. So the overall score is 4. [RESULT] 4                                                                                                                                                                                                                           |\n",
      "| Content Accuracy         | This summary accurately reflects the clinical information provided in the input, adhering to the score rubric's criteria. It effectively conveys the patient's pre-existing conditions, admission and readmission details, clinical findings, and laboratory and imaging studies. The summary also details the patient's hospital course, including the management of sternal wound dehiscence, infection complications, and surgical interventions. It maintains consistency with the original input in terms of the patient's demographic information, medical history, and treatment regimen, which is crucial for an accurate reflection of clinical information. Furthermore, the summary includes essential details such as the positive SARS-CoV-2 test and the subsequent treatment plan. By incorporating these elements, the summary meets the expectations for a score of 5, as it provides a comprehensive and precise summary of the patient's medical journey. So the overall score is 5. [RESULT] 5                                                                                                                                                                   |\n",
      "| Hallucinations           | Upon review, there are several factual inaccuracies and fabricated content in the summary. For example, the patient's discharge date is incorrectly listed as March 2020 when it should be as late as July or August 2020, as he was readmitted with severe complications within two months of his discharge. Furthermore, the patient was not treated with interleukin inhibitors or any form of antiviral medication like remdesivir, and the mention of this treatment is misleading. Additionally, the response suggests that the patient received one convalescent plasma infusion, whereas there was no such treatment mentioned in the instruction. This discrepancy undermines the credibility of the summary. Furthermore, there is no mention of MMF being discontinued or the initiation of cyclosporine in the given instruction, which indicates significant fabricated content in the summary. It's important to provide accurate information, especially in a medical context, to avoid misinformation and ensure proper patient management. Therefore, the score is 5 due to the presence of significant fabricated or inaccurate content in the summary. [RESULT] 5 |\n",
      "| Impact of Hallucinations | Upon reviewing the provided response, it becomes evident that the response failed to deliver an accurate and comprehensive summary of the patient's case. The absence of detailed descriptions concerning the patient's history, procedures, and outcomes leads to an oversimplification of the clinical scenario. This lack of depth results in the omission of key information which significantly affects the overall understanding of the patient's condition.                                                                                                                                                                                                                                                                                                                                                                                                                                                                                                                                                                                                                                                                                                                   |\n",
      "|                          |                                                                                                                                                                                                                                                                                                                                                                                                                                                                                                                                                                                                                                                                                                                                                                                                                                                                                                                                                                                                                                                                                                                                                                                      |\n",
      "|                          | Moreover, the response is riddled with errors and inconsistencies, with some crucial aspects of the patient's journey being neglected or misrepresented. For example, the information about the patient's allergies, his response to different medications, and the subsequent dosing adjustments are either glossed over or completely omitted. Furthermore, the sequence of the patient's treatments, as well as the descriptions of the complications that arose, is presented in a manner that disrupts the logical flow of the narrative.                                                                                                                                                                                                                                                                                                                                                                                                                                                                                                                                                                                                                                       |\n",
      "|                          |                                                                                                                                                                                                                                                                                                                                                                                                                                                                                                                                                                                                                                                                                                                                                                                                                                                                                                                                                                                                                                                                                                                                                                                      |\n",
      "|                          | In conclusion, the severe lack of clarity and detail in the response makes it difficult to grasp the gravity of the patient's situation. Key elements of the patient's journey, such as medication dosages, critical procedures, and the implications of the patient's clinical status, are either inadequately addressed or entirely absent. These omissions and inaccuracies significantly reduce the effectiveness of the response as a comprehensive summary of the patient's case. Therefore, according to the score rubric, the hallucinations in the response are severe, impacting critical clinical information such as medication doses or procedures. So the overall score is 5. [RESULT] 5                                                                                                                                                                                                                                                                                                                                                                                                                                                                               |\n",
      "| Relevance to Practice    | This summary is quite detailed and provides a comprehensive overview of the patient's medical history, clinical findings, laboratory and imaging studies, hospital course, and outcome. It is clear that a lot of effort has been put into compiling this information. However, it falls short of being fully usable in clinical practice due to the lack of clarity and specificity in some areas.                                                                                                                                                                                                                                                                                                                                                                                                                                                                                                                                                                                                                                                                                                                                                                                  |\n",
      "|                          |                                                                                                                                                                                                                                                                                                                                                                                                                                                                                                                                                                                                                                                                                                                                                                                                                                                                                                                                                                                                                                                                                                                                                                                      |\n",
      "|                          | For instance, the term 'mycophenolate mofetil' is used, but there is no indication of the dosage, which is critical in clinical practice. Additionally, the name of the fungus, 'Rhizopus microsporus,' is mentioned, but the way the information is presented could lead to confusion.                                                                                                                                                                                                                                                                                                                                                                                                                                                                                                                                                                                                                                                                                                                                                                                                                                                                                              |\n",
      "|                          |                                                                                                                                                                                                                                                                                                                                                                                                                                                                                                                                                                                                                                                                                                                                                                                                                                                                                                                                                                                                                                                                                                                                                                                      |\n",
      "|                          | While the overall content of the summary is informative, the lack of precise dosages, specifics about the fungus infection, and a clearer presentation of the information would make it more usable in clinical practice.                                                                                                                                                                                                                                                                                                                                                                                                                                                                                                                                                                                                                                                                                                                                                                                                                                                                                                                                                            |\n",
      "|                          |                                                                                                                                                                                                                                                                                                                                                                                                                                                                                                                                                                                                                                                                                                                                                                                                                                                                                                                                                                                                                                                                                                                                                                                      |\n",
      "|                          | So the overall score is 4 because, while the summary is largely usable with only minor revisions needed, there are certain elements that require refinement for better clinical utility.                                                                                                                                                                                                                                                                                                                                                                                                                                                                                                                                                                                                                                                                                                                                                                                                                                                                                                                                                                                             |\n",
      "|                          | [RESULT] 4                                                                                                                                                                                                                                                                                                                                                                                                                                                                                                                                                                                                                                                                                                                                                                                                                                                                                                                                                                                                                                                                                                                                                                           |\n",
      "| Overall Quality          | The summary is quite well-constructed, offering comprehensive details regarding the patient's medical history, admission details, clinical findings, laboratory and imaging studies, and hospital course. However, there are slight imperfections in its presentation, which slightly reduce its overall quality. For instance, the fact that the patient was not eligible for interleukin inhibitors due to immunosuppressive therapy could have been more clearly stated in the clinical findings section. Additionally, the patient's chronic kidney disease and history of smoking could have been included in the medical history section for better context. Moreover, the description of the sternal wound debridement and vacuum therapy could have been elaborated more for clarity. These minor shortcomings do not significantly detract from the quality of the summary, but they do prevent it from achieving the highest possible score. Overall, the discharge summary is informative and well-structured, and thus is of high quality, with minor imperfections.                                                                                                     |\n",
      "|                          | [RESULT] 4                                                                                                                                                                                                                                                                                                                                                                                                                                                                                                                                                                                                                                                                                                                                                                                                                                                                                                                                                                                                                                                                                                                                                                           |\n"
     ]
    }
   ],
   "source": [
    "df_qual_eval = df_prompt.copy()\n",
    "df_qual_eval.set_index(\"filenameid\", inplace=True)\n",
    "df_fb = df_qual_eval[\"feedbacks\"].apply(pd.Series)\n",
    "print(df_fb.loc[\"33857916\"].to_markdown())"
   ]
  },
  {
   "cell_type": "code",
   "execution_count": 60,
   "metadata": {},
   "outputs": [
    {
     "name": "stdout",
     "output_type": "stream",
     "text": [
      "|                          | 11                                                                                                                                                        |\n",
      "|:-------------------------|:----------------------------------------------------------------------------------------------------------------------------------------------------------|\n",
      "| Content Relevance        | 1                                                                                                                                                         |\n",
      "| Information Completeness | 1                                                                                                                                                         |\n",
      "| Clarity and Structure    | 4                                                                                                                                                         |\n",
      "| Content Accuracy         | 2                                                                                                                                                         |\n",
      "| Hallucinations           | 1                                                                                                                                                         |\n",
      "| Impact of Hallucinations | 1                                                                                                                                                         |\n",
      "| Relevance to Practice    | 1                                                                                                                                                         |\n",
      "| Overall Quality          | 2                                                                                                                                                         |\n",
      "| Positive highlights      | Good structure.                                                                                                                                           |\n",
      "| Negative highlights      | Lack of information related with clinical course and outcome. Patient evoluciton is not completly well explained. These parts are important in this case. |\n",
      "| Other Comments           |                                                                                                                                                           |\n",
      "| filenameid               | 33857916                                                                                                                                                  |\n"
     ]
    }
   ],
   "source": [
    "print(df_human_[df_human_[\"filenameid\"] == \"33857916\"].T.to_markdown())"
   ]
  }
 ],
 "metadata": {
  "kernelspec": {
   "display_name": "msds",
   "language": "python",
   "name": "python3"
  },
  "language_info": {
   "codemirror_mode": {
    "name": "ipython",
    "version": 3
   },
   "file_extension": ".py",
   "mimetype": "text/x-python",
   "name": "python",
   "nbconvert_exporter": "python",
   "pygments_lexer": "ipython3",
   "version": "3.11.11"
  }
 },
 "nbformat": 4,
 "nbformat_minor": 2
}
